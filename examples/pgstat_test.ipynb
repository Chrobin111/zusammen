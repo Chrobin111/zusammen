{
 "cells": [
  {
   "cell_type": "markdown",
   "metadata": {},
   "source": [
    "## Data"
   ]
  },
  {
   "cell_type": "code",
   "execution_count": null,
   "metadata": {},
   "outputs": [],
   "source": [
    "from random import random\n",
    "import numpy as np"
   ]
  },
  {
   "cell_type": "markdown",
   "metadata": {},
   "source": [
    "```C\n",
    "int N;\n",
    "vector[N] observed_counts;\n",
    "vector[N] background_counts;\n",
    "vector[N] background_errors;\n",
    "vector[N] expected_model_counts;\n",
    "array[N] int idx_background_zero;\n",
    "array[N] int idx_background_nonzero;\n",
    "```"
   ]
  },
  {
   "cell_type": "code",
   "execution_count": null,
   "metadata": {},
   "outputs": [],
   "source": [
    "N = 20\n",
    "observed_counts = np.array([600 * random() for _ in range(N)])\n",
    "background_counts = np.array([3 * random() for _ in range(N)])\n",
    "background_errors = np.array([random() for _ in range(N)])\n",
    "expected_model_counts = np.array([1e-5 * random() for _ in range(N)])"
   ]
  },
  {
   "cell_type": "code",
   "execution_count": null,
   "metadata": {},
   "outputs": [],
   "source": [
    "idx_background_zero = np.zeros(N)\n",
    "idx_background_nonzero = np.zeros(N)\n",
    "\n",
    "N_bkg_zero = 0\n",
    "N_bkg_nonzero = 0\n",
    "for i in range(N):\n",
    "    if background_counts[i] == 0:\n",
    "        N_bkg_zero += 1\n",
    "        idx_background_zero[i] = N_bkg_zero\n",
    "    else:\n",
    "        N_bkg_nonzero += 1\n",
    "        idx_background_nonzero[i] = N_bkg_nonzero\n",
    "    # if random() < 0.1:\n",
    "    #     background_counts[i] = 0"
   ]
  },
  {
   "cell_type": "code",
   "execution_count": null,
   "metadata": {},
   "outputs": [],
   "source": [
    "data = dict(\n",
    "    N=N,\n",
    "    observed_counts=observed_counts,\n",
    "    background_counts=background_counts,\n",
    "    background_errors=background_errors,\n",
    "    expected_model_counts=expected_model_counts,\n",
    "    idx_background_zero=np.array(idx_background_zero).astype(np.int64),\n",
    "    idx_background_nonzero=np.array(idx_background_nonzero).astype(np.int64),\n",
    "    N_bkg_zero=N_bkg_zero,\n",
    "    N_bkg_nonzero=N_bkg_nonzero,\n",
    ")"
   ]
  },
  {
   "cell_type": "markdown",
   "metadata": {},
   "source": [
    "## 3ML"
   ]
  },
  {
   "cell_type": "code",
   "execution_count": null,
   "metadata": {},
   "outputs": [],
   "source": [
    "from math import sqrt, log, pi, lgamma\n",
    "from threeML.utils.statistics.likelihood_functions import xlogy_one"
   ]
  },
  {
   "cell_type": "code",
   "execution_count": null,
   "metadata": {},
   "outputs": [],
   "source": [
    "def pgstat_3ml(\n",
    "    observed_counts, background_counts, background_error, expected_model_counts\n",
    "):\n",
    "\n",
    "    # This loglike assume Gaussian errors on the background and Poisson uncertainties on the\n",
    "\n",
    "    # observed counts. It is a profile likelihood.\n",
    "    n = background_counts.shape[0]\n",
    "\n",
    "    log_likes = np.empty(n, dtype=np.float64)\n",
    "    b = np.empty(n, dtype=np.float64)\n",
    "\n",
    "    for idx in range(n):\n",
    "\n",
    "        MB = background_counts[idx] + expected_model_counts[idx]\n",
    "        s2 = background_error[idx] * background_error[idx]  # type: np.ndarray\n",
    "\n",
    "        b[idx] = 0.5 * (\n",
    "            sqrt(MB * MB - 2 * s2 * (MB - 2 * observed_counts[idx]) + s2 * s2)\n",
    "            + background_counts[idx]\n",
    "            - expected_model_counts[idx]\n",
    "            - s2\n",
    "        )  # type: np.ndarray\n",
    "\n",
    "        # Now there are two branches: when the background is 0 we are in the normal situation of a pure\n",
    "        # Poisson likelihood, while when the background is not zero we use the profile likelihood\n",
    "\n",
    "        # NOTE: bkgErr can be 0 only when also bkgCounts = 0\n",
    "        # Also it is evident from the expression above that when bkgCounts = 0 and bkgErr=0 also b=0\n",
    "\n",
    "        # Let's do the branch with background > 0 first\n",
    "\n",
    "        if background_counts[idx] > 0:\n",
    "\n",
    "            log_likes[idx] = (\n",
    "                -((b[idx] - background_counts[idx]) ** 2) / (2 * s2)\n",
    "                + observed_counts[idx] * log(b[idx] + expected_model_counts[idx])\n",
    "                - b[idx]\n",
    "                - expected_model_counts[idx]\n",
    "                - lgamma(observed_counts[idx] + 1)\n",
    "                - 0.5 * log(2 * pi)\n",
    "                - log(background_error[idx])\n",
    "            )\n",
    "\n",
    "        # Let's do the other branch\n",
    "\n",
    "        else:\n",
    "\n",
    "            # the 1e-100 in the log is to avoid zero divisions\n",
    "            # This is the Poisson likelihood with no background\n",
    "            log_likes[idx] = (\n",
    "                xlogy_one(observed_counts[idx], expected_model_counts[idx])\n",
    "                - expected_model_counts[idx]\n",
    "                - lgamma(observed_counts[idx] + 1)\n",
    "            )\n",
    "\n",
    "    return log_likes"
   ]
  },
  {
   "cell_type": "code",
   "execution_count": null,
   "metadata": {},
   "outputs": [],
   "source": [
    "for i in range(N):\n",
    "    pgstat_3ml_list = pgstat_3ml(background_counts=background_counts, background_error=background_errors, observed_counts=observed_counts, expected_model_counts=expected_model_counts)\n",
    "pgstat_3ml_list"
   ]
  },
  {
   "cell_type": "markdown",
   "metadata": {},
   "source": [
    "## Stan"
   ]
  },
  {
   "cell_type": "code",
   "execution_count": null,
   "metadata": {},
   "outputs": [],
   "source": [
    "import os, sys\n",
    "parent_dir = os.path.abspath('..')\n",
    "if parent_dir not in sys.path:\n",
    "    sys.path.append(parent_dir)\n",
    "\n",
    "from zusammen.stan_models.stan_model import get_model\n",
    "from zusammen import AnalysisBuilder, DataSet\n",
    "from zusammen.spectral_plot import display_posterior_model_counts"
   ]
  },
  {
   "cell_type": "code",
   "execution_count": null,
   "metadata": {},
   "outputs": [],
   "source": [
    "mt = get_model(\"pgstat_test\")\n",
    "mt.build_model()\n",
    "mt.model.sample(data=data, fixed_param=True, show_console=True)"
   ]
  },
  {
   "cell_type": "markdown",
   "metadata": {},
   "source": [
    "## Comparison\n",
    "3ML:\n",
    "```python\n",
    "array([ -167.7694011 , -1994.66237653,   -98.24866785, -1637.35182234,\n",
    "       -1154.07910362,  -316.68887444,  -530.40550602,  -934.71597183,\n",
    "       -1542.09324413, -1241.30541153,   -30.22217146,   -82.57800668,\n",
    "        -725.45924881,  -119.52227875, -1638.64787183,  -802.58327595,\n",
    "       -1462.02490065, -1786.18362936,  -918.10856812,  -480.09451077])\n",
    "```\n",
    "Stan:\n",
    "```C\n",
    "[-167.769,-1994.66,-98.2487,-1637.35,-1154.08,\n",
    " -316.689,-530.406,-934.716,-1542.09,-1241.31,-30.2222,\n",
    " -82.578,-725.459,-119.522,-1638.65,-802.583,-1462.02,\n",
    " -1786.18,-918.109,-480.095]\n",
    "```"
   ]
  },
  {
   "cell_type": "code",
   "execution_count": null,
   "metadata": {},
   "outputs": [],
   "source": [
    "for i, j in zip(\n",
    "    [\n",
    "        -167.769, -1994.66, -98.2487, -1637.35, -1154.08, -316.689, -530.406, -934.716, -1542.09, -1241.31, -30.2222, -82.578, -725.459, -119.522, -1638.65, -802.583, -1462.02, -1786.18, -918.109, -480.095,\n",
    "    ],\n",
    "    [\n",
    "        -167.7694011, -1994.66237653, -98.24866785, -1637.35182234, -1154.07910362, -316.68887444, -530.40550602, -934.71597183, -1542.09324413, -1241.30541153, -30.22217146, -82.57800668, -725.45924881, -119.52227875, -1638.64787183, -802.58327595, -1462.02490065, -1786.18362936, -918.10856812, -480.09451077,\n",
    "    ],\n",
    "):\n",
    "    print(abs(i - j) < 0.01)"
   ]
  },
  {
   "cell_type": "code",
   "execution_count": null,
   "metadata": {},
   "outputs": [],
   "source": []
  }
 ],
 "metadata": {
  "kernelspec": {
   "display_name": "Python 3.8.13 ('bachelor-3.8')",
   "language": "python",
   "name": "python3"
  },
  "language_info": {
   "codemirror_mode": {
    "name": "ipython",
    "version": 3
   },
   "file_extension": ".py",
   "mimetype": "text/x-python",
   "name": "python",
   "nbconvert_exporter": "python",
   "pygments_lexer": "ipython3",
   "version": "3.8.13"
  },
  "orig_nbformat": 4,
  "vscode": {
   "interpreter": {
    "hash": "80e5f02f3fa944d55293b1e2ff20ea568041a9b3cc6e2d47bcda60589be25eb6"
   }
  }
 },
 "nbformat": 4,
 "nbformat_minor": 2
}
