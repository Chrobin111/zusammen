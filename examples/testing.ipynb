{
 "cells": [
  {
   "cell_type": "code",
   "execution_count": null,
   "metadata": {},
   "outputs": [],
   "source": [
    "from pathlib import Path\n",
    "\n",
    "# import numba as nb\n",
    "import numpy as np\n",
    "import scipy.stats as stats\n",
    "\n",
    "# from natsort import natsorted\n",
    "\n",
    "import matplotlib.pyplot as plt\n",
    "\n",
    "\n",
    "# plt.style.use(\"mike\")\n",
    "# import warnings\n",
    "# warnings.simplefilter(\"ignore\")\n",
    "# warnings.filterwarnings(\"ignore\")\n",
    "\n",
    "\n",
    "# import astropy.units as u\n",
    "\n",
    "# import cmasher as cmr\n",
    "\n",
    "green = \"#33FF86\"\n",
    "purple = \"#CE33FF\"\n",
    "\n",
    "%matplotlib widget\n",
    "from cosmogrb.universe.survey import Survey\n",
    "\n",
    "import os, sys\n",
    "parent_dir = os.path.abspath('..')\n",
    "if parent_dir not in sys.path:\n",
    "    sys.path.append(parent_dir)\n",
    "\n",
    "from zusammen.stan_models.stan_model import get_model\n",
    "from zusammen import AnalysisBuilder, DataSet\n",
    "from zusammen.spectral_plot import display_posterior_model_counts\n",
    "\n",
    "from threeML import update_logging_level\n",
    "\n",
    "import arviz as av\n",
    "\n",
    "\n",
    "update_logging_level(\"FATAL\")\n",
    "\n",
    "\n",
    "from astromodels import Band_Calderone, PointSource, Model\n",
    "\n",
    "\n",
    "from threeML import JointLikelihood, DataList, display_spectrum_model_counts\n",
    "\n",
    "from astromodels import Cutoff_powerlaw\n",
    "\n",
    "import popsynth as ps"
   ]
  },
  {
   "cell_type": "markdown",
   "metadata": {},
   "source": [
    "Import the survey and process the GRBs"
   ]
  },
  {
   "cell_type": "code",
   "execution_count": null,
   "metadata": {
    "tags": []
   },
   "outputs": [],
   "source": [
    "survey = Survey.from_file('data/survey.h5')\n",
    "ab = AnalysisBuilder(survey, use_bb=True, intervals_min=2, sig_min=5, all_above_limit=False)"
   ]
  },
  {
   "cell_type": "code",
   "execution_count": null,
   "metadata": {},
   "outputs": [],
   "source": [
    "ab.write_yaml(\"test_proc.yml\")"
   ]
  },
  {
   "cell_type": "code",
   "execution_count": null,
   "metadata": {
    "tags": []
   },
   "outputs": [],
   "source": [
    "ds = DataSet.from_yaml(\"test_proc.yml\")"
   ]
  },
  {
   "cell_type": "code",
   "execution_count": null,
   "metadata": {
    "tags": []
   },
   "outputs": [],
   "source": [
    "ds.to_hdf5_file(\"sgrb.h5\")"
   ]
  },
  {
   "cell_type": "code",
   "execution_count": null,
   "metadata": {},
   "outputs": [],
   "source": [
    "ds = DataSet.from_hdf5_file('sgrb.h5')"
   ]
  },
  {
   "cell_type": "code",
   "execution_count": null,
   "metadata": {},
   "outputs": [],
   "source": [
    "data = ds.to_stan_dict()\n",
    "data"
   ]
  },
  {
   "cell_type": "code",
   "execution_count": null,
   "metadata": {},
   "outputs": [],
   "source": [
    "maxl = []\n",
    "for i,j in enumerate(ds.to_stan_dict()[\"observed_counts\"]):\n",
    "    maxl.append(j.max())\n",
    "    print(i, j.max())\n",
    "\n",
    "print(max(maxl))"
   ]
  },
  {
   "cell_type": "code",
   "execution_count": null,
   "metadata": {},
   "outputs": [],
   "source": [
    "%matplotlib widget\n",
    "i,j = 0,0\n",
    "plt.plot(ds.to_stan_dict()[\"response\"][i,j].T @ ds.to_stan_dict()['observed_counts'][i,j])"
   ]
  },
  {
   "cell_type": "markdown",
   "metadata": {},
   "source": [
    "Make Stan model"
   ]
  },
  {
   "cell_type": "code",
   "execution_count": null,
   "metadata": {},
   "outputs": [],
   "source": [
    "mt = get_model(\"test\")\n",
    "mt.build_model()\n",
    "mt.model.sample(chains=1, show_console=True, iter_warmup=1, iter_sampling=1)"
   ]
  },
  {
   "cell_type": "code",
   "execution_count": null,
   "metadata": {},
   "outputs": [],
   "source": [
    "m = get_model(\"cpl_simple_chunked_gc\")"
   ]
  },
  {
   "cell_type": "code",
   "execution_count": null,
   "metadata": {},
   "outputs": [],
   "source": [
    "m.clean_model()"
   ]
  },
  {
   "cell_type": "code",
   "execution_count": null,
   "metadata": {},
   "outputs": [],
   "source": [
    "m.build_model(opt_exp=True)"
   ]
  },
  {
   "cell_type": "code",
   "execution_count": null,
   "metadata": {},
   "outputs": [],
   "source": [
    "data = ds.to_stan_dict()\n",
    "\n",
    "n_threads = 2\n",
    "n_chains = 2\n",
    "\n",
    "fit = m.model.sample(\n",
    "    data=data,\n",
    "    chains=n_chains,\n",
    "    parallel_chains=n_chains,\n",
    "    threads_per_chain=n_threads,\n",
    "    inits= {\n",
    "        'alpha': -1 * np.ones(data['N_intervals']),\n",
    "        'log_ec': 2 * np.ones(data['N_intervals']),\n",
    "\n",
    "        # 'log_energy_flux': -7 * np.ones(data['N_intervals']),\n",
    "        # 'log_K': -1 * np.ones(data['N_intervals']),\n",
    "\n",
    "        # 'log_energy_flux_mu_raw': 0,\n",
    "        # 'log_energy_flux_sigma': 1,\n",
    "        # 'log_energy_flux_raw': np.zeros(data['N_intervals']),\n",
    "\n",
    "        'gamma_sig_meta': 1,\n",
    "        'log_Nrest_sig_meta': 1,\n",
    "        'gamma_mu_meta': 1.5,\n",
    "        'log_Nrest_mu_meta': 52,\n",
    "        'gamma': 1.5 * np.ones(data['N_grbs']),\n",
    "        'log_Nrest': 52 * np.ones(data['N_grbs']),\n",
    "\n",
    "        # 'z': 0.5 * np.ones(data['N_unknown'])\n",
    "    },  # type: ignore\n",
    "    seed=1234,\n",
    "    iter_warmup=1000,\n",
    "    iter_sampling=500,\n",
    "    max_treedepth=12,\n",
    "    adapt_delta=0.9,\n",
    "    # step_size=0.1,\n",
    "    show_progress=True,\n",
    "    # show_console=True,\n",
    "    refresh=1\n",
    ")"
   ]
  },
  {
   "cell_type": "code",
   "execution_count": null,
   "metadata": {},
   "outputs": [],
   "source": [
    "fit"
   ]
  },
  {
   "cell_type": "code",
   "execution_count": null,
   "metadata": {},
   "outputs": [],
   "source": [
    "fit.diagnose()"
   ]
  },
  {
   "cell_type": "markdown",
   "metadata": {},
   "source": [
    "Import Stan results into arviz"
   ]
  },
  {
   "cell_type": "code",
   "execution_count": null,
   "metadata": {},
   "outputs": [],
   "source": [
    "res = av.from_cmdstanpy(fit)"
   ]
  },
  {
   "cell_type": "code",
   "execution_count": null,
   "metadata": {},
   "outputs": [],
   "source": [
    "res.to_netcdf(\"inference_data/testing_analytic_gc.nc\")"
   ]
  },
  {
   "cell_type": "code",
   "execution_count": null,
   "metadata": {},
   "outputs": [],
   "source": [
    "res = av.from_netcdf(\"inference_data/testing_analytic_gc.nc\")"
   ]
  },
  {
   "cell_type": "code",
   "execution_count": null,
   "metadata": {},
   "outputs": [],
   "source": [
    "res.sample_stats.tree_depth.max()"
   ]
  },
  {
   "cell_type": "code",
   "execution_count": null,
   "metadata": {},
   "outputs": [],
   "source": [
    "%matplotlib widget\n",
    "av.plot_trace(res)"
   ]
  },
  {
   "cell_type": "code",
   "execution_count": null,
   "metadata": {},
   "outputs": [],
   "source": [
    "%matplotlib widget\n",
    "for i in range(data['N_intervals']):\n",
    "    av.plot_trace(res, var_names=[\"ec\"], coords={\"ec_dim_0\": i})"
   ]
  },
  {
   "cell_type": "code",
   "execution_count": null,
   "metadata": {},
   "outputs": [],
   "source": [
    "%matplotlib widget\n",
    "av.plot_pair(res, divergences=True)"
   ]
  },
  {
   "cell_type": "code",
   "execution_count": null,
   "metadata": {},
   "outputs": [],
   "source": [
    "div = res.sample_stats.diverging.stack(sample=(\"chain\", \"draw\")).values\n",
    "div.sum()"
   ]
  },
  {
   "cell_type": "code",
   "execution_count": null,
   "metadata": {},
   "outputs": [],
   "source": [
    "res"
   ]
  },
  {
   "cell_type": "markdown",
   "metadata": {},
   "source": [
    "Load parameters  "
   ]
  },
  {
   "cell_type": "code",
   "execution_count": null,
   "metadata": {},
   "outputs": [],
   "source": [
    "alpha = []\n",
    "log_ec = []\n",
    "K = []\n",
    "log_energy_flux = []\n",
    "log_epeak = []\n",
    "gamma = []\n",
    "log_Nrest = []\n",
    "div = []\n",
    "samples = []\n",
    "dl = []\n",
    "\n",
    "for id in range(data[\"N_intervals\"]):\n",
    "    alpha.append(res.posterior.alpha.stack(sample=(\"chain\", \"draw\")).values[id])\n",
    "\n",
    "    log_ec.append(res.posterior.log_ec.stack(sample=(\"chain\", \"draw\")).values[id])\n",
    "    K.append(res.posterior.K.stack(sample=(\"chain\", \"draw\")).values[id])\n",
    "    log_energy_flux.append(res.posterior.log_energy_flux.stack(sample=(\"chain\", \"draw\")).values[id])\n",
    "\n",
    "    div.append(res.sample_stats.diverging.stack(sample=(\"chain\", \"draw\")).values)\n",
    "\n",
    "    samples.append(np.vstack((K[id], alpha[id], 10.**log_ec[id])))\n",
    "\n",
    "    dl.append(ds.get_data_list_of_interval(id))\n",
    "\n",
    "\n",
    "for id in range(data[\"N_grbs\"]):\n",
    "    log_epeak.append(res.posterior.log_epeak.stack(sample=(\"chain\", \"draw\")).values[id])\n",
    "    gamma.append(res.posterior.gamma.stack(sample=(\"chain\", \"draw\")).values[id])\n",
    "    log_Nrest.append(res.posterior.log_Nrest.stack(sample=(\"chain\", \"draw\")).values[id])"
   ]
  },
  {
   "cell_type": "code",
   "execution_count": null,
   "metadata": {},
   "outputs": [],
   "source": [
    "gamma[1].mean()"
   ]
  },
  {
   "cell_type": "code",
   "execution_count": null,
   "metadata": {},
   "outputs": [],
   "source": [
    "div[5].sum()"
   ]
  },
  {
   "cell_type": "code",
   "execution_count": null,
   "metadata": {},
   "outputs": [],
   "source": [
    "bc = Cutoff_powerlaw(piv=100)\n",
    "\n",
    "bc.index.bounds = (None, None)\n",
    "bc.K.bounds = (None, None)\n",
    "bc.xc.bounds = (None, None)\n",
    "\n",
    "model = Model(PointSource(\"ps\",0,0, spectral_shape=bc))"
   ]
  },
  {
   "cell_type": "code",
   "execution_count": null,
   "metadata": {},
   "outputs": [],
   "source": [
    "%matplotlib widget\n",
    "plt.scatter(log_ec, alpha, alpha=0.1)"
   ]
  },
  {
   "cell_type": "code",
   "execution_count": null,
   "metadata": {},
   "outputs": [],
   "source": [
    "%matplotlib widget\n",
    "plt.scatter(K, alpha, alpha=0.1)"
   ]
  },
  {
   "cell_type": "code",
   "execution_count": null,
   "metadata": {},
   "outputs": [],
   "source": [
    "%matplotlib widget\n",
    "for id in range(data[\"N_intervals\"]):\n",
    "    display_posterior_model_counts(\n",
    "        dl[id][1], model, samples[id].T[::20], min_rate=1e-99, shade=False\n",
    "    )"
   ]
  },
  {
   "cell_type": "code",
   "execution_count": null,
   "metadata": {},
   "outputs": [],
   "source": [
    "%matplotlib widget\n",
    "\n",
    "def gc(log_epeak, log_Nrest, gamma, z, dl):\n",
    "    return log_Nrest - (1.099 + 2 * np.log10(dl)) + gamma * (np.log10(1 + z) + log_epeak - 2)\n",
    "\n",
    "plt.plot(log_epeak,log_energy_flux)\n",
    "plt.plot(log_epeak, gc(log_epeak, log_Nrest.mean(), gamma.mean(), data[\"z\"][0], data[\"dl\"][0]))"
   ]
  },
  {
   "cell_type": "code",
   "execution_count": null,
   "metadata": {},
   "outputs": [],
   "source": [
    "cpl = Cutoff_powerlaw(piv=100,K=1e-1,xc=200)\n",
    "\n",
    "\n",
    "dl = ds.get_data_list_of_interval(2)\n",
    "\n",
    "model = Model(PointSource(\"ps\",0,0, spectral_shape=cpl))\n",
    "\n",
    "ba = JointLikelihood(model,DataList(*dl))"
   ]
  },
  {
   "cell_type": "code",
   "execution_count": null,
   "metadata": {},
   "outputs": [],
   "source": [
    "ba.fit()"
   ]
  },
  {
   "cell_type": "code",
   "execution_count": null,
   "metadata": {},
   "outputs": [],
   "source": [
    "display_spectrum_model_counts(ba)"
   ]
  },
  {
   "cell_type": "code",
   "execution_count": null,
   "metadata": {},
   "outputs": [],
   "source": [
    "dl[0].view_count_spectrum()"
   ]
  },
  {
   "cell_type": "code",
   "execution_count": null,
   "metadata": {},
   "outputs": [],
   "source": [
    "cpl.parameters"
   ]
  },
  {
   "cell_type": "code",
   "execution_count": null,
   "metadata": {},
   "outputs": [],
   "source": [
    "import astropy.units as u\n",
    "ba.results.get_flux(10*u.keV, 10e4*u.keV)[\"flux\"][0].value"
   ]
  },
  {
   "cell_type": "code",
   "execution_count": null,
   "metadata": {},
   "outputs": [],
   "source": [
    "ba.results.get_data_frame()[\"value\"]"
   ]
  },
  {
   "cell_type": "code",
   "execution_count": null,
   "metadata": {},
   "outputs": [],
   "source": [
    "F, Epeak = [], []\n",
    "\n",
    "cpl = Cutoff_powerlaw(piv=100,K=1e-1,xc=200)\n",
    "\n",
    "for i in range(data[\"N_intervals\"]):\n",
    "    dl = ds.get_data_list_of_interval(1)\n",
    "    model = Model(PointSource(\"ps\",0,0, spectral_shape=cpl))\n",
    "    ba = JointLikelihood(model,DataList(*dl))\n",
    "    ba.fit()\n",
    "    Ec = ba.results.get_data_frame()[\"value\"][\"ps.spectrum.main.Cutoff_powerlaw.xc\"]\n",
    "    alpha = ba.results.get_data_frame()[\"value\"][\"ps.spectrum.main.Cutoff_powerlaw.index\"]\n",
    "    Epeak.append((2 + alpha) * Ec)\n",
    "    F.append(ba.results.get_flux(10*u.keV, 10e4*u.keV)[\"flux\"][0].value)"
   ]
  },
  {
   "cell_type": "code",
   "execution_count": null,
   "metadata": {},
   "outputs": [],
   "source": [
    "for i,E in enumerate(Epeak):\n",
    "    if E < 0:\n",
    "        Epeak.remove(Epeak[i])\n",
    "        F.remove(F[i])\n",
    "len(F)"
   ]
  },
  {
   "cell_type": "code",
   "execution_count": null,
   "metadata": {},
   "outputs": [],
   "source": [
    "from scipy.optimize import curve_fit\n",
    "\n",
    "(a, gamma), _ = curve_fit(lambda x,a,b: a * (x/100)**b, Epeak, F)\n",
    "gamma"
   ]
  },
  {
   "cell_type": "code",
   "execution_count": null,
   "metadata": {},
   "outputs": [],
   "source": [
    "F = [x for _, x in sorted(zip(Epeak, F))]\n",
    "Epeak.sort()"
   ]
  },
  {
   "cell_type": "code",
   "execution_count": null,
   "metadata": {},
   "outputs": [],
   "source": [
    "%matplotlib widget\n",
    "plt.plot(Epeak, F)\n",
    "plt.plot(Epeak, [a * (E/100)**gamma for E in Epeak])\n",
    "plt.loglog()"
   ]
  },
  {
   "cell_type": "code",
   "execution_count": null,
   "metadata": {},
   "outputs": [],
   "source": []
  }
 ],
 "metadata": {
  "kernelspec": {
   "display_name": "Python 3.8.13 ('bachelor-3.8')",
   "language": "python",
   "name": "python3"
  },
  "language_info": {
   "codemirror_mode": {
    "name": "ipython",
    "version": 3
   },
   "file_extension": ".py",
   "mimetype": "text/x-python",
   "name": "python",
   "nbconvert_exporter": "python",
   "pygments_lexer": "ipython3",
   "version": "3.8.13"
  },
  "vscode": {
   "interpreter": {
    "hash": "80e5f02f3fa944d55293b1e2ff20ea568041a9b3cc6e2d47bcda60589be25eb6"
   }
  },
  "widgets": {
   "application/vnd.jupyter.widget-state+json": {
    "state": {},
    "version_major": 2,
    "version_minor": 0
   }
  }
 },
 "nbformat": 4,
 "nbformat_minor": 4
}
