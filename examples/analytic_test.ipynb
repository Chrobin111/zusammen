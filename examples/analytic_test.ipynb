{
 "cells": [
  {
   "cell_type": "markdown",
   "metadata": {},
   "source": [
    "## Python (SciPy)"
   ]
  },
  {
   "cell_type": "code",
   "execution_count": null,
   "metadata": {},
   "outputs": [],
   "source": [
    "from scipy.special import gamma,gammaincc\n",
    "from scipy.integrate import quad\n",
    "from numpy import exp"
   ]
  },
  {
   "cell_type": "code",
   "execution_count": null,
   "metadata": {},
   "outputs": [],
   "source": [
    "def ggrb_int_cpl(alpha, ec, a, b):\n",
    "    i1 = gammaincc(2.0 + alpha, a / ec) * gamma(2.0 + alpha)\n",
    "    i2 = gammaincc(2.0 + alpha, b / ec) * gamma(2.0 + alpha)\n",
    "    return -ec * ec * (i2 - i1)"
   ]
  },
  {
   "cell_type": "code",
   "execution_count": null,
   "metadata": {},
   "outputs": [],
   "source": [
    "def integrate_1d(alpha, ec, a, b):\n",
    "    f = lambda x, alpha, ec: x * (x / ec) ** alpha * exp(-x / ec)\n",
    "    return quad(f, a, b, (alpha, ec))[0]"
   ]
  },
  {
   "cell_type": "code",
   "execution_count": null,
   "metadata": {},
   "outputs": [],
   "source": [
    "erg2kev = 6.24151e8\n",
    "\n",
    "# alpha = [ -0.8, -1, -1.2 ]\n",
    "# ec = [ 1e1, 1e2, 1e3 ]\n",
    "alpha = -0.998854\n",
    "ec = 85.8306\n",
    "energy_flux = 4.65078e-05\n",
    "K_stan = 4.42851\n",
    "\n",
    "print(\"Exakt:\", erg2kev * energy_flux / ggrb_int_cpl(alpha, ec, 10., 1.e4))\n",
    "print(\"Numerisch:\", erg2kev * energy_flux / integrate_1d(alpha, ec, 10., 1.e4))"
   ]
  },
  {
   "cell_type": "code",
   "execution_count": null,
   "metadata": {},
   "outputs": [],
   "source": [
    "import numpy as np\n",
    "import matplotlib.pyplot as plt\n",
    "\n",
    "x = np.linspace(10,10000)\n",
    "plt.plot(x, ggrb_int_cpl(-1.5, x, 10, 1e4))\n",
    "plt.plot(x, [integrate_1d(-1.5, i, 10, 1e4) for i in x])"
   ]
  },
  {
   "cell_type": "code",
   "execution_count": null,
   "metadata": {},
   "outputs": [],
   "source": [
    "E_peak_3ML = [(2-1.061953)*72.675096, (2-1.283648)*161.504324, (2-1.413363)*60.674764]\n",
    "F_3ML = [7.183484579865444e-07, 1.4155494054448992e-06, 3.3390268497500913e-07]"
   ]
  },
  {
   "cell_type": "code",
   "execution_count": null,
   "metadata": {},
   "outputs": [],
   "source": [
    "from scipy.optimize import curve_fit\n",
    "\n",
    "(C, gamma), _ = curve_fit(lambda x,a,b: a * (x/100)**b, E_peak_3ML, F_3ML)\n",
    "# plt.plot(E_peak_3ML, F_3ML)\n",
    "gamma"
   ]
  },
  {
   "cell_type": "markdown",
   "metadata": {},
   "source": [
    "## Stan"
   ]
  },
  {
   "cell_type": "code",
   "execution_count": null,
   "metadata": {},
   "outputs": [],
   "source": [
    "import os, sys\n",
    "parent_dir = os.path.abspath('..')\n",
    "if parent_dir not in sys.path:\n",
    "    sys.path.append(parent_dir)\n",
    "\n",
    "from zusammen.stan_models.stan_model import get_model\n",
    "from zusammen import AnalysisBuilder, DataSet\n",
    "from zusammen.spectral_plot import display_posterior_model_counts"
   ]
  },
  {
   "cell_type": "code",
   "execution_count": null,
   "metadata": {},
   "outputs": [],
   "source": [
    "mt = get_model(\"analytic_test\")\n",
    "mt.build_model()\n",
    "mt.model.sample(fixed_param=True, show_console=True)"
   ]
  }
 ],
 "metadata": {
  "kernelspec": {
   "display_name": "Python 3.8.13 ('bachelor-3.8')",
   "language": "python",
   "name": "python3"
  },
  "language_info": {
   "codemirror_mode": {
    "name": "ipython",
    "version": 3
   },
   "file_extension": ".py",
   "mimetype": "text/x-python",
   "name": "python",
   "nbconvert_exporter": "python",
   "pygments_lexer": "ipython3",
   "version": "3.8.13"
  },
  "orig_nbformat": 4,
  "vscode": {
   "interpreter": {
    "hash": "80e5f02f3fa944d55293b1e2ff20ea568041a9b3cc6e2d47bcda60589be25eb6"
   }
  }
 },
 "nbformat": 4,
 "nbformat_minor": 2
}
