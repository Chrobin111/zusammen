{
 "cells": [
  {
   "cell_type": "markdown",
   "metadata": {},
   "source": [
    "## Python (SciPy)"
   ]
  },
  {
   "cell_type": "code",
   "execution_count": null,
   "metadata": {},
   "outputs": [],
   "source": [
    "from scipy.special import gamma,gammaincc\n",
    "from scipy.integrate import quad\n",
    "from numpy import exp, array"
   ]
  },
  {
   "cell_type": "code",
   "execution_count": null,
   "metadata": {},
   "outputs": [],
   "source": [
    "def ggrb_int_cpl(alpha, ec, a, b):\n",
    "    i1 = gammaincc(2.0 + alpha, a / ec) * gamma(2.0 + alpha)\n",
    "    i2 = gammaincc(2.0 + alpha, b / ec) * gamma(2.0 + alpha)\n",
    "    return -ec * ec * (i2 - i1)"
   ]
  },
  {
   "cell_type": "code",
   "execution_count": null,
   "metadata": {},
   "outputs": [],
   "source": [
    "def integrate_1d(alpha, ec, a, b):\n",
    "    f = lambda E, alpha, ec: E * (E/ec)**alpha * exp(- E / ec)\n",
    "    return quad(f, a, b, (alpha, ec))[0]"
   ]
  },
  {
   "cell_type": "code",
   "execution_count": null,
   "metadata": {},
   "outputs": [],
   "source": [
    "erg2kev = 6.24151e8\n",
    "\n",
    "alpha = array([-1.2,-1,-0.8])\n",
    "ec = array([100,120,140])\n",
    "energy_flux = array([1e-7,2e-7,3e-7])\n",
    "\n",
    "data = dict(N=len(alpha), alpha=alpha, ec=ec, energy_flux=energy_flux)"
   ]
  },
  {
   "cell_type": "code",
   "execution_count": null,
   "metadata": {},
   "outputs": [],
   "source": [
    "print(\"Exakt:\", erg2kev * energy_flux / ggrb_int_cpl(alpha, ec, 10., 1.e4))\n",
    "print(\"Numerisch:\", erg2kev * energy_flux / array([integrate_1d(i,j,10.,1.e4) for i,j in zip(alpha, ec)]))"
   ]
  },
  {
   "cell_type": "code",
   "execution_count": null,
   "metadata": {},
   "outputs": [],
   "source": [
    "import numpy as np\n",
    "import matplotlib.pyplot as plt\n",
    "\n",
    "x = np.linspace(10,10000)\n",
    "plt.plot(x, ggrb_int_cpl(-1.5, x, 10, 1e4))\n",
    "plt.plot(x, [integrate_1d(-1.5, i, 10, 1e4) for i in x])"
   ]
  },
  {
   "cell_type": "markdown",
   "metadata": {},
   "source": [
    "## Stan"
   ]
  },
  {
   "cell_type": "code",
   "execution_count": null,
   "metadata": {},
   "outputs": [],
   "source": [
    "import os, sys\n",
    "parent_dir = os.path.abspath('..')\n",
    "if parent_dir not in sys.path:\n",
    "    sys.path.append(parent_dir)\n",
    "\n",
    "from zusammen.stan_models.stan_model import get_model"
   ]
  },
  {
   "cell_type": "code",
   "execution_count": null,
   "metadata": {},
   "outputs": [],
   "source": [
    "mt = get_model(\"analytic_test\")\n",
    "mt.build_model()\n",
    "mt.model.sample(data=data, fixed_param=True, show_console=True)"
   ]
  },
  {
   "cell_type": "code",
   "execution_count": null,
   "metadata": {},
   "outputs": [],
   "source": []
  }
 ],
 "metadata": {
  "kernelspec": {
   "display_name": "Python 3.8.13 ('bachelor-3.8')",
   "language": "python",
   "name": "python3"
  },
  "language_info": {
   "codemirror_mode": {
    "name": "ipython",
    "version": 3
   },
   "file_extension": ".py",
   "mimetype": "text/x-python",
   "name": "python",
   "nbconvert_exporter": "python",
   "pygments_lexer": "ipython3",
   "version": "3.8.13"
  },
  "orig_nbformat": 4,
  "vscode": {
   "interpreter": {
    "hash": "80e5f02f3fa944d55293b1e2ff20ea568041a9b3cc6e2d47bcda60589be25eb6"
   }
  }
 },
 "nbformat": 4,
 "nbformat_minor": 2
}
