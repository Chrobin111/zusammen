{
 "cells": [
  {
   "cell_type": "markdown",
   "metadata": {},
   "source": [
    "## Python (SciPy)"
   ]
  },
  {
   "cell_type": "code",
   "execution_count": null,
   "metadata": {},
   "outputs": [],
   "source": [
    "from scipy.special import gamma,gammaincc\n",
    "from scipy.integrate import quad\n",
    "from numpy import exp"
   ]
  },
  {
   "cell_type": "code",
   "execution_count": null,
   "metadata": {},
   "outputs": [],
   "source": [
    "def ggrb_int_cpl(alpha, ec, a, b):\n",
    "    i1 = gammaincc(2.0 + alpha, a / ec) * gamma(2.0 + alpha)\n",
    "    i2 = gammaincc(2.0 + alpha, b / ec) * gamma(2.0 + alpha)\n",
    "    return -ec * ec * (i2 - i1)"
   ]
  },
  {
   "cell_type": "code",
   "execution_count": null,
   "metadata": {},
   "outputs": [],
   "source": [
    "def integrate_1d(alpha, ec, a, b):\n",
    "    f = lambda x, alpha, ec: x * (x / ec) ** alpha * exp(-x / ec)\n",
    "    return quad(f, a, b, (alpha, ec))[0]"
   ]
  },
  {
   "cell_type": "code",
   "execution_count": null,
   "metadata": {},
   "outputs": [],
   "source": [
    "erg2kev = 6.24151e8\n",
    "\n",
    "# alpha = [ -0.8, -1, -1.2 ]\n",
    "# ec = [ 1e1, 1e2, 1e3 ]\n",
    "alpha = -0.998854\n",
    "ec = 85.8306\n",
    "energy_flux = 4.65078e-05\n",
    "K_stan = 4.42851\n",
    "\n",
    "print(\"Exakt:\", erg2kev * energy_flux / ggrb_int_cpl(alpha, ec, 10., 1.e4))\n",
    "print(\"Numerisch:\", erg2kev * energy_flux / integrate_1d(alpha, ec, 10., 1.e4))"
   ]
  },
  {
   "cell_type": "code",
   "execution_count": null,
   "metadata": {},
   "outputs": [],
   "source": [
    "import numpy as np\n",
    "import matplotlib.pyplot as plt\n",
    "\n",
    "x = np.linspace(10,10000)\n",
    "plt.plot(x, ggrb_int_cpl(-1.5, x, 10, 1e4))\n",
    "plt.plot(x, [integrate_1d(-1.5, i, 10, 1e4) for i in x])"
   ]
  },
  {
   "cell_type": "code",
   "execution_count": null,
   "metadata": {},
   "outputs": [],
   "source": [
    "E_peak_3ML = [(2-1.061953)*72.675096, (2-1.283648)*161.504324, (2-1.413363)*60.674764]\n",
    "F_3ML = [7.183484579865444e-07, 1.4155494054448992e-06, 3.3390268497500913e-07]"
   ]
  },
  {
   "cell_type": "code",
   "execution_count": null,
   "metadata": {},
   "outputs": [],
   "source": [
    "from scipy.optimize import curve_fit\n",
    "\n",
    "(C, gamma), _ = curve_fit(lambda x,a,b: a * (x/100)**b, E_peak_3ML, F_3ML)\n",
    "# plt.plot(E_peak_3ML, F_3ML)\n",
    "gamma"
   ]
  },
  {
   "cell_type": "markdown",
   "metadata": {},
   "source": [
    "## Stan"
   ]
  },
  {
   "cell_type": "code",
   "execution_count": null,
   "metadata": {},
   "outputs": [],
   "source": [
    "import os, sys\n",
    "parent_dir = os.path.abspath('..')\n",
    "if parent_dir not in sys.path:\n",
    "    sys.path.append(parent_dir)\n",
    "\n",
    "from zusammen.stan_models.stan_model import get_model\n",
    "from zusammen import AnalysisBuilder, DataSet\n",
    "from zusammen.spectral_plot import display_posterior_model_counts"
   ]
  },
  {
   "cell_type": "code",
   "execution_count": 2,
   "metadata": {},
   "outputs": [
    {
     "name": "stderr",
     "output_type": "stream",
     "text": [
      "14:35:48 - cmdstanpy - INFO - Chain [1] start processing\n",
      "14:35:48 - cmdstanpy - INFO - Chain [1] done processing\n",
      "14:35:48 - cmdstanpy - WARNING - Non-fatal error during sampling:\n",
      "Exakt: 41.5974\n",
      "\tExakt: 8683.61\n",
      "\tExakt: 914796\n",
      "\tExakt: 36.7879\n",
      "\tExakt: 9048.37\n",
      "\tExakt: 990004\n",
      "\tExakt: 32.7648\n",
      "\tExakt: 9746.47\n",
      "\tExakt: 1.13294e+06\n",
      "Consider re-running with show_console=True if the above output is unclear!\n"
     ]
    },
    {
     "name": "stdout",
     "output_type": "stream",
     "text": [
      "Chain [1] method = sample (Default)\n",
      "Chain [1] sample\n",
      "Chain [1] num_samples = 1000 (Default)\n",
      "Chain [1] num_warmup = 1000 (Default)\n",
      "Chain [1] save_warmup = 0 (Default)\n",
      "Chain [1] thin = 1 (Default)\n",
      "Chain [1] adapt\n",
      "Chain [1] engaged = 1 (Default)\n",
      "Chain [1] gamma = 0.050000000000000003 (Default)\n",
      "Chain [1] delta = 0.80000000000000004 (Default)\n",
      "Chain [1] kappa = 0.75 (Default)\n",
      "Chain [1] t0 = 10 (Default)\n",
      "Chain [1] init_buffer = 75 (Default)\n",
      "Chain [1] term_buffer = 50 (Default)\n",
      "Chain [1] window = 25 (Default)\n",
      "Chain [1] algorithm = fixed_param\n",
      "Chain [1] num_chains = 1 (Default)\n",
      "Chain [1] id = 1 (Default)\n",
      "Chain [1] data\n",
      "Chain [1] file =  (Default)\n",
      "Chain [1] init = 2 (Default)\n",
      "Chain [1] random\n",
      "Chain [1] seed = 17553\n",
      "Chain [1] output\n",
      "Chain [1] file = /var/folders/jh/4tg_3v1s0_j8p64dw1txwqzr0000gn/T/tmpe766l0_3/testmxt6kf7y/test-20221022143548.csv\n",
      "Chain [1] diagnostic_file =  (Default)\n",
      "Chain [1] refresh = 100 (Default)\n",
      "Chain [1] sig_figs = -1 (Default)\n",
      "Chain [1] profile_file = profile.csv (Default)\n",
      "Chain [1] num_threads = 1 (Default)\n",
      "Chain [1] \n",
      "Chain [1] alpha = -0.8\n",
      "Chain [1] ec = 10\n",
      "Chain [1] Exakt: 41.5974\n",
      "Chain [1] Numerisch: 262.462\n",
      "Chain [1] \n",
      "Chain [1] alpha = -0.8\n",
      "Chain [1] ec = 100\n",
      "Chain [1] Exakt: 8683.61\n",
      "Chain [1] Numerisch: 8683.61\n",
      "Chain [1] \n",
      "Chain [1] alpha = -0.8\n",
      "Chain [1] ec = 1000\n",
      "Chain [1] Exakt: 914796\n",
      "Chain [1] Numerisch: 144985\n",
      "Chain [1] \n",
      "Chain [1] alpha = -1\n",
      "Chain [1] ec = 10\n",
      "Chain [1] Exakt: 36.7879\n",
      "Chain [1] Numerisch: 367.879\n",
      "Chain [1] \n",
      "Chain [1] alpha = -1\n",
      "Chain [1] ec = 100\n",
      "Chain [1] Exakt: 9048.37\n",
      "Chain [1] Numerisch: 9048.37\n",
      "Chain [1] \n",
      "Chain [1] alpha = -1\n",
      "Chain [1] ec = 1000\n",
      "Chain [1] Exakt: 990004\n",
      "Chain [1] Numerisch: 99000.4\n",
      "Chain [1] \n",
      "Chain [1] alpha = -1.2\n",
      "Chain [1] ec = 10\n",
      "Chain [1] Exakt: 32.7648\n",
      "Chain [1] Numerisch: 519.288\n",
      "Chain [1] \n",
      "Chain [1] alpha = -1.2\n",
      "Chain [1] ec = 100\n",
      "Chain [1] Exakt: 9746.47\n",
      "Chain [1] Numerisch: 9746.47\n",
      "Chain [1] \n",
      "Chain [1] alpha = -1.2\n",
      "Chain [1] ec = 1000\n",
      "Chain [1] Exakt: 1.13294e+06\n",
      "Chain [1] Numerisch: 71483.8\n",
      "Chain [1] \n",
      "Chain [1] Iteration:   1 / 1000 [  0%]  (Sampling)\n",
      "Chain [1] Iteration: 100 / 1000 [ 10%]  (Sampling)\n",
      "Chain [1] Iteration: 200 / 1000 [ 20%]  (Sampling)\n",
      "Chain [1] Iteration: 300 / 1000 [ 30%]  (Sampling)\n",
      "Chain [1] Iteration: 400 / 1000 [ 40%]  (Sampling)\n",
      "Chain [1] Iteration: 500 / 1000 [ 50%]  (Sampling)\n",
      "Chain [1] Iteration: 600 / 1000 [ 60%]  (Sampling)\n",
      "Chain [1] Iteration: 700 / 1000 [ 70%]  (Sampling)\n",
      "Chain [1] Iteration: 800 / 1000 [ 80%]  (Sampling)\n",
      "Chain [1] Iteration: 900 / 1000 [ 90%]  (Sampling)\n",
      "Chain [1] Iteration: 1000 / 1000 [100%]  (Sampling)\n",
      "Chain [1] \n",
      "Chain [1] Elapsed Time: 0 seconds (Warm-up)\n",
      "Chain [1] 0.002 seconds (Sampling)\n",
      "Chain [1] 0.002 seconds (Total)\n",
      "Chain [1] \n",
      "Chain [1] \n",
      "Chain [1] \n",
      "Chain [1] \n"
     ]
    },
    {
     "data": {
      "text/plain": [
       "CmdStanMCMC: model=test chains=1['method=sample', 'algorithm=fixed_param']\n",
       " csv_files:\n",
       "\t/var/folders/jh/4tg_3v1s0_j8p64dw1txwqzr0000gn/T/tmpe766l0_3/testmxt6kf7y/test-20221022143548.csv\n",
       " output_files:\n",
       "\t/var/folders/jh/4tg_3v1s0_j8p64dw1txwqzr0000gn/T/tmpe766l0_3/testmxt6kf7y/test-20221022143548_0-stdout.txt"
      ]
     },
     "execution_count": 2,
     "metadata": {},
     "output_type": "execute_result"
    }
   ],
   "source": [
    "mt = get_model(\"test\")\n",
    "mt.build_model()\n",
    "mt.model.sample(fixed_param=True, show_console=True)"
   ]
  },
  {
   "cell_type": "code",
   "execution_count": null,
   "metadata": {},
   "outputs": [],
   "source": []
  }
 ],
 "metadata": {
  "kernelspec": {
   "display_name": "Python 3.8.13 ('bachelor-3.8')",
   "language": "python",
   "name": "python3"
  },
  "language_info": {
   "codemirror_mode": {
    "name": "ipython",
    "version": 3
   },
   "file_extension": ".py",
   "mimetype": "text/x-python",
   "name": "python",
   "nbconvert_exporter": "python",
   "pygments_lexer": "ipython3",
   "version": "3.8.13"
  },
  "orig_nbformat": 4,
  "vscode": {
   "interpreter": {
    "hash": "80e5f02f3fa944d55293b1e2ff20ea568041a9b3cc6e2d47bcda60589be25eb6"
   }
  }
 },
 "nbformat": 4,
 "nbformat_minor": 2
}
