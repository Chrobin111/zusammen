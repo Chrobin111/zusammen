{
 "cells": [
  {
   "cell_type": "code",
   "execution_count": 15,
   "metadata": {},
   "outputs": [],
   "source": [
    "from math import sqrt\n",
    "\n",
    "H0 = 2.2e-18 # /s = 68 km/s/Mpc\n",
    "OL = 0.73\n",
    "Om = 1 - OL\n",
    "c = 299792458  # m/s\n",
    "\n",
    "\n",
    "def x(z, Om):\n",
    "    return (1 - Om) / (Om * (1 + z) ** 3)\n",
    "\n",
    "\n",
    "def Phi(x):\n",
    "    return (1 + 1.32 * x + 0.4415 * x**2 + 0.02656 * x**3) / (\n",
    "        1 + 1.392 * x + 0.5121 * x**2 + 0.03944 * x**3\n",
    "    )\n",
    "\n",
    "\n",
    "def dl(z, Om):\n",
    "    return (\n",
    "        (2 * c / H0) * ((1 + z) / sqrt(Om)) * (Phi(x(0, Om)) - Phi(x(z, Om)) / sqrt(1 + z)) * 100\n",
    "    )"
   ]
  },
  {
   "cell_type": "code",
   "execution_count": 16,
   "metadata": {},
   "outputs": [
    {
     "name": "stdout",
     "output_type": "stream",
     "text": [
      "[(6.508653597960502e+27, 6.337614599209016e+27), (1.7123281088738786e+28, 1.6614313374147415e+28), (6.670718883776388e+27, 6.495043132232771e+27), (1.9775258901774233e+28, 1.9173714279990817e+28), (1.517629667111949e+28, 1.4733610917142962e+28)]\n",
      "[0.026278706675230246, 0.029723725958461067, 0.026335355244975434, 0.03041905164283054, 0.02916955062027482]\n"
     ]
    }
   ],
   "source": [
    "z = [0.3771157960236561, 0.8356662854837388, 0.38504476784356556, 0.9381484419918997, 0.7581804592791015]\n",
    "dl_corr = [6.337614599209016e+27, 1.6614313374147415e+28, 6.495043132232771e+27, 1.9173714279990817e+28, 1.4733610917142962e+28]\n",
    "\n",
    "dl_new = [dl(zi,Om) for zi in z]\n",
    "\n",
    "print(list(zip(dl_new,dl_corr)))\n",
    "print([1 - j/i for i,j in zip(dl_new,dl_corr)])"
   ]
  },
  {
   "cell_type": "code",
   "execution_count": 17,
   "metadata": {},
   "outputs": [
    {
     "data": {
      "text/plain": [
       "2.141463693221261e+28"
      ]
     },
     "execution_count": 17,
     "metadata": {},
     "output_type": "execute_result"
    }
   ],
   "source": [
    "dl(1,Om)"
   ]
  },
  {
   "cell_type": "code",
   "execution_count": 2,
   "metadata": {},
   "outputs": [],
   "source": [
    "import os, sys\n",
    "parent_dir = os.path.abspath('..')\n",
    "if parent_dir not in sys.path:\n",
    "    sys.path.append(parent_dir)\n",
    "\n",
    "from zusammen.stan_models.stan_model import get_model"
   ]
  },
  {
   "cell_type": "code",
   "execution_count": 8,
   "metadata": {},
   "outputs": [
    {
     "name": "stderr",
     "output_type": "stream",
     "text": [
      "18:50:54 - cmdstanpy - INFO - compiling stan file /Users/chrobin/Documents/zusammen/zusammen/stan_models/test.stan to exe file /Users/chrobin/Documents/zusammen/zusammen/stan_models/test\n",
      "18:50:57 - cmdstanpy - INFO - compiled model executable: /Users/chrobin/Documents/zusammen/zusammen/stan_models/test\n"
     ]
    }
   ],
   "source": [
    "m = get_model(\"test\")\n",
    "m.build_model()"
   ]
  },
  {
   "cell_type": "code",
   "execution_count": 13,
   "metadata": {},
   "outputs": [
    {
     "name": "stderr",
     "output_type": "stream",
     "text": [
      "18:52:38 - cmdstanpy - INFO - Chain [1] start processing\n",
      "18:52:38 - cmdstanpy - INFO - Chain [1] done processing\n"
     ]
    },
    {
     "name": "stdout",
     "output_type": "stream",
     "text": [
      "Chain [1] method = sample (Default)\n",
      "Chain [1] sample\n",
      "Chain [1] num_samples = 1000 (Default)\n",
      "Chain [1] num_warmup = 1000 (Default)\n",
      "Chain [1] save_warmup = 0 (Default)\n",
      "Chain [1] thin = 1 (Default)\n",
      "Chain [1] adapt\n",
      "Chain [1] engaged = 1 (Default)\n",
      "Chain [1] gamma = 0.050000000000000003 (Default)\n",
      "Chain [1] delta = 0.80000000000000004 (Default)\n",
      "Chain [1] kappa = 0.75 (Default)\n",
      "Chain [1] t0 = 10 (Default)\n",
      "Chain [1] init_buffer = 75 (Default)\n",
      "Chain [1] term_buffer = 50 (Default)\n",
      "Chain [1] window = 25 (Default)\n",
      "Chain [1] algorithm = hmc (Default)\n",
      "Chain [1] hmc\n",
      "Chain [1] engine = nuts (Default)\n",
      "Chain [1] nuts\n",
      "Chain [1] max_depth = 10 (Default)\n",
      "Chain [1] metric = diag_e (Default)\n",
      "Chain [1] metric_file =  (Default)\n",
      "Chain [1] stepsize = 1 (Default)\n",
      "Chain [1] stepsize_jitter = 0 (Default)\n",
      "Chain [1] num_chains = 1 (Default)\n",
      "Chain [1] id = 1 (Default)\n",
      "Chain [1] data\n",
      "Chain [1] file =  (Default)\n",
      "Chain [1] init = 2 (Default)\n",
      "Chain [1] random\n",
      "Chain [1] seed = 90324\n",
      "Chain [1] output\n",
      "Chain [1] file = /var/folders/jh/4tg_3v1s0_j8p64dw1txwqzr0000gn/T/tmpodg073dg/testfw5o_iup/test-20221013185238.csv\n",
      "Chain [1] diagnostic_file =  (Default)\n",
      "Chain [1] refresh = 100 (Default)\n",
      "Chain [1] sig_figs = -1 (Default)\n",
      "Chain [1] profile_file = profile.csv (Default)\n",
      "Chain [1] num_threads = 1 (Default)\n",
      "Chain [1] \n",
      "Chain [1] Model contains no parameters, running fixed_param sampler, no updates to Markov chain\n",
      "Chain [1] 2.14146e+28\n",
      "Chain [1] \n",
      "Chain [1] 2.14146e+28\n",
      "Chain [1] \n",
      "Chain [1] Iteration:   1 / 1000 [  0%]  (Sampling)\n",
      "Chain [1] Iteration: 100 / 1000 [ 10%]  (Sampling)\n",
      "Chain [1] Iteration: 200 / 1000 [ 20%]  (Sampling)\n",
      "Chain [1] Iteration: 300 / 1000 [ 30%]  (Sampling)\n",
      "Chain [1] Iteration: 400 / 1000 [ 40%]  (Sampling)\n",
      "Chain [1] Iteration: 500 / 1000 [ 50%]  (Sampling)\n",
      "Chain [1] Iteration: 600 / 1000 [ 60%]  (Sampling)\n",
      "Chain [1] Iteration: 700 / 1000 [ 70%]  (Sampling)\n",
      "Chain [1] Iteration: 800 / 1000 [ 80%]  (Sampling)\n",
      "Chain [1] Iteration: 900 / 1000 [ 90%]  (Sampling)\n",
      "Chain [1] Iteration: 1000 / 1000 [100%]  (Sampling)\n",
      "Chain [1] \n",
      "Chain [1] Elapsed Time: 0 seconds (Warm-up)\n",
      "Chain [1] 0.003 seconds (Sampling)\n",
      "Chain [1] 0.003 seconds (Total)\n",
      "Chain [1] \n",
      "Chain [1] \n"
     ]
    },
    {
     "data": {
      "text/plain": [
       "CmdStanMCMC: model=test chains=1['method=sample', 'algorithm=fixed_param']\n",
       " csv_files:\n",
       "\t/var/folders/jh/4tg_3v1s0_j8p64dw1txwqzr0000gn/T/tmpodg073dg/testfw5o_iup/test-20221013185238.csv\n",
       " output_files:\n",
       "\t/var/folders/jh/4tg_3v1s0_j8p64dw1txwqzr0000gn/T/tmpodg073dg/testfw5o_iup/test-20221013185238_0-stdout.txt"
      ]
     },
     "execution_count": 13,
     "metadata": {},
     "output_type": "execute_result"
    }
   ],
   "source": [
    "m.model.sample(chains=1, show_console=True)"
   ]
  },
  {
   "cell_type": "code",
   "execution_count": null,
   "metadata": {},
   "outputs": [],
   "source": []
  }
 ],
 "metadata": {
  "kernelspec": {
   "display_name": "Python 3.8.13 ('bachelor-3.8')",
   "language": "python",
   "name": "python3"
  },
  "language_info": {
   "codemirror_mode": {
    "name": "ipython",
    "version": 3
   },
   "file_extension": ".py",
   "mimetype": "text/x-python",
   "name": "python",
   "nbconvert_exporter": "python",
   "pygments_lexer": "ipython3",
   "version": "3.8.13"
  },
  "orig_nbformat": 4,
  "vscode": {
   "interpreter": {
    "hash": "80e5f02f3fa944d55293b1e2ff20ea568041a9b3cc6e2d47bcda60589be25eb6"
   }
  }
 },
 "nbformat": 4,
 "nbformat_minor": 2
}
