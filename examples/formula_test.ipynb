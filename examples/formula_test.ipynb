{
 "cells": [
  {
   "cell_type": "code",
   "execution_count": 10,
   "metadata": {},
   "outputs": [],
   "source": [
    "import numpy as np\n",
    "from corr_cpl.corr_cpl_functions import luminosity_distance\n",
    "\n",
    "import os, sys\n",
    "parent_dir = os.path.abspath('..')\n",
    "if parent_dir not in sys.path:\n",
    "    sys.path.append(parent_dir)\n",
    "\n",
    "from zusammen.stan_models.stan_model import get_model\n",
    "from zusammen import AnalysisBuilder, DataSet\n",
    "from zusammen.spectral_plot import display_posterior_model_counts"
   ]
  },
  {
   "cell_type": "code",
   "execution_count": 11,
   "metadata": {},
   "outputs": [],
   "source": [
    "N = None\n",
    "alpha = -1.9 + np.arange(0, 2, 0.2)[0:8]\n",
    "log_ec = -2 + np.array(range(8))\n",
    "log_Nrest = 50 + np.array(range(8))\n",
    "gamma = np.array(range(8))\n",
    "z = np.array(range(8)) / 4\n",
    "dl = np.array([luminosity_distance((i)) for i in z])\n",
    "\n",
    "bool_list = []\n",
    "data_list = [len(i) for i in [alpha, log_ec, log_Nrest, gamma, z, dl]]\n",
    "for i in range(len(data_list) - 1):\n",
    "    bool_list.append(data_list[i] == data_list[i + 1])\n",
    "if all(bool_list):\n",
    "    N = data_list[0]\n",
    "\n",
    "data = dict(\n",
    "    N=N, alpha=alpha, log_ec=log_ec, log_Nrest=log_Nrest, gamma=gamma, z=z, dl=dl\n",
    ")\n"
   ]
  },
  {
   "cell_type": "code",
   "execution_count": 12,
   "metadata": {},
   "outputs": [
    {
     "data": {
      "text/plain": [
       "{'N': 8,\n",
       " 'alpha': array([-1.9, -1.7, -1.5, -1.3, -1.1, -0.9, -0.7, -0.5]),\n",
       " 'log_ec': array([-2, -1,  0,  1,  2,  3,  4,  5]),\n",
       " 'log_Nrest': array([50, 51, 52, 53, 54, 55, 56, 57]),\n",
       " 'gamma': array([0, 1, 2, 3, 4, 5, 6, 7]),\n",
       " 'z': array([0.  , 0.25, 0.5 , 0.75, 1.  , 1.25, 1.5 , 1.75]),\n",
       " 'dl': array([0.00000000e+00, 4.00772873e+27, 8.99831352e+27, 1.47115405e+28,\n",
       "        2.09584072e+28, 2.76090277e+28, 3.45745947e+28, 4.17932944e+28])}"
      ]
     },
     "execution_count": 12,
     "metadata": {},
     "output_type": "execute_result"
    }
   ],
   "source": [
    "data"
   ]
  },
  {
   "cell_type": "code",
   "execution_count": 13,
   "metadata": {},
   "outputs": [
    {
     "name": "stderr",
     "output_type": "stream",
     "text": [
      "08:31:31 - cmdstanpy - INFO - Chain [1] start processing\n",
      "08:31:31 - cmdstanpy - INFO - Chain [1] done processing\n"
     ]
    },
    {
     "name": "stdout",
     "output_type": "stream",
     "text": [
      "Chain [1] method = sample (Default)\n",
      "Chain [1] sample\n",
      "Chain [1] num_samples = 1000 (Default)\n",
      "Chain [1] num_warmup = 1000 (Default)\n",
      "Chain [1] save_warmup = 0 (Default)\n",
      "Chain [1] thin = 1 (Default)\n",
      "Chain [1] adapt\n",
      "Chain [1] engaged = 1 (Default)\n",
      "Chain [1] gamma = 0.050000000000000003 (Default)\n",
      "Chain [1] delta = 0.80000000000000004 (Default)\n",
      "Chain [1] kappa = 0.75 (Default)\n",
      "Chain [1] t0 = 10 (Default)\n",
      "Chain [1] init_buffer = 75 (Default)\n",
      "Chain [1] term_buffer = 50 (Default)\n",
      "Chain [1] window = 25 (Default)\n",
      "Chain [1] algorithm = fixed_param\n",
      "Chain [1] num_chains = 1 (Default)\n",
      "Chain [1] id = 1 (Default)\n",
      "Chain [1] data\n",
      "Chain [1] file = /var/folders/jh/4tg_3v1s0_j8p64dw1txwqzr0000gn/T/tmp1jtd5y12/1cjb6152.json\n",
      "Chain [1] init = 2 (Default)\n",
      "Chain [1] random\n",
      "Chain [1] seed = 19687\n",
      "Chain [1] output\n",
      "Chain [1] file = /var/folders/jh/4tg_3v1s0_j8p64dw1txwqzr0000gn/T/tmp1jtd5y12/formula_testk81srq_0/formula_test-20221027083131.csv\n",
      "Chain [1] diagnostic_file =  (Default)\n",
      "Chain [1] refresh = 100 (Default)\n",
      "Chain [1] sig_figs = -1 (Default)\n",
      "Chain [1] profile_file = profile.csv (Default)\n",
      "Chain [1] num_threads = 1 (Default)\n",
      "Chain [1] \n",
      "Chain [1] [-3,-1.52288,-0.30103,0.845098,1.95424,3.04139,4.11394,5.17609][inf,-8.73077,-9.2572,-7.16991,-2.72063,3.98677,12.8948,23.9668]\n",
      "Chain [1] [nan,nan,nan,nan,nan,nan,nan,nan][inf,1.85881e-09,5.53096e-10,6.76226e-08,0.00190271,9700.05,7.84849e+12,9.26306e+23]\n",
      "Chain [1] Iteration:   1 / 1000 [  0%]  (Sampling)\n",
      "Chain [1] Iteration: 100 / 1000 [ 10%]  (Sampling)\n",
      "Chain [1] Iteration: 200 / 1000 [ 20%]  (Sampling)\n",
      "Chain [1] Iteration: 300 / 1000 [ 30%]  (Sampling)\n",
      "Chain [1] Iteration: 400 / 1000 [ 40%]  (Sampling)\n",
      "Chain [1] Iteration: 500 / 1000 [ 50%]  (Sampling)\n",
      "Chain [1] Iteration: 600 / 1000 [ 60%]  (Sampling)\n",
      "Chain [1] Iteration: 700 / 1000 [ 70%]  (Sampling)\n",
      "Chain [1] Iteration: 800 / 1000 [ 80%]  (Sampling)\n",
      "Chain [1] Iteration: 900 / 1000 [ 90%]  (Sampling)\n",
      "Chain [1] Iteration: 1000 / 1000 [100%]  (Sampling)\n",
      "Chain [1] \n",
      "Chain [1] Elapsed Time: 0 seconds (Warm-up)\n",
      "Chain [1] 0.002 seconds (Sampling)\n",
      "Chain [1] 0.002 seconds (Total)\n",
      "Chain [1] \n",
      "Chain [1] \n",
      "Chain [1] \n",
      "Chain [1] \n",
      "Chain [1] \n"
     ]
    },
    {
     "data": {
      "text/plain": [
       "CmdStanMCMC: model=formula_test chains=1['method=sample', 'algorithm=fixed_param']\n",
       " csv_files:\n",
       "\t/var/folders/jh/4tg_3v1s0_j8p64dw1txwqzr0000gn/T/tmp1jtd5y12/formula_testk81srq_0/formula_test-20221027083131.csv\n",
       " output_files:\n",
       "\t/var/folders/jh/4tg_3v1s0_j8p64dw1txwqzr0000gn/T/tmp1jtd5y12/formula_testk81srq_0/formula_test-20221027083131_0-stdout.txt"
      ]
     },
     "execution_count": 13,
     "metadata": {},
     "output_type": "execute_result"
    }
   ],
   "source": [
    "mt = get_model(\"formula_test\")\n",
    "mt.build_model()\n",
    "mt.model.sample(data=data, fixed_param=True, show_console=True)"
   ]
  },
  {
   "cell_type": "code",
   "execution_count": 14,
   "metadata": {},
   "outputs": [],
   "source": [
    "def epeak_func(alpha, ec):\n",
    "    return (2 + alpha) * ec\n",
    "\n",
    "def energy_flux_func(Nrest, gamma, z, dl, epeak):\n",
    "    return Nrest / (4 * np.pi * dl**2) * ((1 + z) * epeak / 100)**gamma"
   ]
  },
  {
   "cell_type": "code",
   "execution_count": 15,
   "metadata": {},
   "outputs": [
    {
     "data": {
      "text/plain": [
       "(array([-3.        , -1.52287875, -0.30103   ,  0.84509804,  1.95424251,\n",
       "         3.04139269,  4.11394335,  5.17609126]),\n",
       " [0.0010000000000000009,\n",
       "  0.030000000000000006,\n",
       "  0.5,\n",
       "  7.000000000000002,\n",
       "  90.00000000000001,\n",
       "  1100.0,\n",
       "  13000.000000000002,\n",
       "  150000.00000000003],\n",
       " [inf,\n",
       "  1.8579104055124015e-09,\n",
       "  5.528284965255136e-10,\n",
       "  6.75899460249164e-08,\n",
       "  0.0019017945919667131,\n",
       "  9695.359700313023,\n",
       "  7844695793278.324,\n",
       "  9.258584487990407e+23])"
      ]
     },
     "execution_count": 15,
     "metadata": {},
     "output_type": "execute_result"
    }
   ],
   "source": [
    "epeak_py = [epeak_func(i, j) for i, j in zip(alpha, 10.**log_ec)]\n",
    "energy_flux_py = [\n",
    "    energy_flux_func(i, j, h, k, l)\n",
    "    for i, j, h, k, l in zip(10.**log_Nrest, gamma, z, dl, epeak_py)\n",
    "]\n",
    "np.log10(epeak_py),epeak_py, energy_flux_py"
   ]
  },
  {
   "cell_type": "code",
   "execution_count": 16,
   "metadata": {},
   "outputs": [
    {
     "data": {
      "text/plain": [
       "[inf,\n",
       " 1.8579104055123977e-09,\n",
       " 5.528284965255118e-10,\n",
       " 6.758994602491648e-08,\n",
       " 0.0019017945919666936,\n",
       " 9695.359700313085,\n",
       " 7844695793278.561,\n",
       " 9.258584487990317e+23]"
      ]
     },
     "execution_count": 16,
     "metadata": {},
     "output_type": "execute_result"
    }
   ],
   "source": [
    "from corr_cpl.corr_cpl_functions import golenetskii_corr\n",
    "energy_flux_zusammen = [\n",
    "    golenetskii_corr(i, j, h, k)\n",
    "    for i, j, h, k in zip(epeak_py, 10.**log_Nrest, gamma, z)\n",
    "]\n",
    "energy_flux_zusammen"
   ]
  },
  {
   "cell_type": "markdown",
   "metadata": {},
   "source": [
    "Seems to match"
   ]
  }
 ],
 "metadata": {
  "kernelspec": {
   "display_name": "Python 3.8.13 ('bachelor-3.8')",
   "language": "python",
   "name": "python3"
  },
  "language_info": {
   "codemirror_mode": {
    "name": "ipython",
    "version": 3
   },
   "file_extension": ".py",
   "mimetype": "text/x-python",
   "name": "python",
   "nbconvert_exporter": "python",
   "pygments_lexer": "ipython3",
   "version": "3.8.13"
  },
  "orig_nbformat": 4,
  "vscode": {
   "interpreter": {
    "hash": "80e5f02f3fa944d55293b1e2ff20ea568041a9b3cc6e2d47bcda60589be25eb6"
   }
  }
 },
 "nbformat": 4,
 "nbformat_minor": 2
}
