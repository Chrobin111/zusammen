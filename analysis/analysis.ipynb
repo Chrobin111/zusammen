{
 "cells": [
  {
   "cell_type": "markdown",
   "metadata": {},
   "source": [
    "## Imports and Setup"
   ]
  },
  {
   "cell_type": "code",
   "execution_count": null,
   "metadata": {},
   "outputs": [],
   "source": [
    "import os\n",
    "import sys\n",
    "\n",
    "import arviz as av\n",
    "import matplotlib.pyplot as plt\n",
    "import numpy as np\n",
    "\n",
    "from threeML import update_logging_level\n",
    "update_logging_level(\"FATAL\")\n",
    "\n",
    "parent_dir = os.path.abspath(\"..\")\n",
    "if parent_dir not in sys.path:\n",
    "    sys.path.append(parent_dir)\n",
    "\n",
    "from zusammen import DataSet"
   ]
  },
  {
   "cell_type": "markdown",
   "metadata": {},
   "source": [
    "## Arviz"
   ]
  },
  {
   "cell_type": "markdown",
   "metadata": {},
   "source": [
    "### Load the data"
   ]
  },
  {
   "cell_type": "code",
   "execution_count": null,
   "metadata": {},
   "outputs": [],
   "source": [
    "data_folder = \"real_data/\"\n",
    "data_name = \"data\"\n",
    "\n",
    "inference_folder = \"inference/\"\n",
    "inference_name = \"real_relaxed_sig_5_500\""
   ]
  },
  {
   "cell_type": "code",
   "execution_count": null,
   "metadata": {},
   "outputs": [],
   "source": [
    "ds = DataSet.from_hdf5_file(data_folder + data_name + \".h5\")\n",
    "data = ds.to_stan_dict()\n",
    "res = av.from_netcdf(inference_folder + inference_name + \".nc\")"
   ]
  },
  {
   "cell_type": "code",
   "execution_count": null,
   "metadata": {},
   "outputs": [],
   "source": [
    "N_intervals = data[\"N_intervals\"]\n",
    "N_grbs = data[\"N_grbs\"]\n",
    "length = res.posterior.gamma.shape[0] * res.posterior.gamma.shape[1]\n",
    "chains = res.posterior.gamma.shape[0]\n",
    "draws = res.posterior.gamma.shape[1]\n",
    "\n",
    "alpha = np.zeros((N_intervals, length))\n",
    "log_ec = np.zeros((N_intervals, length))\n",
    "K_prime = np.zeros((N_intervals, length))\n",
    "K= np.zeros((N_intervals, length))\n",
    "log_energy_flux = np.zeros((N_intervals, length))\n",
    "log_epeak = np.zeros((N_intervals, length))\n",
    "gamma = np.zeros((N_grbs, length))\n",
    "log_Nrest = np.zeros((N_grbs, length))\n",
    "div = np.zeros((N_intervals, length))\n",
    "samples = np.zeros((N_intervals, 3, length))\n",
    "z = data[\"z\"]\n",
    "dl = data[\"dl\"]\n",
    "\n",
    "for id in range(N_intervals):\n",
    "    alpha[id] = res.posterior.alpha.stack(sample=(\"chain\", \"draw\")).values[id]\n",
    "    log_ec[id] = res.posterior.log_ec.stack(sample=(\"chain\", \"draw\")).values[id]\n",
    "    K[id] = res.posterior.K.stack(sample=(\"chain\", \"draw\")).values[id]\n",
    "    log_epeak[id] = res.posterior.log_epeak.stack(sample=(\"chain\", \"draw\")).values[id]\n",
    "    log_energy_flux[id] = res.posterior.log_energy_flux.stack(sample=(\"chain\", \"draw\")).values[id]\n",
    "\n",
    "for id in range(N_grbs):\n",
    "    gamma[id] = res.posterior.gamma.stack(sample=(\"chain\", \"draw\")).values[id]\n",
    "    log_Nrest[id] = res.posterior.log_Nrest.stack(sample=(\"chain\", \"draw\")).values[id]\n",
    "\n",
    "# gamma_mu_meta = res.posterior.gamma_mu_meta.stack(sample=(\"chain\", \"draw\")).values\n",
    "# log_Nrest_mu_meta = res.posterior.log_Nrest_mu_meta.stack(sample=(\"chain\", \"draw\")).values"
   ]
  },
  {
   "cell_type": "markdown",
   "metadata": {},
   "source": [
    "### HDI\n",
    "$1 \\sigma$"
   ]
  },
  {
   "cell_type": "code",
   "execution_count": null,
   "metadata": {},
   "outputs": [],
   "source": [
    "print(np.mean(gamma, 1))\n",
    "print(av.hdi(gamma.T, 0.683))\n",
    "print(sum([i < 1.5 and j > 1.5 for i,j in av.hdi(gamma.T, 0.683)])/gamma.shape[0])"
   ]
  },
  {
   "cell_type": "markdown",
   "metadata": {},
   "source": [
    "$ 2 \\sigma $"
   ]
  },
  {
   "cell_type": "code",
   "execution_count": null,
   "metadata": {},
   "outputs": [],
   "source": [
    "print(av.hdi(gamma.T, 0.954))\n",
    "print(sum([i < 1.5 and j > 1.5 for i,j in av.hdi(gamma.T, 0.954)])/gamma.shape[0])"
   ]
  },
  {
   "cell_type": "markdown",
   "metadata": {},
   "source": [
    "$\\mu_\\gamma$"
   ]
  },
  {
   "cell_type": "code",
   "execution_count": null,
   "metadata": {},
   "outputs": [],
   "source": [
    "print(np.mean(gamma_mu_meta))\n",
    "print(av.hdi(gamma_mu_meta), 0.683)"
   ]
  },
  {
   "cell_type": "markdown",
   "metadata": {},
   "source": [
    "### Plots"
   ]
  },
  {
   "cell_type": "code",
   "execution_count": null,
   "metadata": {},
   "outputs": [],
   "source": [
    "%matplotlib widget\n",
    "\n",
    "fig, ax = plt.subplots(1, 1)\n",
    "for i in gamma:\n",
    "    av.plot_kde(i, ax=ax)\n",
    "# ax.set_xlim(1.377,1.545)\n",
    "# ax.set_ylim(-.5,35)\n",
    "ax.set_xlabel(r\"$\\gamma$\")"
   ]
  },
  {
   "cell_type": "code",
   "execution_count": null,
   "metadata": {},
   "outputs": [],
   "source": [
    "fig, ax = plt.subplots(1, 1)\n",
    "av.plot_kde(gamma_mu_meta, ax=ax)\n",
    "ax.set_xlim(1.377,1.545)\n",
    "ax.set_ylim(0,35)\n",
    "ax.set_xlabel(r\"$\\mu_{\\log N_\\mathrm{rest}}$\")"
   ]
  },
  {
   "cell_type": "code",
   "execution_count": null,
   "metadata": {},
   "outputs": [],
   "source": [
    "%matplotlib widget\n",
    "\n",
    "fig, ax = plt.subplots(1, 1)\n",
    "av.plot_kde(log_epeak[0:6], log_energy_flux[0:6], ax=ax)\n",
    "ax.plot([1.35, 2.4], 52 - (1.099 + 2 * np.log10(dl[0])) + 1.5 * (np.log10(1 + z[0]) + np.array([1.35, 2.4]) - 2), \"b--\")\n",
    "# ax.set_xlim(1.375,2.375)\n",
    "# ax.set_ylim(-5.7,-4.2)\n",
    "# ax.set_xlabel(r\"$\\log E_\\mathrm{peak}$\")\n",
    "# ax.set_ylabel(r\"log F\")"
   ]
  },
  {
   "cell_type": "markdown",
   "metadata": {},
   "source": [
    "### Posterior Predictive Checks"
   ]
  },
  {
   "cell_type": "code",
   "execution_count": null,
   "metadata": {},
   "outputs": [],
   "source": [
    "from posterior_predictive_check import PPC"
   ]
  },
  {
   "cell_type": "code",
   "execution_count": null,
   "metadata": {},
   "outputs": [],
   "source": [
    "p = PPC(data, res)\n",
    "cenergies, ppc_sampled_counts = p.ppc(chain=1, draws=500, grb=0, interval=1, detector=1, interval_in_grb=True)\n",
    "ppc_mu, ppc_1s, ppc_2s = PPC.ppc_summary(ppc_sampled_counts)"
   ]
  },
  {
   "cell_type": "code",
   "execution_count": null,
   "metadata": {},
   "outputs": [],
   "source": [
    "%matplotlib widget\n",
    "plt.stairs(data[\"observed_counts\"][1,1], cenergies, color=\"#dd8452\")\n",
    "# plt.stairs(ppc_mu, cenergies)\n",
    "plt.stairs(ppc_1s[0], cenergies, baseline=ppc_1s[1], fill=True, color=\"#55a868\", alpha=.5)\n",
    "plt.stairs(ppc_2s[0], cenergies, baseline=ppc_2s[1], fill=True, color=\"#4c72b0\", alpha=.2)\n",
    "\n",
    "# plt.ylim(.8,1e2)\n",
    "plt.xlabel(\"Energy\")\n",
    "plt.ylabel(\"Count Rate\")\n",
    "plt.loglog()"
   ]
  },
  {
   "cell_type": "code",
   "execution_count": null,
   "metadata": {},
   "outputs": [],
   "source": []
  }
 ],
 "metadata": {
  "kernelspec": {
   "display_name": "Python 3.8.13 ('bachelor')",
   "language": "python",
   "name": "python3"
  },
  "language_info": {
   "codemirror_mode": {
    "name": "ipython",
    "version": 3
   },
   "file_extension": ".py",
   "mimetype": "text/x-python",
   "name": "python",
   "nbconvert_exporter": "python",
   "pygments_lexer": "ipython3",
   "version": "3.8.13"
  },
  "orig_nbformat": 4,
  "vscode": {
   "interpreter": {
    "hash": "c32814d9e11908585ccc181cca6c7dae7bdf3e835febbae23bde3821f1e724f7"
   }
  }
 },
 "nbformat": 4,
 "nbformat_minor": 2
}
