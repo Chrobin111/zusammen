{
 "cells": [
  {
   "cell_type": "markdown",
   "metadata": {},
   "source": [
    "## Imports and Setup"
   ]
  },
  {
   "cell_type": "code",
   "execution_count": null,
   "metadata": {},
   "outputs": [],
   "source": [
    "import os\n",
    "import sys\n",
    "\n",
    "import arviz as av\n",
    "import matplotlib.pyplot as plt\n",
    "import numpy as np\n",
    "\n",
    "from threeML import update_logging_level\n",
    "update_logging_level(\"FATAL\")\n",
    "\n",
    "parent_dir = os.path.abspath(\"..\")\n",
    "if parent_dir not in sys.path:\n",
    "    sys.path.append(parent_dir)\n",
    "\n",
    "from zusammen import DataSet\n",
    "from posterior_predictive_check import PPC"
   ]
  },
  {
   "cell_type": "markdown",
   "metadata": {},
   "source": [
    "## Arviz"
   ]
  },
  {
   "cell_type": "markdown",
   "metadata": {},
   "source": [
    "### Load the data"
   ]
  },
  {
   "cell_type": "code",
   "execution_count": null,
   "metadata": {},
   "outputs": [],
   "source": [
    "data_folder = \"simulation/\"\n",
    "data_name = \"data_2_sig_5\"\n",
    "survey_name = \"survey_2\"\n",
    "\n",
    "inference_folder = \"inference/\"\n",
    "inference_name = \"simulated_2_sig_5_1000\"\n",
    "# inference_name = \"simulated_int_sig_5_1000\"\n",
    "# inference_name = \"simulated_relaxed_2_sig_5_1000\"\n",
    "# inference_name = \"simulated_global_2_sig_5_1000\"\n",
    "\n",
    "\n",
    "# data_folder = \"real_data/\"\n",
    "# data_name = \"data\"\n",
    "\n",
    "# inference_folder = \"inference/\"\n",
    "# inference_name = \"real_sig_5_1000\"\n",
    "# inference_name = \"real_int_sig_5_1000\"\n",
    "# inference_name = \"real_relaxed_3_sig_5_1000\"\n",
    "# inference_name = \"real_global_sig_5_1000\""
   ]
  },
  {
   "cell_type": "code",
   "execution_count": null,
   "metadata": {},
   "outputs": [],
   "source": [
    "if \"real\" in data_folder:\n",
    "    model = \"real\"\n",
    "else:\n",
    "    model = \"simulated\"\n",
    "    # survey = Survey.from_file(data_folder + survey_name + \".h5\")\n",
    "if \"relaxed\" in inference_name:\n",
    "    model += \"_relaxed\"\n",
    "elif \"global\" in inference_name:\n",
    "    model += \"_global\"\n",
    "elif \"int\" in inference_name:\n",
    "    model += \"_int\"\n",
    "\n",
    "ds = DataSet.from_hdf5_file(data_folder + data_name + \".h5\")\n",
    "data = ds.to_stan_dict()\n",
    "res = av.from_netcdf(inference_folder + inference_name + \".nc\")\n",
    "\n",
    "assert data[\"N_intervals\"] == res.posterior.alpha.shape[2]\n",
    "model"
   ]
  },
  {
   "cell_type": "code",
   "execution_count": null,
   "metadata": {},
   "outputs": [],
   "source": [
    "N_intervals = res.posterior.alpha.shape[2]\n",
    "N_grbs = res.posterior.gamma.shape[2]\n",
    "length = res.posterior.gamma.shape[0] * res.posterior.gamma.shape[1]\n",
    "chains = res.posterior.gamma.shape[0]\n",
    "draws = res.posterior.gamma.shape[1]\n",
    "\n",
    "alpha = np.zeros((N_intervals, length))\n",
    "log_ec = np.zeros((N_intervals, length))\n",
    "K_prime = np.zeros((N_intervals, length))\n",
    "K= np.zeros((N_intervals, length))\n",
    "log_energy_flux = np.zeros((N_intervals, length))\n",
    "log_epeak = np.zeros((N_intervals, length))\n",
    "gamma = np.zeros((N_grbs, length))\n",
    "log_Nrest = np.zeros((N_grbs, length))\n",
    "div = np.zeros((N_intervals, length))\n",
    "samples = np.zeros((N_intervals, 3, length))\n",
    "z = data[\"z\"]\n",
    "dl = data[\"dl\"]\n",
    "\n",
    "for id in range(N_intervals):\n",
    "    alpha[id] = res.posterior.alpha.stack(sample=(\"chain\", \"draw\")).values[id]\n",
    "    log_ec[id] = res.posterior.log_ec.stack(sample=(\"chain\", \"draw\")).values[id]\n",
    "    K[id] = res.posterior.K.stack(sample=(\"chain\", \"draw\")).values[id]\n",
    "    log_epeak[id] = res.posterior.log_epeak.stack(sample=(\"chain\", \"draw\")).values[id]\n",
    "    log_energy_flux[id] = res.posterior.log_energy_flux.stack(sample=(\"chain\", \"draw\")).values[id]\n",
    "\n",
    "for id in range(N_grbs):\n",
    "    gamma[id] = res.posterior.gamma.stack(sample=(\"chain\", \"draw\")).values[id]\n",
    "    log_Nrest[id] = res.posterior.log_Nrest.stack(sample=(\"chain\", \"draw\")).values[id]\n",
    "\n",
    "if \"relaxed\" not in inference_name and \"global\" not in inference_name:\n",
    "    gamma_mu_meta = res.posterior.gamma_mu_meta.stack(sample=(\"chain\", \"draw\")).values\n",
    "    log_Nrest_mu_meta = res.posterior.log_Nrest_mu_meta.stack(sample=(\"chain\", \"draw\")).values\n",
    "\n",
    "if \"int\" in inference_name:\n",
    "    int_scatter = res.posterior.int_scatter.stack(sample=(\"chain\", \"draw\")).values"
   ]
  },
  {
   "cell_type": "code",
   "execution_count": null,
   "metadata": {},
   "outputs": [],
   "source": [
    "np.mean(int_scatter,1)"
   ]
  },
  {
   "cell_type": "markdown",
   "metadata": {},
   "source": [
    "### HDI\n",
    "GC parameters"
   ]
  },
  {
   "cell_type": "code",
   "execution_count": null,
   "metadata": {},
   "outputs": [],
   "source": [
    "print(np.mean(gamma, 1))\n",
    "print(av.hdi(gamma.T, 0.954))\n",
    "print(sum([i < 1.5 and j > 1.5 for i,j in av.hdi(gamma.T, 0.954)])/gamma.shape[0])"
   ]
  },
  {
   "cell_type": "markdown",
   "metadata": {},
   "source": [
    "hyperpriors"
   ]
  },
  {
   "cell_type": "code",
   "execution_count": null,
   "metadata": {},
   "outputs": [],
   "source": [
    "if \"global\" in model:\n",
    "    print(\"gamma\")\n",
    "    print(np.mean(res.posterior.gamma.stack(sample=(\"draw\", \"chain\")).values))\n",
    "    print(av.hdi(res.posterior.gamma, 0.954).gamma.values)\n",
    "\n",
    "    print(\"\\nNrest\")\n",
    "    print(10**np.mean(res.posterior.log_Nrest.stack(sample=(\"draw\", \"chain\")).values))\n",
    "    print(10**av.hdi(res.posterior.log_Nrest, 0.954).log_Nrest.values)\n",
    "elif \"relaxed\" not in model:\n",
    "    print(\"gamma\")\n",
    "    print(np.mean(res.posterior.gamma_mu_meta.stack(sample=(\"draw\", \"chain\")).values))\n",
    "    print(av.hdi(res.posterior.gamma_mu_meta, 0.954).gamma_mu_meta.values)\n",
    "\n",
    "    print(\"\\nlog_Nrest\")\n",
    "    print(10**np.mean(res.posterior.log_Nrest_mu_meta.stack(sample=(\"draw\", \"chain\")).values))\n",
    "    print(10**av.hdi(res.posterior.log_Nrest_mu_meta, 0.954).log_Nrest_mu_meta.values)"
   ]
  },
  {
   "cell_type": "markdown",
   "metadata": {},
   "source": [
    "### Plots"
   ]
  },
  {
   "cell_type": "code",
   "execution_count": null,
   "metadata": {},
   "outputs": [],
   "source": [
    "%matplotlib widget\n",
    "av.plot_trace(res)"
   ]
  },
  {
   "cell_type": "code",
   "execution_count": null,
   "metadata": {},
   "outputs": [],
   "source": [
    "%matplotlib widget\n",
    "\n",
    "fig, ax = plt.subplots(1, 1)\n",
    "for i in gamma:\n",
    "    av.plot_kde(i, ax=ax)\n",
    "# ax.set_xlim(1.377,1.545)\n",
    "# ax.set_ylim(-.5,35)\n",
    "ax.set_xlabel(r\"$\\gamma$\")"
   ]
  },
  {
   "cell_type": "code",
   "execution_count": null,
   "metadata": {},
   "outputs": [],
   "source": [
    "fig, ax = plt.subplots(1, 1)\n",
    "av.plot_kde(gamma_mu_meta, ax=ax)\n",
    "# ax.set_xlim(1.377,1.545)\n",
    "# ax.set_ylim(0,35)\n",
    "ax.set_xlabel(r\"$\\mu_{\\gamma}$\")"
   ]
  },
  {
   "cell_type": "code",
   "execution_count": null,
   "metadata": {},
   "outputs": [],
   "source": [
    "np.argwhere(data[\"grb_id\"] == 4)"
   ]
  },
  {
   "cell_type": "code",
   "execution_count": null,
   "metadata": {},
   "outputs": [],
   "source": [
    "%matplotlib widget\n",
    "\n",
    "fig, ax = plt.subplots(1, 1)\n",
    "av.plot_kde(log_epeak[22:31], log_energy_flux[22:31], ax=ax)\n",
    "ax.plot([0, 2.4], 52 - (1.099 + 2 * np.log10(dl[23])) + 1.5 * (np.log10(1 + z[23]) + np.array([0, 2.4]) - 2), \"b--\")\n",
    "ax.set_xlim(1,2.5)\n",
    "ax.set_ylim(-7,-4.2)\n",
    "# ax.set_xlabel(r\"$\\log E_\\mathrm{peak}$\")\n",
    "# ax.set_ylabel(r\"log F\")"
   ]
  },
  {
   "cell_type": "markdown",
   "metadata": {},
   "source": [
    "### PPC"
   ]
  },
  {
   "cell_type": "code",
   "execution_count": null,
   "metadata": {},
   "outputs": [],
   "source": [
    "in_1_sigma = []\n",
    "in_2_sigma = []\n",
    "for i,j,k in zip(data[\"observed_counts\"][np.where(data[\"grb_id\"] == grb_1 + 1)[0][interval_1],detector], ppc_1s_1.T, ppc_2s_1.T):\n",
    "    in_1_sigma.append(i >= j[0] and i <= j[1])\n",
    "    in_2_sigma.append(i >= k[0] and i <= k[1])\n",
    "print(sum(in_1_sigma) / len(in_1_sigma))\n",
    "print(sum(in_2_sigma) / len(in_2_sigma))\n",
    "\n",
    "for i,j,k in zip(data[\"observed_counts\"][np.where(data[\"grb_id\"] == grb_2 + 1)[0][interval_2],detector], ppc_1s_2.T, ppc_2s_2.T):\n",
    "    in_1_sigma.append(i >= j[0] and i <= j[1])\n",
    "    in_2_sigma.append(i >= k[0] and i <= k[1])\n",
    "print(sum(in_1_sigma) / len(in_1_sigma))\n",
    "print(sum(in_2_sigma) / len(in_2_sigma))"
   ]
  },
  {
   "cell_type": "markdown",
   "metadata": {},
   "source": [
    "### Inference Stats"
   ]
  },
  {
   "cell_type": "code",
   "execution_count": null,
   "metadata": {},
   "outputs": [],
   "source": [
    "av.rhat(res).max()"
   ]
  },
  {
   "cell_type": "code",
   "execution_count": null,
   "metadata": {},
   "outputs": [],
   "source": [
    "res.sample_stats.diverging.sum()"
   ]
  },
  {
   "attachments": {},
   "cell_type": "markdown",
   "metadata": {},
   "source": [
    "### Correlation"
   ]
  },
  {
   "cell_type": "code",
   "execution_count": null,
   "metadata": {},
   "outputs": [],
   "source": [
    "amean, (a1, a2) = np.mean(log_Nrest_mu_meta), av.hdi(log_Nrest_mu_meta, hdi_prob=0.954)\n",
    "print(amean, a1-amean, a2-amean)\n",
    "bmean, (b1, b2) = np.mean(gamma_mu_meta), av.hdi(gamma_mu_meta, hdi_prob=0.954)\n",
    "print(bmean, b1-bmean, b2-bmean)"
   ]
  },
  {
   "attachments": {},
   "cell_type": "markdown",
   "metadata": {},
   "source": [
    "### Reverse Correlation"
   ]
  },
  {
   "cell_type": "code",
   "execution_count": null,
   "metadata": {},
   "outputs": [],
   "source": [
    "amean, (a1, a2) = np.mean(log_Nrest_mu_meta/gamma_mu_meta - 2), av.hdi(log_Nrest_mu_meta/gamma_mu_meta - 2, hdi_prob=0.685)\n",
    "print(amean, a1-amean, a2-amean)\n",
    "bmean, (b1, b2) = np.mean(1/gamma_mu_meta), av.hdi(1/gamma_mu_meta, hdi_prob=0.685)\n",
    "print(bmean, b1-bmean, b2-bmean)"
   ]
  }
 ],
 "metadata": {
  "kernelspec": {
   "display_name": "Python 3.8.13 ('bachelor')",
   "language": "python",
   "name": "python3"
  },
  "language_info": {
   "codemirror_mode": {
    "name": "ipython",
    "version": 3
   },
   "file_extension": ".py",
   "mimetype": "text/x-python",
   "name": "python",
   "nbconvert_exporter": "python",
   "pygments_lexer": "ipython3",
   "version": "3.8.13 | packaged by conda-forge | (default, Mar 25 2022, 06:05:16) \n[Clang 12.0.1 ]"
  },
  "orig_nbformat": 4,
  "vscode": {
   "interpreter": {
    "hash": "c32814d9e11908585ccc181cca6c7dae7bdf3e835febbae23bde3821f1e724f7"
   }
  }
 },
 "nbformat": 4,
 "nbformat_minor": 2
}
