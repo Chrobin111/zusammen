{
 "cells": [
  {
   "cell_type": "markdown",
   "metadata": {},
   "source": [
    "## Imports and Setup"
   ]
  },
  {
   "cell_type": "code",
   "execution_count": 1,
   "metadata": {},
   "outputs": [
    {
     "data": {
      "text/html": [
       "<pre style=\"white-space:pre;overflow-x:auto;line-height:normal;font-family:Menlo,'DejaVu Sans Mono',consolas,'Courier New',monospace\"><span style=\"color: #00ff00; text-decoration-color: #00ff00\">21:09:49 </span><span style=\"color: #af5fd7; text-decoration-color: #af5fd7\">WARNING </span> <span style=\"color: #c6c6c6; text-decoration-color: #c6c6c6; font-weight: bold\"> The naima package is not available. Models that depend on it will not be         </span><a href=\"file:///opt/homebrew/Caskroom/miniconda/base/envs/bachelor/lib/python3.8/site-packages/astromodels/functions/functions_1D/functions.py\" target=\"_blank\"><span style=\"color: #7f7f7f; text-decoration-color: #7f7f7f\">functions.py</span></a><span style=\"color: #7f7f7f; text-decoration-color: #7f7f7f\">:</span><a href=\"file:///opt/homebrew/Caskroom/miniconda/base/envs/bachelor/lib/python3.8/site-packages/astromodels/functions/functions_1D/functions.py#48\" target=\"_blank\"><span style=\"color: #7f7f7f; text-decoration-color: #7f7f7f\">48</span></a>\n",
       "<span style=\"color: #00ff00; text-decoration-color: #00ff00\">         </span>         <span style=\"color: #c6c6c6; text-decoration-color: #c6c6c6; font-weight: bold\">available                                                                         </span><span style=\"color: #7f7f7f; text-decoration-color: #7f7f7f\">               </span>\n",
       "</pre>\n"
      ],
      "text/plain": [
       "\u001b[38;5;46m21:09:49\u001b[0m\u001b[38;5;46m \u001b[0m\u001b[38;5;134mWARNING \u001b[0m \u001b[1;38;5;251m The naima package is not available. Models that depend on it will not be        \u001b[0m\u001b[1;38;5;251m \u001b[0m\u001b]8;id=490898;file:///opt/homebrew/Caskroom/miniconda/base/envs/bachelor/lib/python3.8/site-packages/astromodels/functions/functions_1D/functions.py\u001b\\\u001b[2mfunctions.py\u001b[0m\u001b]8;;\u001b\\\u001b[2m:\u001b[0m\u001b]8;id=533652;file:///opt/homebrew/Caskroom/miniconda/base/envs/bachelor/lib/python3.8/site-packages/astromodels/functions/functions_1D/functions.py#48\u001b\\\u001b[2m48\u001b[0m\u001b]8;;\u001b\\\n",
       "\u001b[38;5;46m         \u001b[0m         \u001b[1;38;5;251mavailable                                                                        \u001b[0m\u001b[1;38;5;251m \u001b[0m\u001b[2m               \u001b[0m\n"
      ]
     },
     "metadata": {},
     "output_type": "display_data"
    },
    {
     "data": {
      "text/html": [
       "<pre style=\"white-space:pre;overflow-x:auto;line-height:normal;font-family:Menlo,'DejaVu Sans Mono',consolas,'Courier New',monospace\"><span style=\"color: #00ff00; text-decoration-color: #00ff00\">         </span><span style=\"color: #af5fd7; text-decoration-color: #af5fd7\">WARNING </span> <span style=\"color: #c6c6c6; text-decoration-color: #c6c6c6; font-weight: bold\"> The GSL library or the pygsl wrapper cannot be loaded. Models that depend on it  </span><a href=\"file:///opt/homebrew/Caskroom/miniconda/base/envs/bachelor/lib/python3.8/site-packages/astromodels/functions/functions_1D/functions.py\" target=\"_blank\"><span style=\"color: #7f7f7f; text-decoration-color: #7f7f7f\">functions.py</span></a><span style=\"color: #7f7f7f; text-decoration-color: #7f7f7f\">:</span><a href=\"file:///opt/homebrew/Caskroom/miniconda/base/envs/bachelor/lib/python3.8/site-packages/astromodels/functions/functions_1D/functions.py#69\" target=\"_blank\"><span style=\"color: #7f7f7f; text-decoration-color: #7f7f7f\">69</span></a>\n",
       "<span style=\"color: #00ff00; text-decoration-color: #00ff00\">         </span>         <span style=\"color: #c6c6c6; text-decoration-color: #c6c6c6; font-weight: bold\">will not be available.                                                            </span><span style=\"color: #7f7f7f; text-decoration-color: #7f7f7f\">               </span>\n",
       "</pre>\n"
      ],
      "text/plain": [
       "\u001b[38;5;46m        \u001b[0m\u001b[38;5;46m \u001b[0m\u001b[38;5;134mWARNING \u001b[0m \u001b[1;38;5;251m The GSL library or the pygsl wrapper cannot be loaded. Models that depend on it \u001b[0m\u001b[1;38;5;251m \u001b[0m\u001b]8;id=973865;file:///opt/homebrew/Caskroom/miniconda/base/envs/bachelor/lib/python3.8/site-packages/astromodels/functions/functions_1D/functions.py\u001b\\\u001b[2mfunctions.py\u001b[0m\u001b]8;;\u001b\\\u001b[2m:\u001b[0m\u001b]8;id=180182;file:///opt/homebrew/Caskroom/miniconda/base/envs/bachelor/lib/python3.8/site-packages/astromodels/functions/functions_1D/functions.py#69\u001b\\\u001b[2m69\u001b[0m\u001b]8;;\u001b\\\n",
       "\u001b[38;5;46m         \u001b[0m         \u001b[1;38;5;251mwill not be available.                                                           \u001b[0m\u001b[1;38;5;251m \u001b[0m\u001b[2m               \u001b[0m\n"
      ]
     },
     "metadata": {},
     "output_type": "display_data"
    },
    {
     "data": {
      "text/html": [
       "<pre style=\"white-space:pre;overflow-x:auto;line-height:normal;font-family:Menlo,'DejaVu Sans Mono',consolas,'Courier New',monospace\"><span style=\"color: #00ff00; text-decoration-color: #00ff00\">         </span><span style=\"color: #af5fd7; text-decoration-color: #af5fd7\">WARNING </span> <span style=\"color: #c6c6c6; text-decoration-color: #c6c6c6; font-weight: bold\"> The ebltable package is not available. Models that depend on it will not be     </span><a href=\"file:///opt/homebrew/Caskroom/miniconda/base/envs/bachelor/lib/python3.8/site-packages/astromodels/functions/functions_1D/absorption.py\" target=\"_blank\"><span style=\"color: #7f7f7f; text-decoration-color: #7f7f7f\">absorption.py</span></a><span style=\"color: #7f7f7f; text-decoration-color: #7f7f7f\">:</span><a href=\"file:///opt/homebrew/Caskroom/miniconda/base/envs/bachelor/lib/python3.8/site-packages/astromodels/functions/functions_1D/absorption.py#36\" target=\"_blank\"><span style=\"color: #7f7f7f; text-decoration-color: #7f7f7f\">36</span></a>\n",
       "<span style=\"color: #00ff00; text-decoration-color: #00ff00\">         </span>         <span style=\"color: #c6c6c6; text-decoration-color: #c6c6c6; font-weight: bold\">available                                                                        </span><span style=\"color: #7f7f7f; text-decoration-color: #7f7f7f\">                </span>\n",
       "</pre>\n"
      ],
      "text/plain": [
       "\u001b[38;5;46m        \u001b[0m\u001b[38;5;46m \u001b[0m\u001b[38;5;134mWARNING \u001b[0m \u001b[1;38;5;251m The ebltable package is not available. Models that depend on it will not be    \u001b[0m\u001b[1;38;5;251m \u001b[0m\u001b]8;id=49457;file:///opt/homebrew/Caskroom/miniconda/base/envs/bachelor/lib/python3.8/site-packages/astromodels/functions/functions_1D/absorption.py\u001b\\\u001b[2mabsorption.py\u001b[0m\u001b]8;;\u001b\\\u001b[2m:\u001b[0m\u001b]8;id=709258;file:///opt/homebrew/Caskroom/miniconda/base/envs/bachelor/lib/python3.8/site-packages/astromodels/functions/functions_1D/absorption.py#36\u001b\\\u001b[2m36\u001b[0m\u001b]8;;\u001b\\\n",
       "\u001b[38;5;46m         \u001b[0m         \u001b[1;38;5;251mavailable                                                                       \u001b[0m\u001b[1;38;5;251m \u001b[0m\u001b[2m                \u001b[0m\n"
      ]
     },
     "metadata": {},
     "output_type": "display_data"
    },
    {
     "data": {
      "text/html": [
       "<pre style=\"white-space:pre;overflow-x:auto;line-height:normal;font-family:Menlo,'DejaVu Sans Mono',consolas,'Courier New',monospace\"><span style=\"color: #00ff00; text-decoration-color: #00ff00\">         </span><span style=\"color: #af5fd7; text-decoration-color: #af5fd7\">WARNING </span> <span style=\"color: #c6c6c6; text-decoration-color: #c6c6c6; font-weight: bold\"> We have set the min_value of K to </span><span style=\"color: #c0c0c0; text-decoration-color: #c0c0c0; font-weight: bold\">1e-99</span><span style=\"color: #c6c6c6; text-decoration-color: #c6c6c6; font-weight: bold\"> because there was a postive transform   </span><a href=\"file:///opt/homebrew/Caskroom/miniconda/base/envs/bachelor/lib/python3.8/site-packages/astromodels/core/parameter.py\" target=\"_blank\"><span style=\"color: #7f7f7f; text-decoration-color: #7f7f7f\">parameter.py</span></a><span style=\"color: #7f7f7f; text-decoration-color: #7f7f7f\">:</span><a href=\"file:///opt/homebrew/Caskroom/miniconda/base/envs/bachelor/lib/python3.8/site-packages/astromodels/core/parameter.py#704\" target=\"_blank\"><span style=\"color: #7f7f7f; text-decoration-color: #7f7f7f\">704</span></a>\n",
       "</pre>\n"
      ],
      "text/plain": [
       "\u001b[38;5;46m        \u001b[0m\u001b[38;5;46m \u001b[0m\u001b[38;5;134mWARNING \u001b[0m \u001b[1;38;5;251m We have set the min_value of K to \u001b[0m\u001b[1;37m1e-99\u001b[0m\u001b[1;38;5;251m because there was a postive transform  \u001b[0m\u001b[1;38;5;251m \u001b[0m\u001b]8;id=126716;file:///opt/homebrew/Caskroom/miniconda/base/envs/bachelor/lib/python3.8/site-packages/astromodels/core/parameter.py\u001b\\\u001b[2mparameter.py\u001b[0m\u001b]8;;\u001b\\\u001b[2m:\u001b[0m\u001b]8;id=990146;file:///opt/homebrew/Caskroom/miniconda/base/envs/bachelor/lib/python3.8/site-packages/astromodels/core/parameter.py#704\u001b\\\u001b[2m704\u001b[0m\u001b]8;;\u001b\\\n"
      ]
     },
     "metadata": {},
     "output_type": "display_data"
    },
    {
     "data": {
      "text/html": [
       "<pre style=\"white-space:pre;overflow-x:auto;line-height:normal;font-family:Menlo,'DejaVu Sans Mono',consolas,'Courier New',monospace\"><span style=\"color: #00ff00; text-decoration-color: #00ff00\">         </span><span style=\"color: #af5fd7; text-decoration-color: #af5fd7\">WARNING </span> <span style=\"color: #c6c6c6; text-decoration-color: #c6c6c6; font-weight: bold\"> We have set the min_value of K to </span><span style=\"color: #c0c0c0; text-decoration-color: #c0c0c0; font-weight: bold\">1e-99</span><span style=\"color: #c6c6c6; text-decoration-color: #c6c6c6; font-weight: bold\"> because there was a postive transform   </span><a href=\"file:///opt/homebrew/Caskroom/miniconda/base/envs/bachelor/lib/python3.8/site-packages/astromodels/core/parameter.py\" target=\"_blank\"><span style=\"color: #7f7f7f; text-decoration-color: #7f7f7f\">parameter.py</span></a><span style=\"color: #7f7f7f; text-decoration-color: #7f7f7f\">:</span><a href=\"file:///opt/homebrew/Caskroom/miniconda/base/envs/bachelor/lib/python3.8/site-packages/astromodels/core/parameter.py#704\" target=\"_blank\"><span style=\"color: #7f7f7f; text-decoration-color: #7f7f7f\">704</span></a>\n",
       "</pre>\n"
      ],
      "text/plain": [
       "\u001b[38;5;46m        \u001b[0m\u001b[38;5;46m \u001b[0m\u001b[38;5;134mWARNING \u001b[0m \u001b[1;38;5;251m We have set the min_value of K to \u001b[0m\u001b[1;37m1e-99\u001b[0m\u001b[1;38;5;251m because there was a postive transform  \u001b[0m\u001b[1;38;5;251m \u001b[0m\u001b]8;id=150676;file:///opt/homebrew/Caskroom/miniconda/base/envs/bachelor/lib/python3.8/site-packages/astromodels/core/parameter.py\u001b\\\u001b[2mparameter.py\u001b[0m\u001b]8;;\u001b\\\u001b[2m:\u001b[0m\u001b]8;id=239009;file:///opt/homebrew/Caskroom/miniconda/base/envs/bachelor/lib/python3.8/site-packages/astromodels/core/parameter.py#704\u001b\\\u001b[2m704\u001b[0m\u001b]8;;\u001b\\\n"
      ]
     },
     "metadata": {},
     "output_type": "display_data"
    },
    {
     "data": {
      "text/html": [
       "<pre style=\"white-space:pre;overflow-x:auto;line-height:normal;font-family:Menlo,'DejaVu Sans Mono',consolas,'Courier New',monospace\"><span style=\"color: #00ff00; text-decoration-color: #00ff00\">         </span><span style=\"color: #af5fd7; text-decoration-color: #af5fd7\">WARNING </span> <span style=\"color: #c6c6c6; text-decoration-color: #c6c6c6; font-weight: bold\"> We have set the min_value of K to </span><span style=\"color: #c0c0c0; text-decoration-color: #c0c0c0; font-weight: bold\">1e-99</span><span style=\"color: #c6c6c6; text-decoration-color: #c6c6c6; font-weight: bold\"> because there was a postive transform   </span><a href=\"file:///opt/homebrew/Caskroom/miniconda/base/envs/bachelor/lib/python3.8/site-packages/astromodels/core/parameter.py\" target=\"_blank\"><span style=\"color: #7f7f7f; text-decoration-color: #7f7f7f\">parameter.py</span></a><span style=\"color: #7f7f7f; text-decoration-color: #7f7f7f\">:</span><a href=\"file:///opt/homebrew/Caskroom/miniconda/base/envs/bachelor/lib/python3.8/site-packages/astromodels/core/parameter.py#704\" target=\"_blank\"><span style=\"color: #7f7f7f; text-decoration-color: #7f7f7f\">704</span></a>\n",
       "</pre>\n"
      ],
      "text/plain": [
       "\u001b[38;5;46m        \u001b[0m\u001b[38;5;46m \u001b[0m\u001b[38;5;134mWARNING \u001b[0m \u001b[1;38;5;251m We have set the min_value of K to \u001b[0m\u001b[1;37m1e-99\u001b[0m\u001b[1;38;5;251m because there was a postive transform  \u001b[0m\u001b[1;38;5;251m \u001b[0m\u001b]8;id=986851;file:///opt/homebrew/Caskroom/miniconda/base/envs/bachelor/lib/python3.8/site-packages/astromodels/core/parameter.py\u001b\\\u001b[2mparameter.py\u001b[0m\u001b]8;;\u001b\\\u001b[2m:\u001b[0m\u001b]8;id=395160;file:///opt/homebrew/Caskroom/miniconda/base/envs/bachelor/lib/python3.8/site-packages/astromodels/core/parameter.py#704\u001b\\\u001b[2m704\u001b[0m\u001b]8;;\u001b\\\n"
      ]
     },
     "metadata": {},
     "output_type": "display_data"
    },
    {
     "data": {
      "text/html": [
       "<pre style=\"white-space:pre;overflow-x:auto;line-height:normal;font-family:Menlo,'DejaVu Sans Mono',consolas,'Courier New',monospace\"><span style=\"color: #00ff00; text-decoration-color: #00ff00\">         </span><span style=\"color: #af5fd7; text-decoration-color: #af5fd7\">WARNING </span> <span style=\"color: #c6c6c6; text-decoration-color: #c6c6c6; font-weight: bold\"> We have set the min_value of K to </span><span style=\"color: #c0c0c0; text-decoration-color: #c0c0c0; font-weight: bold\">1e-99</span><span style=\"color: #c6c6c6; text-decoration-color: #c6c6c6; font-weight: bold\"> because there was a postive transform   </span><a href=\"file:///opt/homebrew/Caskroom/miniconda/base/envs/bachelor/lib/python3.8/site-packages/astromodels/core/parameter.py\" target=\"_blank\"><span style=\"color: #7f7f7f; text-decoration-color: #7f7f7f\">parameter.py</span></a><span style=\"color: #7f7f7f; text-decoration-color: #7f7f7f\">:</span><a href=\"file:///opt/homebrew/Caskroom/miniconda/base/envs/bachelor/lib/python3.8/site-packages/astromodels/core/parameter.py#704\" target=\"_blank\"><span style=\"color: #7f7f7f; text-decoration-color: #7f7f7f\">704</span></a>\n",
       "</pre>\n"
      ],
      "text/plain": [
       "\u001b[38;5;46m        \u001b[0m\u001b[38;5;46m \u001b[0m\u001b[38;5;134mWARNING \u001b[0m \u001b[1;38;5;251m We have set the min_value of K to \u001b[0m\u001b[1;37m1e-99\u001b[0m\u001b[1;38;5;251m because there was a postive transform  \u001b[0m\u001b[1;38;5;251m \u001b[0m\u001b]8;id=734143;file:///opt/homebrew/Caskroom/miniconda/base/envs/bachelor/lib/python3.8/site-packages/astromodels/core/parameter.py\u001b\\\u001b[2mparameter.py\u001b[0m\u001b]8;;\u001b\\\u001b[2m:\u001b[0m\u001b]8;id=567681;file:///opt/homebrew/Caskroom/miniconda/base/envs/bachelor/lib/python3.8/site-packages/astromodels/core/parameter.py#704\u001b\\\u001b[2m704\u001b[0m\u001b]8;;\u001b\\\n"
      ]
     },
     "metadata": {},
     "output_type": "display_data"
    },
    {
     "data": {
      "text/html": [
       "<pre style=\"white-space:pre;overflow-x:auto;line-height:normal;font-family:Menlo,'DejaVu Sans Mono',consolas,'Courier New',monospace\"><span style=\"color: #00ff00; text-decoration-color: #00ff00\">         </span><span style=\"color: #af5fd7; text-decoration-color: #af5fd7\">WARNING </span> <span style=\"color: #c6c6c6; text-decoration-color: #c6c6c6; font-weight: bold\"> We have set the min_value of F to </span><span style=\"color: #c0c0c0; text-decoration-color: #c0c0c0; font-weight: bold\">1e-99</span><span style=\"color: #c6c6c6; text-decoration-color: #c6c6c6; font-weight: bold\"> because there was a postive transform   </span><a href=\"file:///opt/homebrew/Caskroom/miniconda/base/envs/bachelor/lib/python3.8/site-packages/astromodels/core/parameter.py\" target=\"_blank\"><span style=\"color: #7f7f7f; text-decoration-color: #7f7f7f\">parameter.py</span></a><span style=\"color: #7f7f7f; text-decoration-color: #7f7f7f\">:</span><a href=\"file:///opt/homebrew/Caskroom/miniconda/base/envs/bachelor/lib/python3.8/site-packages/astromodels/core/parameter.py#704\" target=\"_blank\"><span style=\"color: #7f7f7f; text-decoration-color: #7f7f7f\">704</span></a>\n",
       "</pre>\n"
      ],
      "text/plain": [
       "\u001b[38;5;46m        \u001b[0m\u001b[38;5;46m \u001b[0m\u001b[38;5;134mWARNING \u001b[0m \u001b[1;38;5;251m We have set the min_value of F to \u001b[0m\u001b[1;37m1e-99\u001b[0m\u001b[1;38;5;251m because there was a postive transform  \u001b[0m\u001b[1;38;5;251m \u001b[0m\u001b]8;id=992855;file:///opt/homebrew/Caskroom/miniconda/base/envs/bachelor/lib/python3.8/site-packages/astromodels/core/parameter.py\u001b\\\u001b[2mparameter.py\u001b[0m\u001b]8;;\u001b\\\u001b[2m:\u001b[0m\u001b]8;id=500836;file:///opt/homebrew/Caskroom/miniconda/base/envs/bachelor/lib/python3.8/site-packages/astromodels/core/parameter.py#704\u001b\\\u001b[2m704\u001b[0m\u001b]8;;\u001b\\\n"
      ]
     },
     "metadata": {},
     "output_type": "display_data"
    },
    {
     "data": {
      "text/html": [
       "<pre style=\"white-space:pre;overflow-x:auto;line-height:normal;font-family:Menlo,'DejaVu Sans Mono',consolas,'Courier New',monospace\"><span style=\"color: #00ff00; text-decoration-color: #00ff00\">         </span><span style=\"color: #af5fd7; text-decoration-color: #af5fd7\">WARNING </span> <span style=\"color: #c6c6c6; text-decoration-color: #c6c6c6; font-weight: bold\"> We have set the min_value of K to </span><span style=\"color: #c0c0c0; text-decoration-color: #c0c0c0; font-weight: bold\">1e-99</span><span style=\"color: #c6c6c6; text-decoration-color: #c6c6c6; font-weight: bold\"> because there was a postive transform   </span><a href=\"file:///opt/homebrew/Caskroom/miniconda/base/envs/bachelor/lib/python3.8/site-packages/astromodels/core/parameter.py\" target=\"_blank\"><span style=\"color: #7f7f7f; text-decoration-color: #7f7f7f\">parameter.py</span></a><span style=\"color: #7f7f7f; text-decoration-color: #7f7f7f\">:</span><a href=\"file:///opt/homebrew/Caskroom/miniconda/base/envs/bachelor/lib/python3.8/site-packages/astromodels/core/parameter.py#704\" target=\"_blank\"><span style=\"color: #7f7f7f; text-decoration-color: #7f7f7f\">704</span></a>\n",
       "</pre>\n"
      ],
      "text/plain": [
       "\u001b[38;5;46m        \u001b[0m\u001b[38;5;46m \u001b[0m\u001b[38;5;134mWARNING \u001b[0m \u001b[1;38;5;251m We have set the min_value of K to \u001b[0m\u001b[1;37m1e-99\u001b[0m\u001b[1;38;5;251m because there was a postive transform  \u001b[0m\u001b[1;38;5;251m \u001b[0m\u001b]8;id=271199;file:///opt/homebrew/Caskroom/miniconda/base/envs/bachelor/lib/python3.8/site-packages/astromodels/core/parameter.py\u001b\\\u001b[2mparameter.py\u001b[0m\u001b]8;;\u001b\\\u001b[2m:\u001b[0m\u001b]8;id=866314;file:///opt/homebrew/Caskroom/miniconda/base/envs/bachelor/lib/python3.8/site-packages/astromodels/core/parameter.py#704\u001b\\\u001b[2m704\u001b[0m\u001b]8;;\u001b\\\n"
      ]
     },
     "metadata": {},
     "output_type": "display_data"
    },
    {
     "data": {
      "text/html": [
       "<pre style=\"white-space:pre;overflow-x:auto;line-height:normal;font-family:Menlo,'DejaVu Sans Mono',consolas,'Courier New',monospace\"><span style=\"color: #00ff00; text-decoration-color: #00ff00\">21:09:50 </span><span style=\"color: #00ffaf; text-decoration-color: #00ffaf\">INFO    </span> <span style=\"color: #c6c6c6; text-decoration-color: #c6c6c6; font-weight: bold\"> Starting 3ML!                                                                     </span><a href=\"file:///opt/homebrew/Caskroom/miniconda/base/envs/bachelor/lib/python3.8/site-packages/threeML/__init__.py\" target=\"_blank\"><span style=\"color: #7f7f7f; text-decoration-color: #7f7f7f\">__init__.py</span></a><span style=\"color: #7f7f7f; text-decoration-color: #7f7f7f\">:</span><a href=\"file:///opt/homebrew/Caskroom/miniconda/base/envs/bachelor/lib/python3.8/site-packages/threeML/__init__.py#35\" target=\"_blank\"><span style=\"color: #7f7f7f; text-decoration-color: #7f7f7f\">35</span></a>\n",
       "</pre>\n"
      ],
      "text/plain": [
       "\u001b[38;5;46m21:09:50\u001b[0m\u001b[38;5;46m \u001b[0m\u001b[38;5;49mINFO    \u001b[0m \u001b[1;38;5;251m Starting 3ML!                                                                    \u001b[0m\u001b[1;38;5;251m \u001b[0m\u001b]8;id=492504;file:///opt/homebrew/Caskroom/miniconda/base/envs/bachelor/lib/python3.8/site-packages/threeML/__init__.py\u001b\\\u001b[2m__init__.py\u001b[0m\u001b]8;;\u001b\\\u001b[2m:\u001b[0m\u001b]8;id=925368;file:///opt/homebrew/Caskroom/miniconda/base/envs/bachelor/lib/python3.8/site-packages/threeML/__init__.py#35\u001b\\\u001b[2m35\u001b[0m\u001b]8;;\u001b\\\n"
      ]
     },
     "metadata": {},
     "output_type": "display_data"
    },
    {
     "data": {
      "text/html": [
       "<pre style=\"white-space:pre;overflow-x:auto;line-height:normal;font-family:Menlo,'DejaVu Sans Mono',consolas,'Courier New',monospace\"><span style=\"color: #00ff00; text-decoration-color: #00ff00\">         </span><span style=\"color: #af5fd7; text-decoration-color: #af5fd7\">WARNING </span> <span style=\"color: #c6c6c6; text-decoration-color: #c6c6c6; font-weight: bold\"> WARNINGs here are </span><span style=\"color: #800000; text-decoration-color: #800000; font-weight: bold\">NOT</span><span style=\"color: #c6c6c6; text-decoration-color: #c6c6c6; font-weight: bold\"> errors                                                      </span><a href=\"file:///opt/homebrew/Caskroom/miniconda/base/envs/bachelor/lib/python3.8/site-packages/threeML/__init__.py\" target=\"_blank\"><span style=\"color: #7f7f7f; text-decoration-color: #7f7f7f\">__init__.py</span></a><span style=\"color: #7f7f7f; text-decoration-color: #7f7f7f\">:</span><a href=\"file:///opt/homebrew/Caskroom/miniconda/base/envs/bachelor/lib/python3.8/site-packages/threeML/__init__.py#36\" target=\"_blank\"><span style=\"color: #7f7f7f; text-decoration-color: #7f7f7f\">36</span></a>\n",
       "</pre>\n"
      ],
      "text/plain": [
       "\u001b[38;5;46m        \u001b[0m\u001b[38;5;46m \u001b[0m\u001b[38;5;134mWARNING \u001b[0m \u001b[1;38;5;251m WARNINGs here are \u001b[0m\u001b[1;31mNOT\u001b[0m\u001b[1;38;5;251m errors                                                     \u001b[0m\u001b[1;38;5;251m \u001b[0m\u001b]8;id=447462;file:///opt/homebrew/Caskroom/miniconda/base/envs/bachelor/lib/python3.8/site-packages/threeML/__init__.py\u001b\\\u001b[2m__init__.py\u001b[0m\u001b]8;;\u001b\\\u001b[2m:\u001b[0m\u001b]8;id=114230;file:///opt/homebrew/Caskroom/miniconda/base/envs/bachelor/lib/python3.8/site-packages/threeML/__init__.py#36\u001b\\\u001b[2m36\u001b[0m\u001b]8;;\u001b\\\n"
      ]
     },
     "metadata": {},
     "output_type": "display_data"
    },
    {
     "data": {
      "text/html": [
       "<pre style=\"white-space:pre;overflow-x:auto;line-height:normal;font-family:Menlo,'DejaVu Sans Mono',consolas,'Courier New',monospace\"><span style=\"color: #00ff00; text-decoration-color: #00ff00\">         </span><span style=\"color: #af5fd7; text-decoration-color: #af5fd7\">WARNING </span> <span style=\"color: #c6c6c6; text-decoration-color: #c6c6c6; font-weight: bold\"> but are inform you about optional packages that can be installed                  </span><a href=\"file:///opt/homebrew/Caskroom/miniconda/base/envs/bachelor/lib/python3.8/site-packages/threeML/__init__.py\" target=\"_blank\"><span style=\"color: #7f7f7f; text-decoration-color: #7f7f7f\">__init__.py</span></a><span style=\"color: #7f7f7f; text-decoration-color: #7f7f7f\">:</span><a href=\"file:///opt/homebrew/Caskroom/miniconda/base/envs/bachelor/lib/python3.8/site-packages/threeML/__init__.py#37\" target=\"_blank\"><span style=\"color: #7f7f7f; text-decoration-color: #7f7f7f\">37</span></a>\n",
       "</pre>\n"
      ],
      "text/plain": [
       "\u001b[38;5;46m        \u001b[0m\u001b[38;5;46m \u001b[0m\u001b[38;5;134mWARNING \u001b[0m \u001b[1;38;5;251m but are inform you about optional packages that can be installed                 \u001b[0m\u001b[1;38;5;251m \u001b[0m\u001b]8;id=213990;file:///opt/homebrew/Caskroom/miniconda/base/envs/bachelor/lib/python3.8/site-packages/threeML/__init__.py\u001b\\\u001b[2m__init__.py\u001b[0m\u001b]8;;\u001b\\\u001b[2m:\u001b[0m\u001b]8;id=849090;file:///opt/homebrew/Caskroom/miniconda/base/envs/bachelor/lib/python3.8/site-packages/threeML/__init__.py#37\u001b\\\u001b[2m37\u001b[0m\u001b]8;;\u001b\\\n"
      ]
     },
     "metadata": {},
     "output_type": "display_data"
    },
    {
     "data": {
      "text/html": [
       "<pre style=\"white-space:pre;overflow-x:auto;line-height:normal;font-family:Menlo,'DejaVu Sans Mono',consolas,'Courier New',monospace\"><span style=\"color: #00ff00; text-decoration-color: #00ff00\">         </span><span style=\"color: #af5fd7; text-decoration-color: #af5fd7\">WARNING </span> <span style=\"color: #c6c6c6; text-decoration-color: #c6c6c6; font-weight: bold\"> </span><span style=\"color: #800000; text-decoration-color: #800000; font-weight: bold\"> to disable these messages, turn off start_warning in your config file</span><span style=\"color: #c6c6c6; text-decoration-color: #c6c6c6; font-weight: bold\">            </span><a href=\"file:///opt/homebrew/Caskroom/miniconda/base/envs/bachelor/lib/python3.8/site-packages/threeML/__init__.py\" target=\"_blank\"><span style=\"color: #7f7f7f; text-decoration-color: #7f7f7f\">__init__.py</span></a><span style=\"color: #7f7f7f; text-decoration-color: #7f7f7f\">:</span><a href=\"file:///opt/homebrew/Caskroom/miniconda/base/envs/bachelor/lib/python3.8/site-packages/threeML/__init__.py#40\" target=\"_blank\"><span style=\"color: #7f7f7f; text-decoration-color: #7f7f7f\">40</span></a>\n",
       "</pre>\n"
      ],
      "text/plain": [
       "\u001b[38;5;46m        \u001b[0m\u001b[38;5;46m \u001b[0m\u001b[38;5;134mWARNING \u001b[0m \u001b[1;38;5;251m \u001b[0m\u001b[1;31m to disable these messages, turn off start_warning in your config file\u001b[0m\u001b[1;38;5;251m           \u001b[0m\u001b[1;38;5;251m \u001b[0m\u001b]8;id=614579;file:///opt/homebrew/Caskroom/miniconda/base/envs/bachelor/lib/python3.8/site-packages/threeML/__init__.py\u001b\\\u001b[2m__init__.py\u001b[0m\u001b]8;;\u001b\\\u001b[2m:\u001b[0m\u001b]8;id=752197;file:///opt/homebrew/Caskroom/miniconda/base/envs/bachelor/lib/python3.8/site-packages/threeML/__init__.py#40\u001b\\\u001b[2m40\u001b[0m\u001b]8;;\u001b\\\n"
      ]
     },
     "metadata": {},
     "output_type": "display_data"
    },
    {
     "data": {
      "text/html": [
       "<pre style=\"white-space:pre;overflow-x:auto;line-height:normal;font-family:Menlo,'DejaVu Sans Mono',consolas,'Courier New',monospace\"><span style=\"color: #00ff00; text-decoration-color: #00ff00\">         </span><span style=\"color: #af5fd7; text-decoration-color: #af5fd7\">WARNING </span> <span style=\"color: #c6c6c6; text-decoration-color: #c6c6c6; font-weight: bold\"> no display variable set. using backend for graphics without display (agg)         </span><a href=\"file:///opt/homebrew/Caskroom/miniconda/base/envs/bachelor/lib/python3.8/site-packages/threeML/__init__.py\" target=\"_blank\"><span style=\"color: #7f7f7f; text-decoration-color: #7f7f7f\">__init__.py</span></a><span style=\"color: #7f7f7f; text-decoration-color: #7f7f7f\">:</span><a href=\"file:///opt/homebrew/Caskroom/miniconda/base/envs/bachelor/lib/python3.8/site-packages/threeML/__init__.py#46\" target=\"_blank\"><span style=\"color: #7f7f7f; text-decoration-color: #7f7f7f\">46</span></a>\n",
       "</pre>\n"
      ],
      "text/plain": [
       "\u001b[38;5;46m        \u001b[0m\u001b[38;5;46m \u001b[0m\u001b[38;5;134mWARNING \u001b[0m \u001b[1;38;5;251m no display variable set. using backend for graphics without display \u001b[0m\u001b[1;38;5;251m(\u001b[0m\u001b[1;38;5;251magg\u001b[0m\u001b[1;38;5;251m)\u001b[0m\u001b[1;38;5;251m        \u001b[0m\u001b[1;38;5;251m \u001b[0m\u001b]8;id=628734;file:///opt/homebrew/Caskroom/miniconda/base/envs/bachelor/lib/python3.8/site-packages/threeML/__init__.py\u001b\\\u001b[2m__init__.py\u001b[0m\u001b]8;;\u001b\\\u001b[2m:\u001b[0m\u001b]8;id=665263;file:///opt/homebrew/Caskroom/miniconda/base/envs/bachelor/lib/python3.8/site-packages/threeML/__init__.py#46\u001b\\\u001b[2m46\u001b[0m\u001b]8;;\u001b\\\n"
      ]
     },
     "metadata": {},
     "output_type": "display_data"
    },
    {
     "data": {
      "text/html": [
       "<pre style=\"white-space:pre;overflow-x:auto;line-height:normal;font-family:Menlo,'DejaVu Sans Mono',consolas,'Courier New',monospace\"><span style=\"color: #00ff00; text-decoration-color: #00ff00\">         </span><span style=\"color: #af5fd7; text-decoration-color: #af5fd7\">WARNING </span> <span style=\"color: #c6c6c6; text-decoration-color: #c6c6c6; font-weight: bold\"> ROOT minimizer not available                                                </span><a href=\"file:///opt/homebrew/Caskroom/miniconda/base/envs/bachelor/lib/python3.8/site-packages/threeML/minimizer/minimization.py\" target=\"_blank\"><span style=\"color: #7f7f7f; text-decoration-color: #7f7f7f\">minimization.py</span></a><span style=\"color: #7f7f7f; text-decoration-color: #7f7f7f\">:</span><a href=\"file:///opt/homebrew/Caskroom/miniconda/base/envs/bachelor/lib/python3.8/site-packages/threeML/minimizer/minimization.py#1345\" target=\"_blank\"><span style=\"color: #7f7f7f; text-decoration-color: #7f7f7f\">1345</span></a>\n",
       "</pre>\n"
      ],
      "text/plain": [
       "\u001b[38;5;46m        \u001b[0m\u001b[38;5;46m \u001b[0m\u001b[38;5;134mWARNING \u001b[0m \u001b[1;38;5;251m ROOT minimizer not available                                               \u001b[0m\u001b[1;38;5;251m \u001b[0m\u001b]8;id=216538;file:///opt/homebrew/Caskroom/miniconda/base/envs/bachelor/lib/python3.8/site-packages/threeML/minimizer/minimization.py\u001b\\\u001b[2mminimization.py\u001b[0m\u001b]8;;\u001b\\\u001b[2m:\u001b[0m\u001b]8;id=909926;file:///opt/homebrew/Caskroom/miniconda/base/envs/bachelor/lib/python3.8/site-packages/threeML/minimizer/minimization.py#1345\u001b\\\u001b[2m1345\u001b[0m\u001b]8;;\u001b\\\n"
      ]
     },
     "metadata": {},
     "output_type": "display_data"
    },
    {
     "data": {
      "text/html": [
       "<pre style=\"white-space:pre;overflow-x:auto;line-height:normal;font-family:Menlo,'DejaVu Sans Mono',consolas,'Courier New',monospace\"><span style=\"color: #00ff00; text-decoration-color: #00ff00\">         </span><span style=\"color: #af5fd7; text-decoration-color: #af5fd7\">WARNING </span> <span style=\"color: #c6c6c6; text-decoration-color: #c6c6c6; font-weight: bold\"> Multinest minimizer not available                                           </span><a href=\"file:///opt/homebrew/Caskroom/miniconda/base/envs/bachelor/lib/python3.8/site-packages/threeML/minimizer/minimization.py\" target=\"_blank\"><span style=\"color: #7f7f7f; text-decoration-color: #7f7f7f\">minimization.py</span></a><span style=\"color: #7f7f7f; text-decoration-color: #7f7f7f\">:</span><a href=\"file:///opt/homebrew/Caskroom/miniconda/base/envs/bachelor/lib/python3.8/site-packages/threeML/minimizer/minimization.py#1357\" target=\"_blank\"><span style=\"color: #7f7f7f; text-decoration-color: #7f7f7f\">1357</span></a>\n",
       "</pre>\n"
      ],
      "text/plain": [
       "\u001b[38;5;46m        \u001b[0m\u001b[38;5;46m \u001b[0m\u001b[38;5;134mWARNING \u001b[0m \u001b[1;38;5;251m Multinest minimizer not available                                          \u001b[0m\u001b[1;38;5;251m \u001b[0m\u001b]8;id=134380;file:///opt/homebrew/Caskroom/miniconda/base/envs/bachelor/lib/python3.8/site-packages/threeML/minimizer/minimization.py\u001b\\\u001b[2mminimization.py\u001b[0m\u001b]8;;\u001b\\\u001b[2m:\u001b[0m\u001b]8;id=834080;file:///opt/homebrew/Caskroom/miniconda/base/envs/bachelor/lib/python3.8/site-packages/threeML/minimizer/minimization.py#1357\u001b\\\u001b[2m1357\u001b[0m\u001b]8;;\u001b\\\n"
      ]
     },
     "metadata": {},
     "output_type": "display_data"
    },
    {
     "data": {
      "text/html": [
       "<pre style=\"white-space:pre;overflow-x:auto;line-height:normal;font-family:Menlo,'DejaVu Sans Mono',consolas,'Courier New',monospace\"><span style=\"color: #00ff00; text-decoration-color: #00ff00\">         </span><span style=\"color: #af5fd7; text-decoration-color: #af5fd7\">WARNING </span> <span style=\"color: #c6c6c6; text-decoration-color: #c6c6c6; font-weight: bold\"> PyGMO is not available                                                      </span><a href=\"file:///opt/homebrew/Caskroom/miniconda/base/envs/bachelor/lib/python3.8/site-packages/threeML/minimizer/minimization.py\" target=\"_blank\"><span style=\"color: #7f7f7f; text-decoration-color: #7f7f7f\">minimization.py</span></a><span style=\"color: #7f7f7f; text-decoration-color: #7f7f7f\">:</span><a href=\"file:///opt/homebrew/Caskroom/miniconda/base/envs/bachelor/lib/python3.8/site-packages/threeML/minimizer/minimization.py#1369\" target=\"_blank\"><span style=\"color: #7f7f7f; text-decoration-color: #7f7f7f\">1369</span></a>\n",
       "</pre>\n"
      ],
      "text/plain": [
       "\u001b[38;5;46m        \u001b[0m\u001b[38;5;46m \u001b[0m\u001b[38;5;134mWARNING \u001b[0m \u001b[1;38;5;251m PyGMO is not available                                                     \u001b[0m\u001b[1;38;5;251m \u001b[0m\u001b]8;id=773669;file:///opt/homebrew/Caskroom/miniconda/base/envs/bachelor/lib/python3.8/site-packages/threeML/minimizer/minimization.py\u001b\\\u001b[2mminimization.py\u001b[0m\u001b]8;;\u001b\\\u001b[2m:\u001b[0m\u001b]8;id=119030;file:///opt/homebrew/Caskroom/miniconda/base/envs/bachelor/lib/python3.8/site-packages/threeML/minimizer/minimization.py#1369\u001b\\\u001b[2m1369\u001b[0m\u001b]8;;\u001b\\\n"
      ]
     },
     "metadata": {},
     "output_type": "display_data"
    },
    {
     "data": {
      "text/html": [
       "<pre style=\"white-space:pre;overflow-x:auto;line-height:normal;font-family:Menlo,'DejaVu Sans Mono',consolas,'Courier New',monospace\"><span style=\"color: #00ff00; text-decoration-color: #00ff00\">21:09:50 </span><span style=\"color: #af5fd7; text-decoration-color: #af5fd7\">WARNING </span> <span style=\"color: #c6c6c6; text-decoration-color: #c6c6c6; font-weight: bold\"> The cthreeML package is not installed. You will not be able to use plugins which  </span><a href=\"file:///opt/homebrew/Caskroom/miniconda/base/envs/bachelor/lib/python3.8/site-packages/threeML/__init__.py\" target=\"_blank\"><span style=\"color: #7f7f7f; text-decoration-color: #7f7f7f\">__init__.py</span></a><span style=\"color: #7f7f7f; text-decoration-color: #7f7f7f\">:</span><a href=\"file:///opt/homebrew/Caskroom/miniconda/base/envs/bachelor/lib/python3.8/site-packages/threeML/__init__.py#94\" target=\"_blank\"><span style=\"color: #7f7f7f; text-decoration-color: #7f7f7f\">94</span></a>\n",
       "<span style=\"color: #00ff00; text-decoration-color: #00ff00\">         </span>         <span style=\"color: #c6c6c6; text-decoration-color: #c6c6c6; font-weight: bold\">require the C/C++ interface (currently HAWC)                                       </span><span style=\"color: #7f7f7f; text-decoration-color: #7f7f7f\">              </span>\n",
       "</pre>\n"
      ],
      "text/plain": [
       "\u001b[38;5;46m21:09:50\u001b[0m\u001b[38;5;46m \u001b[0m\u001b[38;5;134mWARNING \u001b[0m \u001b[1;38;5;251m The cthreeML package is not installed. You will not be able to use plugins which \u001b[0m\u001b[1;38;5;251m \u001b[0m\u001b]8;id=857425;file:///opt/homebrew/Caskroom/miniconda/base/envs/bachelor/lib/python3.8/site-packages/threeML/__init__.py\u001b\\\u001b[2m__init__.py\u001b[0m\u001b]8;;\u001b\\\u001b[2m:\u001b[0m\u001b]8;id=644300;file:///opt/homebrew/Caskroom/miniconda/base/envs/bachelor/lib/python3.8/site-packages/threeML/__init__.py#94\u001b\\\u001b[2m94\u001b[0m\u001b]8;;\u001b\\\n",
       "\u001b[38;5;46m         \u001b[0m         \u001b[1;38;5;251mrequire the C/C++ interface \u001b[0m\u001b[1;38;5;251m(\u001b[0m\u001b[1;38;5;251mcurrently HAWC\u001b[0m\u001b[1;38;5;251m)\u001b[0m\u001b[1;38;5;251m                                      \u001b[0m\u001b[1;38;5;251m \u001b[0m\u001b[2m              \u001b[0m\n"
      ]
     },
     "metadata": {},
     "output_type": "display_data"
    },
    {
     "data": {
      "text/html": [
       "<pre style=\"white-space:pre;overflow-x:auto;line-height:normal;font-family:Menlo,'DejaVu Sans Mono',consolas,'Courier New',monospace\"><span style=\"color: #00ff00; text-decoration-color: #00ff00\">         </span><span style=\"color: #af5fd7; text-decoration-color: #af5fd7\">WARNING </span> <span style=\"color: #c6c6c6; text-decoration-color: #c6c6c6; font-weight: bold\"> Could not import plugin HAWCLike.py. Do you have the relative instrument         </span><a href=\"file:///opt/homebrew/Caskroom/miniconda/base/envs/bachelor/lib/python3.8/site-packages/threeML/__init__.py\" target=\"_blank\"><span style=\"color: #7f7f7f; text-decoration-color: #7f7f7f\">__init__.py</span></a><span style=\"color: #7f7f7f; text-decoration-color: #7f7f7f\">:</span><a href=\"file:///opt/homebrew/Caskroom/miniconda/base/envs/bachelor/lib/python3.8/site-packages/threeML/__init__.py#144\" target=\"_blank\"><span style=\"color: #7f7f7f; text-decoration-color: #7f7f7f\">144</span></a>\n",
       "<span style=\"color: #00ff00; text-decoration-color: #00ff00\">         </span>         <span style=\"color: #c6c6c6; text-decoration-color: #c6c6c6; font-weight: bold\">software installed and configured?                                                </span><span style=\"color: #7f7f7f; text-decoration-color: #7f7f7f\">               </span>\n",
       "</pre>\n"
      ],
      "text/plain": [
       "\u001b[38;5;46m        \u001b[0m\u001b[38;5;46m \u001b[0m\u001b[38;5;134mWARNING \u001b[0m \u001b[1;38;5;251m Could not import plugin HAWCLike.py. Do you have the relative instrument        \u001b[0m\u001b[1;38;5;251m \u001b[0m\u001b]8;id=668829;file:///opt/homebrew/Caskroom/miniconda/base/envs/bachelor/lib/python3.8/site-packages/threeML/__init__.py\u001b\\\u001b[2m__init__.py\u001b[0m\u001b]8;;\u001b\\\u001b[2m:\u001b[0m\u001b]8;id=276917;file:///opt/homebrew/Caskroom/miniconda/base/envs/bachelor/lib/python3.8/site-packages/threeML/__init__.py#144\u001b\\\u001b[2m144\u001b[0m\u001b]8;;\u001b\\\n",
       "\u001b[38;5;46m         \u001b[0m         \u001b[1;38;5;251msoftware installed and configured?                                               \u001b[0m\u001b[1;38;5;251m \u001b[0m\u001b[2m               \u001b[0m\n"
      ]
     },
     "metadata": {},
     "output_type": "display_data"
    },
    {
     "data": {
      "text/html": [
       "<pre style=\"white-space:pre;overflow-x:auto;line-height:normal;font-family:Menlo,'DejaVu Sans Mono',consolas,'Courier New',monospace\"><span style=\"color: #00ff00; text-decoration-color: #00ff00\">         </span><span style=\"color: #af5fd7; text-decoration-color: #af5fd7\">WARNING </span> <span style=\"color: #c6c6c6; text-decoration-color: #c6c6c6; font-weight: bold\"> Could not import plugin FermiLATLike.py. Do you have the relative instrument     </span><a href=\"file:///opt/homebrew/Caskroom/miniconda/base/envs/bachelor/lib/python3.8/site-packages/threeML/__init__.py\" target=\"_blank\"><span style=\"color: #7f7f7f; text-decoration-color: #7f7f7f\">__init__.py</span></a><span style=\"color: #7f7f7f; text-decoration-color: #7f7f7f\">:</span><a href=\"file:///opt/homebrew/Caskroom/miniconda/base/envs/bachelor/lib/python3.8/site-packages/threeML/__init__.py#144\" target=\"_blank\"><span style=\"color: #7f7f7f; text-decoration-color: #7f7f7f\">144</span></a>\n",
       "<span style=\"color: #00ff00; text-decoration-color: #00ff00\">         </span>         <span style=\"color: #c6c6c6; text-decoration-color: #c6c6c6; font-weight: bold\">software installed and configured?                                                </span><span style=\"color: #7f7f7f; text-decoration-color: #7f7f7f\">               </span>\n",
       "</pre>\n"
      ],
      "text/plain": [
       "\u001b[38;5;46m        \u001b[0m\u001b[38;5;46m \u001b[0m\u001b[38;5;134mWARNING \u001b[0m \u001b[1;38;5;251m Could not import plugin FermiLATLike.py. Do you have the relative instrument    \u001b[0m\u001b[1;38;5;251m \u001b[0m\u001b]8;id=453857;file:///opt/homebrew/Caskroom/miniconda/base/envs/bachelor/lib/python3.8/site-packages/threeML/__init__.py\u001b\\\u001b[2m__init__.py\u001b[0m\u001b]8;;\u001b\\\u001b[2m:\u001b[0m\u001b]8;id=389741;file:///opt/homebrew/Caskroom/miniconda/base/envs/bachelor/lib/python3.8/site-packages/threeML/__init__.py#144\u001b\\\u001b[2m144\u001b[0m\u001b]8;;\u001b\\\n",
       "\u001b[38;5;46m         \u001b[0m         \u001b[1;38;5;251msoftware installed and configured?                                               \u001b[0m\u001b[1;38;5;251m \u001b[0m\u001b[2m               \u001b[0m\n"
      ]
     },
     "metadata": {},
     "output_type": "display_data"
    },
    {
     "data": {
      "text/html": [
       "<pre style=\"white-space:pre;overflow-x:auto;line-height:normal;font-family:Menlo,'DejaVu Sans Mono',consolas,'Courier New',monospace\"><span style=\"color: #00ff00; text-decoration-color: #00ff00\">         </span><span style=\"color: #af5fd7; text-decoration-color: #af5fd7\">WARNING </span> <span style=\"color: #c6c6c6; text-decoration-color: #c6c6c6; font-weight: bold\"> No fermitools installed                                              </span><a href=\"file:///opt/homebrew/Caskroom/miniconda/base/envs/bachelor/lib/python3.8/site-packages/threeML/utils/data_builders/fermi/lat_transient_builder.py\" target=\"_blank\"><span style=\"color: #7f7f7f; text-decoration-color: #7f7f7f\">lat_transient_builder.py</span></a><span style=\"color: #7f7f7f; text-decoration-color: #7f7f7f\">:</span><a href=\"file:///opt/homebrew/Caskroom/miniconda/base/envs/bachelor/lib/python3.8/site-packages/threeML/utils/data_builders/fermi/lat_transient_builder.py#44\" target=\"_blank\"><span style=\"color: #7f7f7f; text-decoration-color: #7f7f7f\">44</span></a>\n",
       "</pre>\n"
      ],
      "text/plain": [
       "\u001b[38;5;46m        \u001b[0m\u001b[38;5;46m \u001b[0m\u001b[38;5;134mWARNING \u001b[0m \u001b[1;38;5;251m No fermitools installed                                             \u001b[0m\u001b[1;38;5;251m \u001b[0m\u001b]8;id=855430;file:///opt/homebrew/Caskroom/miniconda/base/envs/bachelor/lib/python3.8/site-packages/threeML/utils/data_builders/fermi/lat_transient_builder.py\u001b\\\u001b[2mlat_transient_builder.py\u001b[0m\u001b]8;;\u001b\\\u001b[2m:\u001b[0m\u001b]8;id=746869;file:///opt/homebrew/Caskroom/miniconda/base/envs/bachelor/lib/python3.8/site-packages/threeML/utils/data_builders/fermi/lat_transient_builder.py#44\u001b\\\u001b[2m44\u001b[0m\u001b]8;;\u001b\\\n"
      ]
     },
     "metadata": {},
     "output_type": "display_data"
    },
    {
     "data": {
      "text/html": [
       "<pre style=\"white-space:pre;overflow-x:auto;line-height:normal;font-family:Menlo,'DejaVu Sans Mono',consolas,'Courier New',monospace\"><span style=\"color: #00ff00; text-decoration-color: #00ff00\">         </span><span style=\"color: #af5fd7; text-decoration-color: #af5fd7\">WARNING </span> <span style=\"color: #c6c6c6; text-decoration-color: #c6c6c6; font-weight: bold\"> Env. variable OMP_NUM_THREADS is not set. Please set it to </span><span style=\"color: #c0c0c0; text-decoration-color: #c0c0c0; font-weight: bold\">1</span><span style=\"color: #c6c6c6; text-decoration-color: #c6c6c6; font-weight: bold\"> for optimal         </span><a href=\"file:///opt/homebrew/Caskroom/miniconda/base/envs/bachelor/lib/python3.8/site-packages/threeML/__init__.py\" target=\"_blank\"><span style=\"color: #7f7f7f; text-decoration-color: #7f7f7f\">__init__.py</span></a><span style=\"color: #7f7f7f; text-decoration-color: #7f7f7f\">:</span><a href=\"file:///opt/homebrew/Caskroom/miniconda/base/envs/bachelor/lib/python3.8/site-packages/threeML/__init__.py#387\" target=\"_blank\"><span style=\"color: #7f7f7f; text-decoration-color: #7f7f7f\">387</span></a>\n",
       "<span style=\"color: #00ff00; text-decoration-color: #00ff00\">         </span>         <span style=\"color: #c6c6c6; text-decoration-color: #c6c6c6; font-weight: bold\">performances in 3ML                                                               </span><span style=\"color: #7f7f7f; text-decoration-color: #7f7f7f\">               </span>\n",
       "</pre>\n"
      ],
      "text/plain": [
       "\u001b[38;5;46m        \u001b[0m\u001b[38;5;46m \u001b[0m\u001b[38;5;134mWARNING \u001b[0m \u001b[1;38;5;251m Env. variable OMP_NUM_THREADS is not set. Please set it to \u001b[0m\u001b[1;37m1\u001b[0m\u001b[1;38;5;251m for optimal        \u001b[0m\u001b[1;38;5;251m \u001b[0m\u001b]8;id=575184;file:///opt/homebrew/Caskroom/miniconda/base/envs/bachelor/lib/python3.8/site-packages/threeML/__init__.py\u001b\\\u001b[2m__init__.py\u001b[0m\u001b]8;;\u001b\\\u001b[2m:\u001b[0m\u001b]8;id=928534;file:///opt/homebrew/Caskroom/miniconda/base/envs/bachelor/lib/python3.8/site-packages/threeML/__init__.py#387\u001b\\\u001b[2m387\u001b[0m\u001b]8;;\u001b\\\n",
       "\u001b[38;5;46m         \u001b[0m         \u001b[1;38;5;251mperformances in 3ML                                                              \u001b[0m\u001b[1;38;5;251m \u001b[0m\u001b[2m               \u001b[0m\n"
      ]
     },
     "metadata": {},
     "output_type": "display_data"
    },
    {
     "data": {
      "text/html": [
       "<pre style=\"white-space:pre;overflow-x:auto;line-height:normal;font-family:Menlo,'DejaVu Sans Mono',consolas,'Courier New',monospace\"><span style=\"color: #00ff00; text-decoration-color: #00ff00\">         </span><span style=\"color: #af5fd7; text-decoration-color: #af5fd7\">WARNING </span> <span style=\"color: #c6c6c6; text-decoration-color: #c6c6c6; font-weight: bold\"> Env. variable MKL_NUM_THREADS is not set. Please set it to </span><span style=\"color: #c0c0c0; text-decoration-color: #c0c0c0; font-weight: bold\">1</span><span style=\"color: #c6c6c6; text-decoration-color: #c6c6c6; font-weight: bold\"> for optimal         </span><a href=\"file:///opt/homebrew/Caskroom/miniconda/base/envs/bachelor/lib/python3.8/site-packages/threeML/__init__.py\" target=\"_blank\"><span style=\"color: #7f7f7f; text-decoration-color: #7f7f7f\">__init__.py</span></a><span style=\"color: #7f7f7f; text-decoration-color: #7f7f7f\">:</span><a href=\"file:///opt/homebrew/Caskroom/miniconda/base/envs/bachelor/lib/python3.8/site-packages/threeML/__init__.py#387\" target=\"_blank\"><span style=\"color: #7f7f7f; text-decoration-color: #7f7f7f\">387</span></a>\n",
       "<span style=\"color: #00ff00; text-decoration-color: #00ff00\">         </span>         <span style=\"color: #c6c6c6; text-decoration-color: #c6c6c6; font-weight: bold\">performances in 3ML                                                               </span><span style=\"color: #7f7f7f; text-decoration-color: #7f7f7f\">               </span>\n",
       "</pre>\n"
      ],
      "text/plain": [
       "\u001b[38;5;46m        \u001b[0m\u001b[38;5;46m \u001b[0m\u001b[38;5;134mWARNING \u001b[0m \u001b[1;38;5;251m Env. variable MKL_NUM_THREADS is not set. Please set it to \u001b[0m\u001b[1;37m1\u001b[0m\u001b[1;38;5;251m for optimal        \u001b[0m\u001b[1;38;5;251m \u001b[0m\u001b]8;id=340160;file:///opt/homebrew/Caskroom/miniconda/base/envs/bachelor/lib/python3.8/site-packages/threeML/__init__.py\u001b\\\u001b[2m__init__.py\u001b[0m\u001b]8;;\u001b\\\u001b[2m:\u001b[0m\u001b]8;id=485887;file:///opt/homebrew/Caskroom/miniconda/base/envs/bachelor/lib/python3.8/site-packages/threeML/__init__.py#387\u001b\\\u001b[2m387\u001b[0m\u001b]8;;\u001b\\\n",
       "\u001b[38;5;46m         \u001b[0m         \u001b[1;38;5;251mperformances in 3ML                                                              \u001b[0m\u001b[1;38;5;251m \u001b[0m\u001b[2m               \u001b[0m\n"
      ]
     },
     "metadata": {},
     "output_type": "display_data"
    },
    {
     "data": {
      "text/html": [
       "<pre style=\"white-space:pre;overflow-x:auto;line-height:normal;font-family:Menlo,'DejaVu Sans Mono',consolas,'Courier New',monospace\"><span style=\"color: #00ff00; text-decoration-color: #00ff00\">         </span><span style=\"color: #af5fd7; text-decoration-color: #af5fd7\">WARNING </span> <span style=\"color: #c6c6c6; text-decoration-color: #c6c6c6; font-weight: bold\"> Env. variable NUMEXPR_NUM_THREADS is not set. Please set it to </span><span style=\"color: #c0c0c0; text-decoration-color: #c0c0c0; font-weight: bold\">1</span><span style=\"color: #c6c6c6; text-decoration-color: #c6c6c6; font-weight: bold\"> for optimal     </span><a href=\"file:///opt/homebrew/Caskroom/miniconda/base/envs/bachelor/lib/python3.8/site-packages/threeML/__init__.py\" target=\"_blank\"><span style=\"color: #7f7f7f; text-decoration-color: #7f7f7f\">__init__.py</span></a><span style=\"color: #7f7f7f; text-decoration-color: #7f7f7f\">:</span><a href=\"file:///opt/homebrew/Caskroom/miniconda/base/envs/bachelor/lib/python3.8/site-packages/threeML/__init__.py#387\" target=\"_blank\"><span style=\"color: #7f7f7f; text-decoration-color: #7f7f7f\">387</span></a>\n",
       "<span style=\"color: #00ff00; text-decoration-color: #00ff00\">         </span>         <span style=\"color: #c6c6c6; text-decoration-color: #c6c6c6; font-weight: bold\">performances in 3ML                                                               </span><span style=\"color: #7f7f7f; text-decoration-color: #7f7f7f\">               </span>\n",
       "</pre>\n"
      ],
      "text/plain": [
       "\u001b[38;5;46m        \u001b[0m\u001b[38;5;46m \u001b[0m\u001b[38;5;134mWARNING \u001b[0m \u001b[1;38;5;251m Env. variable NUMEXPR_NUM_THREADS is not set. Please set it to \u001b[0m\u001b[1;37m1\u001b[0m\u001b[1;38;5;251m for optimal    \u001b[0m\u001b[1;38;5;251m \u001b[0m\u001b]8;id=746915;file:///opt/homebrew/Caskroom/miniconda/base/envs/bachelor/lib/python3.8/site-packages/threeML/__init__.py\u001b\\\u001b[2m__init__.py\u001b[0m\u001b]8;;\u001b\\\u001b[2m:\u001b[0m\u001b]8;id=563480;file:///opt/homebrew/Caskroom/miniconda/base/envs/bachelor/lib/python3.8/site-packages/threeML/__init__.py#387\u001b\\\u001b[2m387\u001b[0m\u001b]8;;\u001b\\\n",
       "\u001b[38;5;46m         \u001b[0m         \u001b[1;38;5;251mperformances in 3ML                                                              \u001b[0m\u001b[1;38;5;251m \u001b[0m\u001b[2m               \u001b[0m\n"
      ]
     },
     "metadata": {},
     "output_type": "display_data"
    }
   ],
   "source": [
    "import os\n",
    "import sys\n",
    "\n",
    "import arviz as av\n",
    "import matplotlib as mpl\n",
    "import matplotlib.pyplot as plt\n",
    "import numpy as np\n",
    "import scipy.stats as stats\n",
    "import scipy.special\n",
    "import seaborn as sns\n",
    "\n",
    "parent_dir = os.path.abspath(\"..\")\n",
    "if parent_dir not in sys.path:\n",
    "    sys.path.append(parent_dir)\n",
    "if parent_dir + \"examples\" not in sys.path:\n",
    "    sys.path.append(parent_dir + \"examples\")\n",
    "\n",
    "from zusammen import DataSet\n",
    "from zusammen.spectral_plot import display_posterior_model_counts\n",
    "\n",
    "sns.set_theme(context=\"paper\")\n",
    "\n",
    "mpl.use(\"pgf\")\n",
    "pgf_with_latex = {\n",
    "    \"text.usetex\": True,\n",
    "    \"font.family\": \"serif\",\n",
    "    \"axes.labelsize\": 10,\n",
    "    \"font.size\": 10,\n",
    "    \"legend.fontsize\": 8,\n",
    "    \"xtick.labelsize\": 8,\n",
    "    \"ytick.labelsize\": 8,\n",
    "    # \"pgf.texsystem\": \"lualatex\",\n",
    "    \"pgf.preamble\": \"\\n\".join([\n",
    "        r\"\\usepackage{siunitx}\",\n",
    "        r\"\\DeclareSIUnit{\\erg}{erg}\"\n",
    "        ])\n",
    "    }\n",
    "mpl.rcParams.update(pgf_with_latex)\n",
    "\n",
    "width = 455"
   ]
  },
  {
   "cell_type": "markdown",
   "metadata": {},
   "source": [
    "#### Set size"
   ]
  },
  {
   "cell_type": "code",
   "execution_count": null,
   "metadata": {},
   "outputs": [],
   "source": [
    "def pt_to_inch(pt):\n",
    "    return pt / 72.27\n",
    "\n",
    "def set_size(width_pt, fraction=1, subplots=(1, 1), height=None):\n",
    "    \"\"\"Set figure dimensions to sit nicely in our document.\n",
    "\n",
    "    Parameters\n",
    "    ----------\n",
    "    width_pt: float\n",
    "            Document width in points\n",
    "    fraction: float, optional\n",
    "            Fraction of the width which you wish the figure to occupy\n",
    "    subplots: array-like, optional\n",
    "            The number of rows and columns of subplots.\n",
    "    Returns\n",
    "    -------\n",
    "    fig_dim: tuple\n",
    "            Dimensions of figure in inches\n",
    "    \"\"\"\n",
    "    # Width of figure (in pts)\n",
    "    fig_width_pt = width_pt * fraction\n",
    "\n",
    "    # Golden ratio to set aesthetic figure height\n",
    "    golden_ratio = (5**.5 - 1) / 2\n",
    "\n",
    "    # Figure height in inches\n",
    "    if not height:\n",
    "        fig_height_in = pt_to_inch(fig_width_pt) * golden_ratio * (subplots[0] / subplots[1])\n",
    "    else:\n",
    "        fig_height_in = pt_to_inch(height)\n",
    "\n",
    "    return (pt_to_inch(fig_width_pt), fig_height_in)"
   ]
  },
  {
   "cell_type": "markdown",
   "metadata": {},
   "source": [
    "## Band function"
   ]
  },
  {
   "cell_type": "code",
   "execution_count": null,
   "metadata": {},
   "outputs": [],
   "source": [
    "def band(E, Ec, piv, K, alpha, beta):\n",
    "    ret = np.zeros(E.shape)\n",
    "    for i, e in enumerate(E):\n",
    "        if e < (alpha - beta) * Ec:\n",
    "            ret[i] = K * (e / piv)**alpha * np.exp(-e / Ec)\n",
    "        else:\n",
    "            ret[i] = K * ((alpha - beta) * Ec / piv)**(alpha - beta) * np.exp(beta - alpha) * (e / piv)**beta\n",
    "    return ret"
   ]
  },
  {
   "cell_type": "code",
   "execution_count": null,
   "metadata": {},
   "outputs": [],
   "source": [
    "K = 10\n",
    "alpha = -1\n",
    "beta = -2.2\n",
    "Ec = 1\n",
    "piv = .1\n",
    "x1 = 1e-2\n",
    "x2 = 1e2"
   ]
  },
  {
   "cell_type": "code",
   "execution_count": null,
   "metadata": {},
   "outputs": [],
   "source": [
    "fig, (ax1, ax2) = plt.subplots(2, 1, sharex=True, figsize=set_size(width, height=270, subplots=(2,1)), height_ratios=(3,2))\n",
    "\n",
    "E = np.logspace(np.log(x1), np.log(x2), 100)\n",
    "ax1.plot(E, K * (E / piv)**alpha * np.exp(-E / Ec), \"b--\")\n",
    "ax1.plot(E, band(E, Ec, piv, K, alpha, beta), \"b\")\n",
    "\n",
    "ax1.loglog()\n",
    "ax1.set_xlim(x1, x2)\n",
    "ax1.set_ylim(1.5e-6, 1e3)\n",
    "\n",
    "ax1.text(.98,.88, 'a)', horizontalalignment='right', transform=ax1.transAxes, bbox={\"boxstyle\": \"square\", \"facecolor\": ax1.get_facecolor(), \"edgecolor\": \"gray\"})\n",
    "ax1.set_ylabel(r\"$B$ [$\\si{\\per\\second\\per\\centi\\meter\\squared\\per\\mega\\electronvolt}$]\")\n",
    "\n",
    "\n",
    "ax2.plot(E, K * 1.602e-6 * E**2 * (E / piv)**alpha * np.exp(-E / Ec), \"b--\")\n",
    "ax2.plot(E, 1.602e-6 * E**2 * band(E, Ec, piv, K, alpha, beta), \"b\")\n",
    "\n",
    "ax2.loglog()\n",
    "ax2.set_ylim(8e-9,2e-6)\n",
    "ax2.text(.98,.82, 'b)', horizontalalignment='right', transform=ax2.transAxes, bbox={\"boxstyle\": \"square\", \"facecolor\": ax2.get_facecolor(), \"edgecolor\": \"gray\"})\n",
    "ax2.set_xlabel(r\"Photon Energy $E_\\gamma$ $[\\si{\\mega\\electronvolt}]$\")\n",
    "ax2.set_ylabel(r\"$E_\\gamma^2 B$ [$\\si{\\erg\\per\\second\\per\\centi\\meter\\squared}$]\")\n",
    "\n",
    "\n",
    "fig.align_ylabels([ax1,ax2])\n",
    "fig.tight_layout()\n",
    "# fig.savefig(\"band.pgf\")"
   ]
  },
  {
   "cell_type": "markdown",
   "metadata": {},
   "source": [
    "## Arviz"
   ]
  },
  {
   "cell_type": "markdown",
   "metadata": {},
   "source": [
    "### Load the data"
   ]
  },
  {
   "cell_type": "code",
   "execution_count": 2,
   "metadata": {},
   "outputs": [],
   "source": [
    "ds = DataSet.from_hdf5_file(\"../examples/sgrb.h5\")\n",
    "data = ds.to_stan_dict()"
   ]
  },
  {
   "cell_type": "code",
   "execution_count": 3,
   "metadata": {},
   "outputs": [],
   "source": [
    "res = av.from_netcdf(\"../examples/inference_data/testing_gc_relaxed.nc\")"
   ]
  },
  {
   "cell_type": "code",
   "execution_count": 23,
   "metadata": {},
   "outputs": [],
   "source": [
    "N_intervals = data[\"N_intervals\"]\n",
    "N_grbs = data[\"N_grbs\"]\n",
    "length = res.posterior.gamma.shape[0] * res.posterior.gamma.shape[1]\n",
    "chains = res.posterior.gamma.shape[0]\n",
    "draws = res.posterior.gamma.shape[1]\n",
    "\n",
    "alpha = np.zeros((N_intervals, length))\n",
    "log_ec = np.zeros((N_intervals, length))\n",
    "K_prime = np.zeros((N_intervals, length))\n",
    "K= np.zeros((N_intervals, length))\n",
    "log_energy_flux = np.zeros((N_intervals, length))\n",
    "log_epeak = np.zeros((N_intervals, length))\n",
    "gamma = np.zeros((N_grbs, length))\n",
    "log_Nrest = np.zeros((N_grbs, length))\n",
    "div = np.zeros((N_intervals, length))\n",
    "samples = np.zeros((N_intervals, 3, length))\n",
    "z = data[\"z\"]\n",
    "dl = data[\"dl\"]\n",
    "# dl = []\n",
    "\n",
    "for id in range(N_intervals):\n",
    "    alpha[id] = res.posterior.alpha.stack(sample=(\"chain\", \"draw\")).values[id]\n",
    "\n",
    "    log_ec[id] = res.posterior.log_ec.stack(sample=(\"chain\", \"draw\")).values[id]\n",
    "    K[id] = res.posterior.K.stack(sample=(\"chain\", \"draw\")).values[id]\n",
    "\n",
    "    log_epeak[id] = res.posterior.log_epeak.stack(sample=(\"chain\", \"draw\")).values[id]\n",
    "    log_energy_flux[id] = res.posterior.log_energy_flux.stack(sample=(\"chain\", \"draw\")).values[id]\n",
    "\n",
    "for id in range(N_grbs):\n",
    "    gamma[id] = res.posterior.gamma.stack(sample=(\"chain\", \"draw\")).values[id]\n",
    "    log_Nrest[id] = res.posterior.log_Nrest.stack(sample=(\"chain\", \"draw\")).values[id]\n",
    "\n",
    "# gamma_mu_meta = res.posterior.gamma_mu_meta.stack(sample=(\"chain\", \"draw\")).values\n",
    "# log_Nrest_mu_meta = res.posterior.log_Nrest_mu_meta.stack(sample=(\"chain\", \"draw\")).values"
   ]
  },
  {
   "cell_type": "code",
   "execution_count": null,
   "metadata": {},
   "outputs": [],
   "source": [
    "res.posterior.alpha.values.shape"
   ]
  },
  {
   "cell_type": "markdown",
   "metadata": {},
   "source": [
    "### Summary\n",
    "$2 \\sigma$"
   ]
  },
  {
   "cell_type": "code",
   "execution_count": null,
   "metadata": {},
   "outputs": [],
   "source": [
    "av.summary(res, hdi_prob=.91)"
   ]
  },
  {
   "cell_type": "markdown",
   "metadata": {},
   "source": [
    "$ 3 \\sigma $"
   ]
  },
  {
   "cell_type": "code",
   "execution_count": null,
   "metadata": {},
   "outputs": [],
   "source": [
    "av.summary(res, hdi_prob=.34)"
   ]
  },
  {
   "cell_type": "markdown",
   "metadata": {},
   "source": [
    "### Plots"
   ]
  },
  {
   "cell_type": "code",
   "execution_count": null,
   "metadata": {},
   "outputs": [],
   "source": [
    "fig, ax = plt.subplots(1, 1, figsize=set_size(width))\n",
    "av.plot_kde(gamma, ax=ax)\n",
    "ax.set_xlim(1.377,1.545)\n",
    "ax.set_ylim(-.5,35)\n",
    "ax.set_xlabel(r\"$\\mu_{\\gamma}$\")"
   ]
  },
  {
   "cell_type": "code",
   "execution_count": null,
   "metadata": {},
   "outputs": [],
   "source": [
    "fig, ax = plt.subplots(1, 1, figsize=set_size(width))\n",
    "av.plot_kde(gamma_mu_meta, ax=ax)\n",
    "ax.set_xlim(1.377,1.545)\n",
    "ax.set_ylim(0,35)\n",
    "ax.set_xlabel(r\"$\\mu_{\\log N_\\mathrm{rest}}$\")"
   ]
  },
  {
   "cell_type": "code",
   "execution_count": null,
   "metadata": {},
   "outputs": [],
   "source": [
    "%matplotlib widget\n",
    "\n",
    "fig, ax = plt.subplots(1, 1, figsize=set_size(width))\n",
    "av.plot_kde(np.mean(log_epeak,1)[0:14], np.mean(log_energy_flux,1)[0:14], ax=ax)\n",
    "ax.plot([1.35, 2.4], 52 - (1.099 + 2 * np.log10(9.463778818025031e+27)) + 1.5 * (np.log10(1 + 0.5276686915008358) + np.array([1.35, 2.4]) - 2), \"b--\")\n",
    "ax.set_xlim(1.375,2.375)\n",
    "ax.set_ylim(-5.7,-4.2)\n",
    "ax.set_xlabel(r\"$\\log E_\\mathrm{peak}$\")\n",
    "ax.set_ylabel(r\"log F\")"
   ]
  },
  {
   "cell_type": "markdown",
   "metadata": {},
   "source": [
    "### Posterior Predictive Checks"
   ]
  },
  {
   "cell_type": "code",
   "execution_count": 18,
   "metadata": {},
   "outputs": [],
   "source": [
    "def cpl(E, K, ec, alpha):\n",
    "    return K * (E / ec)**alpha * np.exp(-E / ec)\n",
    "\n",
    "def ggrb_int_cpl(alpha, ec, a, b):\n",
    "    i1 = scipy.special.gammaincc(2.0 + alpha, a / ec) * scipy.special.gamma(2.0 + alpha)\n",
    "    i2 = scipy.special.gammaincc(2.0 + alpha, b / ec) * scipy.special.gamma(2.0 + alpha)\n",
    "    return -ec * ec * (i2 - i1)\n",
    "\n",
    "def integral_flux(ebounds_lo, ebounds_hi, K, ec, alpha):\n",
    "    ebounds_add = (ebounds_hi - ebounds_lo) / 6\n",
    "    ebounds_half = (ebounds_hi + ebounds_lo) / 2\n",
    "    return ebounds_add * (\n",
    "        cpl(ebounds_lo, K, ec, alpha)\n",
    "        + 4 * cpl(ebounds_half, K, ec, alpha)\n",
    "        + cpl(ebounds_hi, K, ec, alpha)\n",
    "    )"
   ]
  },
  {
   "cell_type": "code",
   "execution_count": 19,
   "metadata": {},
   "outputs": [],
   "source": [
    "def ppc(chain: int, draws: int, grb: int, interval: int, detector: int, interval_in_grb=False):\n",
    "    if interval_in_grb:\n",
    "        interval_final = np.where(data[\"grb_id\"] == grb + 1)[0][interval]\n",
    "    else:\n",
    "        interval_final = interval\n",
    "    cenergies = np.append(data[\"cbounds_lo\"][interval_final, detector], data[\"cbounds_hi\"][interval_final, detector, -1])\n",
    "\n",
    "\n",
    "    rng = np.random.default_rng()\n",
    "    rand = rng.choice(draws, size=draws, replace=False)\n",
    "    ppc_alpha = np.array([alpha[interval_final][i] for i in rand])\n",
    "    ppc_log_ec = np.array([log_ec[interval_final][i] for i in rand])\n",
    "    ppc_log_Nrest = np.array([log_Nrest[grb][i] for i in rand])\n",
    "    ppc_gamma = np.array([gamma[grb][i] for i in rand])\n",
    "    ppc_z = z[grb]\n",
    "    ppc_dl = dl[grb]\n",
    "\n",
    "\n",
    "    ppc_log_epeak = np.log10(2 + ppc_alpha) + ppc_log_ec\n",
    "    ppc_log_F = ppc_log_Nrest - (1.099 + 2 * np.log10(ppc_dl)) + ppc_gamma * (np.log10(1 + ppc_z) + ppc_log_epeak - 2)\n",
    "    ppc_K = 6.24151e8 * 10**ppc_log_F / (ggrb_int_cpl(ppc_alpha, 10**ppc_log_ec, 10, 1e4))\n",
    "\n",
    "\n",
    "    ppc_expected_model_counts = np.zeros((draws, data[\"N_chan\"][interval_final,detector]))\n",
    "\n",
    "\n",
    "    for s in range(draws):\n",
    "        ppc_expected_model_counts[s, :data[\"N_chan\"][interval_final,detector]] = (\n",
    "            data[\"response\"][interval_final, detector, :data[\"N_chan\"][interval_final,detector], :data[\"N_echan\"][interval_final,detector]] @ integral_flux(\n",
    "                    data[\"ebounds_lo\"][interval_final, detector, :data[\"N_echan\"][interval_final, detector]],\n",
    "                    data[\"ebounds_hi\"][interval_final, detector, :data[\"N_echan\"][interval_final, detector]],\n",
    "                    ppc_K[s],\n",
    "                    10**ppc_log_ec[s],\n",
    "                    ppc_alpha[s]\n",
    "            )\n",
    "        ) * data[\"exposure\"][interval_final,detector]\n",
    "\n",
    "\n",
    "    ppc_sampled_counts = np.random.poisson(ppc_expected_model_counts)\n",
    "\n",
    "\n",
    "    return cenergies, ppc_sampled_counts\n",
    "\n",
    "\n",
    "\n",
    "def ppc_summary(ppc_sampled_counts):\n",
    "    ppc_sampled_counts_mu = np.mean(ppc_sampled_counts, axis=0)\n",
    "    ppc_sampled_counts_hdi_1s = np.zeros((2,ppc_sampled_counts.shape[1]))\n",
    "    ppc_sampled_counts_hdi_2s = np.zeros((2,ppc_sampled_counts.shape[1]))\n",
    "    for i, counts in enumerate(ppc_sampled_counts.T):\n",
    "        ppc_sampled_counts_hdi_1s.T[i] = av.hdi(counts, 0.6828)\n",
    "        ppc_sampled_counts_hdi_2s.T[i] = av.hdi(counts, 0.9545)\n",
    "    return ppc_sampled_counts_mu, ppc_sampled_counts_hdi_1s, ppc_sampled_counts_hdi_2s\n"
   ]
  },
  {
   "cell_type": "code",
   "execution_count": 26,
   "metadata": {},
   "outputs": [],
   "source": [
    "cenergies, ppc_sampled_counts = ppc(chain=1, draws=100, grb=0, interval=0, detector=1, interval_in_grb=True)\n",
    "ppc_mu, ppc_1s, ppc_2s = ppc_summary(ppc_sampled_counts)"
   ]
  },
  {
   "cell_type": "code",
   "execution_count": 31,
   "metadata": {},
   "outputs": [
    {
     "data": {
      "text/plain": [
       "[]"
      ]
     },
     "execution_count": 31,
     "metadata": {},
     "output_type": "execute_result"
    },
    {
     "data": {
      "application/vnd.jupyter.widget-view+json": {
       "model_id": "03d2b4b310da4aba858c0f8768282503",
       "version_major": 2,
       "version_minor": 0
      },
      "image/png": "[encoded data removed]",
      "text/html": [
       "\n",
       "            <div style=\"display: inline-block;\">\n",
       "                <div class=\"jupyter-widgets widget-label\" style=\"text-align: center;\">\n",
       "                    Figure\n",
       "                </div>\n",
       "                <img src='data:image/png;base64,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' width=640.0/>\n",
       "            </div>\n",
       "        "
      ],
      "text/plain": [
       "Canvas(toolbar=Toolbar(toolitems=[('Home', 'Reset original view', 'home', 'home'), ('Back', 'Back to previous …"
      ]
     },
     "metadata": {},
     "output_type": "display_data"
    }
   ],
   "source": [
    "%matplotlib widget\n",
    "plt.stairs(data[\"observed_counts\"][0,1], cenergies, color=\"#dd8452\")\n",
    "# plt.stairs(ppc_mu, cenergies)\n",
    "plt.stairs(ppc_1s[0], cenergies, baseline=ppc_1s[1], fill=True, color=\"#55a868\", alpha=.5)\n",
    "plt.stairs(ppc_2s[0], cenergies, baseline=ppc_2s[1], fill=True, color=\"#4c72b0\", alpha=.2)\n",
    "\n",
    "plt.ylim(.5,1e2)\n",
    "plt.xlabel(\"Energy\")\n",
    "plt.ylabel(\"Count Rate\")\n",
    "plt.loglog()"
   ]
  },
  {
   "cell_type": "code",
   "execution_count": null,
   "metadata": {},
   "outputs": [],
   "source": [
    "print(sns.color_palette().as_hex())\n",
    "sns.color_palette()"
   ]
  },
  {
   "cell_type": "code",
   "execution_count": 29,
   "metadata": {},
   "outputs": [],
   "source": [
    "from posterior_predictive_check import PPC\n",
    "p = PPC(data, res)\n",
    "cenergies, ppc_sampled_counts = p.ppc(chain=1, draws=200, grb=0, interval=0, detector=1, interval_in_grb=True)\n",
    "ppc_mu, ppc_1s, ppc_2s = PPC.ppc_summary(ppc_sampled_counts)"
   ]
  },
  {
   "cell_type": "code",
   "execution_count": 30,
   "metadata": {},
   "outputs": [
    {
     "data": {
      "text/plain": [
       "[]"
      ]
     },
     "execution_count": 30,
     "metadata": {},
     "output_type": "execute_result"
    },
    {
     "data": {
      "application/vnd.jupyter.widget-view+json": {
       "model_id": "e086afb2fca14afd911a6acc3a0d6d0e",
       "version_major": 2,
       "version_minor": 0
      },
      "image/png": "[encoded data removed]",
      "text/html": [
       "\n",
       "            <div style=\"display: inline-block;\">\n",
       "                <div class=\"jupyter-widgets widget-label\" style=\"text-align: center;\">\n",
       "                    Figure\n",
       "                </div>\n",
       "                <img src='data:image/png;base64,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' width=640.0/>\n",
       "            </div>\n",
       "        "
      ],
      "text/plain": [
       "Canvas(toolbar=Toolbar(toolitems=[('Home', 'Reset original view', 'home', 'home'), ('Back', 'Back to previous …"
      ]
     },
     "metadata": {},
     "output_type": "display_data"
    }
   ],
   "source": [
    "%matplotlib widget\n",
    "plt.stairs(data[\"observed_counts\"][0,1], cenergies, color=\"#dd8452\")\n",
    "# plt.stairs(ppc_mu, cenergies)\n",
    "plt.stairs(ppc_1s[0], cenergies, baseline=ppc_1s[1], fill=True, color=\"#55a868\", alpha=.5)\n",
    "plt.stairs(ppc_2s[0], cenergies, baseline=ppc_2s[1], fill=True, color=\"#4c72b0\", alpha=.2)\n",
    "\n",
    "plt.ylim(.8,1e2)\n",
    "plt.xlabel(\"Energy\")\n",
    "plt.ylabel(\"Count Rate\")\n",
    "plt.loglog()"
   ]
  },
  {
   "cell_type": "code",
   "execution_count": 28,
   "metadata": {},
   "outputs": [
    {
     "data": {
      "text/plain": [
       "(59, 2, 500)"
      ]
     },
     "execution_count": 28,
     "metadata": {},
     "output_type": "execute_result"
    }
   ],
   "source": [
    "p.K.shape"
   ]
  },
  {
   "cell_type": "code",
   "execution_count": null,
   "metadata": {},
   "outputs": [],
   "source": []
  }
 ],
 "metadata": {
  "kernelspec": {
   "display_name": "Python 3.8.13 ('bachelor')",
   "language": "python",
   "name": "python3"
  },
  "language_info": {
   "codemirror_mode": {
    "name": "ipython",
    "version": 3
   },
   "file_extension": ".py",
   "mimetype": "text/x-python",
   "name": "python",
   "nbconvert_exporter": "python",
   "pygments_lexer": "ipython3",
   "version": "3.8.13"
  },
  "orig_nbformat": 4,
  "vscode": {
   "interpreter": {
    "hash": "c32814d9e11908585ccc181cca6c7dae7bdf3e835febbae23bde3821f1e724f7"
   }
  }
 },
 "nbformat": 4,
 "nbformat_minor": 2
}
