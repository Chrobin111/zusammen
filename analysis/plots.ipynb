{
 "cells": [
  {
   "cell_type": "markdown",
   "metadata": {},
   "source": [
    "## Imports and Setup"
   ]
  },
  {
   "cell_type": "code",
   "execution_count": null,
   "metadata": {},
   "outputs": [],
   "source": [
    "import os\n",
    "import sys\n",
    "\n",
    "import arviz as av\n",
    "import matplotlib as mpl\n",
    "import matplotlib.pyplot as plt\n",
    "import numpy as np\n",
    "import seaborn as sns\n",
    "import yaml\n",
    "\n",
    "from threeML import update_logging_level\n",
    "\n",
    "update_logging_level(\"FATAL\")\n",
    "\n",
    "parent_dir = os.path.abspath(\"..\")\n",
    "if parent_dir not in sys.path:\n",
    "    sys.path.append(parent_dir)\n",
    "from zusammen import DataSet\n",
    "\n",
    "sns.set_theme(context=\"paper\")\n",
    "\n",
    "mpl.use(\"pgf\")\n",
    "pgf_with_latex = {\n",
    "    \"text.usetex\": True,\n",
    "    \"font.family\": \"serif\",\n",
    "    \"axes.labelsize\": 10,\n",
    "    \"font.size\": 10,\n",
    "    \"legend.fontsize\": 8,\n",
    "    \"xtick.labelsize\": 8,\n",
    "    \"ytick.labelsize\": 8,\n",
    "    \"pgf.texsystem\": \"lualatex\",\n",
    "    \"pgf.preamble\": \"\\n\".join([r\"\\usepackage{siunitx}\", r\"\\DeclareSIUnit{\\erg}{erg}\"]),\n",
    "}\n",
    "mpl.rcParams.update(pgf_with_latex)\n",
    "\n",
    "width = 455"
   ]
  },
  {
   "cell_type": "code",
   "execution_count": null,
   "metadata": {},
   "outputs": [],
   "source": [
    "simulation_folder = \"simulation/\"\n",
    "survey_name = \"survey\"\n",
    "\n",
    "inference_folder = \"inference/\"\n",
    "data_name = \"data_sig_5\"\n",
    "\n",
    "inference_name = \"relaxed_sig_5_1000\""
   ]
  },
  {
   "cell_type": "code",
   "execution_count": null,
   "metadata": {},
   "outputs": [],
   "source": [
    "ds = DataSet.from_hdf5_file(inference_folder + data_name + \".h5\")\n",
    "data = ds.to_stan_dict()\n",
    "res = av.from_netcdf(inference_folder + inference_name + \".nc\")"
   ]
  },
  {
   "cell_type": "markdown",
   "metadata": {},
   "source": [
    "#### Set size"
   ]
  },
  {
   "cell_type": "code",
   "execution_count": null,
   "metadata": {},
   "outputs": [],
   "source": [
    "def pt_to_inch(pt):\n",
    "    return pt / 72.27\n",
    "\n",
    "\n",
    "def set_size(width_pt, fraction=1, subplots=(1, 1), height=None):\n",
    "    \"\"\"Set figure dimensions to sit nicely in our document.\n",
    "\n",
    "    Parameters\n",
    "    ----------\n",
    "    width_pt: float\n",
    "            Document width in points\n",
    "    fraction: float, optional\n",
    "            Fraction of the width which you wish the figure to occupy\n",
    "    subplots: array-like, optional\n",
    "            The number of rows and columns of subplots.\n",
    "    Returns\n",
    "    -------\n",
    "    fig_dim: tuple\n",
    "            Dimensions of figure in inches\n",
    "    \"\"\"\n",
    "    # Width of figure (in pts)\n",
    "    fig_width_pt = width_pt * fraction\n",
    "\n",
    "    # Golden ratio to set aesthetic figure height\n",
    "    golden_ratio = (5**0.5 - 1) / 2\n",
    "\n",
    "    # Figure height in inches\n",
    "    if not height:\n",
    "        fig_height_in = (\n",
    "            pt_to_inch(fig_width_pt) * golden_ratio * (subplots[0] / subplots[1])\n",
    "        )\n",
    "    else:\n",
    "        fig_height_in = pt_to_inch(height)\n",
    "\n",
    "    return (pt_to_inch(fig_width_pt), fig_height_in)"
   ]
  },
  {
   "cell_type": "markdown",
   "metadata": {},
   "source": [
    "## Band function"
   ]
  },
  {
   "cell_type": "code",
   "execution_count": null,
   "metadata": {},
   "outputs": [],
   "source": [
    "def band(E, Ec, piv, K, alpha, beta):\n",
    "    ret = np.zeros(E.shape)\n",
    "    for i, e in enumerate(E):\n",
    "        if e < (alpha - beta) * Ec:\n",
    "            ret[i] = K * (e / piv) ** alpha * np.exp(-e / Ec)\n",
    "        else:\n",
    "            ret[i] = (\n",
    "                K\n",
    "                * ((alpha - beta) * Ec / piv) ** (alpha - beta)\n",
    "                * np.exp(beta - alpha)\n",
    "                * (e / piv) ** beta\n",
    "            )\n",
    "    return ret"
   ]
  },
  {
   "cell_type": "code",
   "execution_count": null,
   "metadata": {},
   "outputs": [],
   "source": [
    "K = 10\n",
    "alpha = -1\n",
    "beta = -2.2\n",
    "Ec = 1\n",
    "piv = .1\n",
    "x1 = 1e-2\n",
    "x2 = 1e2"
   ]
  },
  {
   "cell_type": "code",
   "execution_count": null,
   "metadata": {},
   "outputs": [],
   "source": [
    "fig, (ax1, ax2) = plt.subplots(\n",
    "    2,\n",
    "    1,\n",
    "    sharex=True,\n",
    "    figsize=set_size(width, height=270, subplots=(2, 1)),\n",
    "    height_ratios=(3, 2),\n",
    ")\n",
    "\n",
    "E = np.logspace(np.log(x1), np.log(x2), 100)\n",
    "ax1.plot(E, K * (E / piv) ** alpha * np.exp(-E / Ec), \"b--\")\n",
    "ax1.plot(E, band(E, Ec, piv, K, alpha, beta), \"b\")\n",
    "\n",
    "ax1.loglog()\n",
    "ax1.set_xlim(x1, x2)\n",
    "ax1.set_ylim(1.5e-6, 1e3)\n",
    "\n",
    "ax1.text(\n",
    "    0.98,\n",
    "    0.88,\n",
    "    \"a)\",\n",
    "    horizontalalignment=\"right\",\n",
    "    transform=ax1.transAxes,\n",
    "    bbox={\"boxstyle\": \"square\", \"facecolor\": ax1.get_facecolor(), \"edgecolor\": \"gray\"},\n",
    ")\n",
    "ax1.set_ylabel(\n",
    "    r\"$B$ [$\\si{\\per\\second\\per\\centi\\meter\\squared\\per\\mega\\electronvolt}$]\"\n",
    ")\n",
    "\n",
    "\n",
    "ax2.plot(E, K * 1.602e-6 * E**2 * (E / piv) ** alpha * np.exp(-E / Ec), \"b--\")\n",
    "ax2.plot(E, 1.602e-6 * E**2 * band(E, Ec, piv, K, alpha, beta), \"b\")\n",
    "\n",
    "ax2.loglog()\n",
    "ax2.set_ylim(8e-9, 2e-6)\n",
    "ax2.text(\n",
    "    0.98,\n",
    "    0.82,\n",
    "    \"b)\",\n",
    "    horizontalalignment=\"right\",\n",
    "    transform=ax2.transAxes,\n",
    "    bbox={\"boxstyle\": \"square\", \"facecolor\": ax2.get_facecolor(), \"edgecolor\": \"gray\"},\n",
    ")\n",
    "ax2.set_xlabel(r\"Photon Energy $E_\\gamma$ $[\\si{\\mega\\electronvolt}]$\")\n",
    "ax2.set_ylabel(r\"$E_\\gamma^2 B$ [$\\si{\\erg\\per\\second\\per\\centi\\meter\\squared}$]\")\n",
    "\n",
    "\n",
    "fig.align_ylabels([ax1, ax2])\n",
    "fig.tight_layout()\n",
    "# fig.savefig(\"band.pgf\")"
   ]
  },
  {
   "cell_type": "markdown",
   "metadata": {},
   "source": [
    "## PPC"
   ]
  },
  {
   "cell_type": "code",
   "execution_count": null,
   "metadata": {},
   "outputs": [],
   "source": [
    "from posterior_predictive_check import PPC\n",
    "\n",
    "p = PPC(data, res)\n",
    "\n",
    "chain = 0\n",
    "draws = 100\n",
    "grb = 0\n",
    "interval = 1\n",
    "detector = 1"
   ]
  },
  {
   "cell_type": "code",
   "execution_count": null,
   "metadata": {},
   "outputs": [],
   "source": [
    "cenergies, ppc_counts = p.ppc(chain, draws, grb, interval, detector)\n",
    "ppc_mu, ppc_1s, ppc_2s = PPC.ppc_summary(ppc_counts)"
   ]
  },
  {
   "cell_type": "code",
   "execution_count": null,
   "metadata": {},
   "outputs": [],
   "source": [
    "%matplotlib widget\n",
    "fig, ax = plt.subplots(1, 1, figsize=set_size(width, height=270))\n",
    "\n",
    "plt.stairs(data[\"observed_counts\"][interval,detector], cenergies, color=\"#dd8452\")\n",
    "plt.stairs(ppc_1s[0], cenergies, baseline=ppc_1s[1], fill=True, color=\"#55a868\", alpha=.5)\n",
    "plt.stairs(ppc_2s[0], cenergies, baseline=ppc_2s[1], fill=True, color=\"#4c72b0\", alpha=.2)\n",
    "\n",
    "# plt.ylim(.8,1e2)\n",
    "plt.xlabel(\"Energy\")\n",
    "plt.ylabel(\"Count Rate\")\n",
    "plt.loglog()"
   ]
  },
  {
   "cell_type": "markdown",
   "metadata": {},
   "source": [
    "## Light Curves"
   ]
  },
  {
   "cell_type": "code",
   "execution_count": null,
   "metadata": {},
   "outputs": [],
   "source": [
    "from cosmogrb.universe.survey import Survey\n",
    "\n",
    "survey = Survey.from_file(simulation_folder + survey_name + \".h5\")"
   ]
  },
  {
   "cell_type": "code",
   "execution_count": null,
   "metadata": {},
   "outputs": [],
   "source": [
    "%matplotlib widget\n",
    "# for grb_name in survey:\n",
    "grb_name = \"SynthGRB_5\"\n",
    "\n",
    "with open(inference_folder + data_name + \".yml\", \"r\") as f:\n",
    "    d = yaml.load(f, Loader=yaml.SafeLoader)\n",
    "    dets = d[grb_name][\"detectors\"].keys()\n",
    "\n",
    "fig, axes = plt.subplots(2,2,sharex=True, sharey=\"row\",figsize=set_size(width, height=width, subplots=(2,2)))\n",
    "row = 0\n",
    "col = 0\n",
    "for k,v in survey[grb_name].grb.items():\n",
    "    if k in dets:\n",
    "        ax = axes[row][col]\n",
    "\n",
    "        lightcurve = v['lightcurve']\n",
    "\n",
    "        lightcurve.display_lightcurve(dt=.5, ax=ax,lw=1, label=\"Total signal\")#,color='#25C68C')\n",
    "        lightcurve.display_source(dt=.5,ax=ax,lw=1, label=\"Source\")#,color=\"#A363DE\")\n",
    "        lightcurve.display_background(dt=.5,ax=ax,lw=1, label=\"Background\")#, color=\"#2C342E\")\n",
    "        ax.set_xlim(-10, 30)\n",
    "        if row != 1:\n",
    "            ax.set_xlabel(\"\")\n",
    "        else:\n",
    "            ax.set_xlabel(r\"Time $t$ [s]\")\n",
    "        if col != 0:\n",
    "            ax.set_ylabel(\"\")\n",
    "        else:\n",
    "            ax.set_ylabel(r\"Count Rate $n$\")\n",
    "        ax.legend()\n",
    "        ax.set_title(k)\n",
    "\n",
    "        if col < 1:\n",
    "            col+=1\n",
    "        else:\n",
    "            row+=1\n",
    "            col=0\n",
    "\n",
    "fig.align_ylabels(axes)\n",
    "fig.tight_layout()"
   ]
  },
  {
   "cell_type": "markdown",
   "metadata": {},
   "source": [
    "## Corner Plot"
   ]
  },
  {
   "cell_type": "code",
   "execution_count": null,
   "metadata": {},
   "outputs": [],
   "source": [
    "%matplotlib widget\n",
    "fig, axes = plt.subplots(3,3,figsize=set_size(width, height=width, subplots=(3,3)))\n",
    "\n",
    "vars = [\"alpha\", \"log_ec\", \"log_Nrest\", \"gamma\"]\n",
    "av.plot_pair(res, var_names=vars, coords={f\"{i}_dim_0\": 0 for i in vars}, ax=axes)\n",
    "\n",
    "axes[2][0].set_xlabel(r\"$\\alpha$\")\n",
    "axes[2][1].set_xlabel(r\"$\\log E_C$\")\n",
    "axes[2][2].set_xlabel(r\"$\\log N_\\mathrm{rest}$\")\n",
    "\n",
    "axes[0][0].set_ylabel(r\"$\\log E_C$\")\n",
    "axes[1][0].set_ylabel(r\"$\\log N_\\mathrm{rest}$\")\n",
    "axes[2][0].set_ylabel(r\"$\\gamma$\")"
   ]
  },
  {
   "cell_type": "markdown",
   "metadata": {},
   "source": [
    "## Trace Plot"
   ]
  },
  {
   "cell_type": "code",
   "execution_count": null,
   "metadata": {},
   "outputs": [],
   "source": [
    "%matplotlib widget\n",
    "rows = len(vars)\n",
    "fig, axes = plt.subplots(\n",
    "    rows, 2, figsize=set_size(width, height=width, subplots=(rows, 2))\n",
    ")\n",
    "\n",
    "av.plot_trace(res, var_names=vars, axes=axes)\n",
    "\n",
    "fig.align_ylabels(axes)\n",
    "fig.tight_layout()"
   ]
  },
  {
   "cell_type": "code",
   "execution_count": null,
   "metadata": {},
   "outputs": [],
   "source": []
  }
 ],
 "metadata": {
  "kernelspec": {
   "display_name": "Python 3.8.13 ('bachelor')",
   "language": "python",
   "name": "python3"
  },
  "language_info": {
   "codemirror_mode": {
    "name": "ipython",
    "version": 3
   },
   "file_extension": ".py",
   "mimetype": "text/x-python",
   "name": "python",
   "nbconvert_exporter": "python",
   "pygments_lexer": "ipython3",
   "version": "3.8.13"
  },
  "orig_nbformat": 4,
  "vscode": {
   "interpreter": {
    "hash": "c32814d9e11908585ccc181cca6c7dae7bdf3e835febbae23bde3821f1e724f7"
   }
  }
 },
 "nbformat": 4,
 "nbformat_minor": 2
}
