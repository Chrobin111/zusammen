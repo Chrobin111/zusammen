{
    "cells": [
        {
            "cell_type": "markdown",
            "metadata": {},
            "source": [
                "## Imports and Setup"
            ]
        },
        {
            "cell_type": "code",
            "execution_count": null,
            "metadata": {},
            "outputs": [],
            "source": [
                "import os\n",
                "import sys\n",
                "\n",
                "import arviz as av\n",
                "import matplotlib as mpl\n",
                "import matplotlib.pyplot as plt\n",
                "import numpy as np\n",
                "import seaborn as sns\n",
                "from plots import *\n",
                "from threeML import update_logging_level\n",
                "\n",
                "update_logging_level(\"FATAL\")\n",
                "\n",
                "parent_dir = os.path.abspath(\"..\")\n",
                "if parent_dir not in sys.path:\n",
                "    sys.path.append(parent_dir)\n",
                "from zusammen import DataSet\n",
                "\n",
                "sns.set_theme(context=\"paper\")\n",
                "\n",
                "mpl.use(\"pgf\")\n",
                "pgf_with_latex = {\n",
                "    \"text.usetex\": True,\n",
                "    \"font.family\": \"serif\",\n",
                "    \"axes.labelsize\": 10,\n",
                "    \"font.size\": 10,\n",
                "    \"legend.fontsize\": 8,\n",
                "    \"xtick.labelsize\": 8,\n",
                "    \"ytick.labelsize\": 8,\n",
                "    \"pgf.texsystem\": \"lualatex\",\n",
                "    \"pgf.rcfonts\": \"False\",\n",
                "    \"pgf.preamble\": \"\\n\".join([r\"\\usepackage{siunitx}\", r\"\\DeclareSIUnit{\\erg}{erg}\"]),\n",
                "}\n",
                "mpl.rcParams.update(pgf_with_latex)\n",
                "\n",
                "width = 455. / 72.27\n",
                "height = width / 1.61803398875"
            ]
        },
        {
            "cell_type": "code",
            "execution_count": null,
            "metadata": {},
            "outputs": [],
            "source": [
                "# data_folder = \"simulation/\"\n",
                "# data_name = \"data_2_sig_5\"\n",
                "# survey_name = \"survey_2\"\n",
                "\n",
                "# inference_folder = \"inference/\"\n",
                "# inference_name = \"simulated_2_sig_5_1000\"\n",
                "# inference_name = \"simulated_relaxed_2_sig_5_1000\"\n",
                "# inference_name = \"simulated_global_2_sig_5_1000\"\n",
                "\n",
                "\n",
                "data_folder = \"real_data/\"\n",
                "data_name = \"data\"\n",
                "\n",
                "inference_folder = \"inference/\"\n",
                "inference_name = \"real_sig_5_1000\"\n",
                "# inference_name = \"real_relaxed_3_sig_5_1000\"\n",
                "# inference_name = \"real_global_sig_5_1000\""
            ]
        },
        {
            "cell_type": "code",
            "execution_count": null,
            "metadata": {},
            "outputs": [],
            "source": [
                "plots_folder = \"/Users/chrobin/LRZ Sync+Share/Uni/Bachelorarbeit/Thesis/figures/\"\n",
                "if \"real\" in data_folder:\n",
                "    model = \"real\"\n",
                "else:\n",
                "    model = \"simulated\"\n",
                "if \"relaxed\" in inference_name:\n",
                "    model += \"_relaxed\"\n",
                "elif \"global\" in inference_name:\n",
                "    model += \"_global\"\n",
                "\n",
                "ds = DataSet.from_hdf5_file(data_folder + data_name + \".h5\")\n",
                "data = ds.to_stan_dict()\n",
                "res = av.from_netcdf(inference_folder + inference_name + \".nc\")\n",
                "\n",
                "assert data[\"N_intervals\"] == res.posterior.alpha.shape[2]"
            ]
        },
        {
            "cell_type": "markdown",
            "metadata": {},
            "source": [
                "## Basics"
            ]
        },
        {
            "cell_type": "markdown",
            "metadata": {},
            "source": [
                "### Band function"
            ]
        },
        {
            "cell_type": "code",
            "execution_count": null,
            "metadata": {},
            "outputs": [],
            "source": [
                "%matplotlib widget\n",
                "fig = plot_band(width)\n",
                "# fig.savefig(plots_folder + \"band.pdf\")"
            ]
        },
        {
            "cell_type": "markdown",
            "metadata": {},
            "source": [
                "### Light Curve and Spectrum"
            ]
        },
        {
            "cell_type": "code",
            "execution_count": null,
            "metadata": {},
            "outputs": [],
            "source": [
                "# %matplotlib widget\n",
                "fig = plot_light_curve_basics(model=model, data_folder=data_folder, grb_name=\"GRB160509374\", detector=\"n1\", width=width, height=height, siunitx=True)\n",
                "fig.savefig(plots_folder + \"lightcurve_ex.pdf\")"
            ]
        },
        {
            "cell_type": "code",
            "execution_count": null,
            "metadata": {},
            "outputs": [],
            "source": [
                "fig = plot_spectrum_basics(model=model, data_folder=data_folder, grb_name = \"GRB160509374\", detector=\"n1\", width=width, height=height, siunitx=True)\n",
                "fig.savefig(plots_folder + \"spectrum_ex.pdf\")"
            ]
        },
        {
            "cell_type": "markdown",
            "metadata": {},
            "source": [
                "## Methods"
            ]
        },
        {
            "cell_type": "markdown",
            "metadata": {},
            "source": [
                "### Weak Light Curve"
            ]
        },
        {
            "cell_type": "code",
            "execution_count": null,
            "metadata": {},
            "outputs": [],
            "source": [
                "# %matplotlib widget\n",
                "fig = plot_weak_light_curve(model=model, data_folder=data_folder, survey_name=survey_name, width=width, siunitx=True)\n",
                "fig.savefig(plots_folder + \"lc_insignificant.pdf\")"
            ]
        },
        {
            "cell_type": "markdown",
            "metadata": {},
            "source": [
                "## Results"
            ]
        },
        {
            "cell_type": "markdown",
            "metadata": {},
            "source": [
                "### Light Curves"
            ]
        },
        {
            "cell_type": "code",
            "execution_count": null,
            "metadata": {},
            "outputs": [],
            "source": [
                "%matplotlib widget\n",
                "\n",
                "kwargs = {}\n",
                "if \"simulated\" in model:\n",
                "    kwargs[\"survey_name\"] = survey_name\n",
                "    kwargs[\"data_name\"] = data_name\n",
                "else:\n",
                "    kwargs[\"grb_name\"] = \"GRB160509374\"\n",
                "fig = plot_light_curve(model=model, data_folder=data_folder, width=width, **kwargs)\n",
                "# fig.savefig(plots_folder + \"lc_\" + [\"real\" if \"real\" in model else \"simulated\"][0] + \".pdf\")"
            ]
        },
        {
            "cell_type": "markdown",
            "metadata": {},
            "source": [
                "### PPC"
            ]
        },
        {
            "cell_type": "code",
            "execution_count": null,
            "metadata": {},
            "outputs": [],
            "source": [
                "%matplotlib widget\n",
                "fig = plot_ppc(model, ds, data, res, width)\n",
                "# plt.savefig(plots_folder + \"ppc_\" + model + \".pdf\")"
            ]
        },
        {
            "cell_type": "markdown",
            "metadata": {},
            "source": [
                "### Corner Plot"
            ]
        },
        {
            "cell_type": "code",
            "execution_count": null,
            "metadata": {},
            "outputs": [],
            "source": [
                "%matplotlib widget\n",
                "\n",
                "fig = plot_corner(model, res, width)\n",
                "fig.savefig(plots_folder + \"corner_\" + model + \".pdf\")"
            ]
        },
        {
            "cell_type": "markdown",
            "metadata": {},
            "source": [
                "### Violin Plot"
            ]
        },
        {
            "cell_type": "code",
            "execution_count": null,
            "metadata": {},
            "outputs": [],
            "source": [
                "%matplotlib widget\n",
                "fig_gamma, fig_Nrest = plot_violin(model, res, width, height)\n",
                "# fig.savefig(plots_folder + \"violin_gamma_\" + model + \".pdf\")"
            ]
        },
        {
            "cell_type": "markdown",
            "metadata": {},
            "source": [
                "### Trace Plot"
            ]
        },
        {
            "cell_type": "code",
            "execution_count": null,
            "metadata": {},
            "outputs": [],
            "source": [
                "%matplotlib widget\n",
                "fig = plot_trace(model, res, width)\n",
                "# fig.savefig(plots_folder + \"trace_\" + model + \".pdf\")"
            ]
        },
        {
            "cell_type": "markdown",
            "metadata": {},
            "source": [
                "### GC"
            ]
        },
        {
            "cell_type": "code",
            "execution_count": null,
            "metadata": {},
            "outputs": [],
            "source": [
                "%matplotlib widget\n",
                "fig = plot_gc(model, data, res, width, height)\n",
                "# fig.savefig(plots_folder + \"gc_\" + model + \".pdf\")"
            ]
        },
        {
            "cell_type": "markdown",
            "metadata": {},
            "source": [
                "### Correlation of Hyperparameters"
            ]
        },
        {
            "cell_type": "code",
            "execution_count": null,
            "metadata": {},
            "outputs": [],
            "source": [
                "%matplotlib widget\n",
                "fig = plot_gc_kde(model, res, width)\n",
                "# fig.savefig(plots_folder + \"meta_\" + model + \".pdf\")"
            ]
        }
    ],
    "metadata": {
        "kernelspec": {
            "display_name": "Python 3.8.13 ('bachelor')",
            "language": "python",
            "name": "python3"
        },
        "language_info": {
            "codemirror_mode": {
                "name": "ipython",
                "version": 3
            },
            "file_extension": ".py",
            "mimetype": "text/x-python",
            "name": "python",
            "nbconvert_exporter": "python",
            "pygments_lexer": "ipython3",
            "version": "3.8.13"
        },
        "orig_nbformat": 4,
        "vscode": {
            "interpreter": {
                "hash": "c32814d9e11908585ccc181cca6c7dae7bdf3e835febbae23bde3821f1e724f7"
            }
        }
    },
    "nbformat": 4,
    "nbformat_minor": 2
}
