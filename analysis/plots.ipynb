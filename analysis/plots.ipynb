{
    "cells": [
        {
            "cell_type": "markdown",
            "metadata": {},
            "source": [
                "## Imports and Setup"
            ]
        },
        {
            "cell_type": "code",
            "execution_count": null,
            "metadata": {},
            "outputs": [],
            "source": [
                "import os\n",
                "import sys\n",
                "\n",
                "import arviz as av\n",
                "from cosmogrb.universe.survey import Survey\n",
                "import matplotlib as mpl\n",
                "import matplotlib.pyplot as plt\n",
                "import numpy as np\n",
                "import seaborn as sns\n",
                "from plots import *\n",
                "from threeML import update_logging_level\n",
                "\n",
                "update_logging_level(\"FATAL\")\n",
                "\n",
                "parent_dir = os.path.abspath(\"..\")\n",
                "if parent_dir not in sys.path:\n",
                "    sys.path.append(parent_dir)\n",
                "from zusammen import DataSet\n",
                "\n",
                "sns.set_theme(context=\"paper\")\n",
                "\n",
                "mpl.use(\"pgf\")\n",
                "pgf_with_latex = {\n",
                "    \"text.usetex\": True,\n",
                "    \"font.family\": \"serif\",\n",
                "    \"axes.labelsize\": 10,\n",
                "    \"font.size\": 10,\n",
                "    \"legend.fontsize\": 8,\n",
                "    \"xtick.labelsize\": 8,\n",
                "    \"ytick.labelsize\": 8,\n",
                "    \"pgf.texsystem\": \"lualatex\",\n",
                "    \"pgf.rcfonts\": \"False\",\n",
                "    \"pgf.preamble\": \"\\n\".join([r\"\\usepackage{siunitx}\", r\"\\DeclareSIUnit{\\erg}{erg}\"]),\n",
                "}\n",
                "mpl.rcParams.update(pgf_with_latex)\n",
                "\n",
                "width = 455. / 72.27\n",
                "height = width / 1.61803398875"
            ]
        },
        {
            "cell_type": "code",
            "execution_count": null,
            "metadata": {},
            "outputs": [],
            "source": [
                "# data_folder = \"simulation/\"\n",
                "# data_name = \"data_2_sig_5\"\n",
                "# survey_name = \"survey_2\"\n",
                "\n",
                "# inference_folder = \"inference/\"\n",
                "# inference_name = \"simulated_2_sig_5_1000\"\n",
                "# inference_name = \"simulated_int_sig_5_1000\"\n",
                "# inference_name = \"simulated_relaxed_2_sig_5_1000\"\n",
                "# inference_name = \"simulated_global_2_sig_5_1000\"\n",
                "\n",
                "\n",
                "data_folder = \"real_data/\"\n",
                "data_name = \"data\"\n",
                "\n",
                "inference_folder = \"inference/\"\n",
                "inference_name = \"real_sig_5_1000\"\n",
                "# inference_name = \"real_int_sig_5_1000\"\n",
                "# inference_name = \"real_relaxed_3_sig_5_1000\"\n",
                "# inference_name = \"real_global_sig_5_1000\""
            ]
        },
        {
            "cell_type": "code",
            "execution_count": null,
            "metadata": {},
            "outputs": [],
            "source": [
                "plots_folder = \"/Users/chrobin/LRZ Sync+Share/Uni/Bachelorarbeit/Thesis/figures/\"\n",
                "tables_folder = \"/Users/chrobin/LRZ Sync+Share/Uni/Bachelorarbeit/Thesis/tables/\"\n",
                "if \"real\" in data_folder:\n",
                "    model = \"real\"\n",
                "else:\n",
                "    model = \"simulated\"\n",
                "    survey = Survey.from_file(data_folder + survey_name + \".h5\")\n",
                "if \"relaxed\" in inference_name:\n",
                "    model += \"_relaxed\"\n",
                "elif \"global\" in inference_name:\n",
                "    model += \"_global\"\n",
                "elif \"int\" in inference_name:\n",
                "    model += \"_int\"\n",
                "\n",
                "ds = DataSet.from_hdf5_file(data_folder + data_name + \".h5\")\n",
                "data = ds.to_stan_dict()\n",
                "res = av.from_netcdf(inference_folder + inference_name + \".nc\")\n",
                "\n",
                "assert data[\"N_intervals\"] == res.posterior.alpha.shape[2]\n",
                "model"
            ]
        },
        {
            "cell_type": "markdown",
            "metadata": {},
            "source": [
                "## Basics"
            ]
        },
        {
            "cell_type": "markdown",
            "metadata": {},
            "source": [
                "### Band function"
            ]
        },
        {
            "cell_type": "code",
            "execution_count": null,
            "metadata": {},
            "outputs": [],
            "source": [
                "%matplotlib widget\n",
                "fig = plot_band(width)\n",
                "# fig.savefig(plots_folder + \"band.pdf\")"
            ]
        },
        {
            "cell_type": "markdown",
            "metadata": {},
            "source": [
                "### Light Curve and Spectrum"
            ]
        },
        {
            "cell_type": "code",
            "execution_count": null,
            "metadata": {},
            "outputs": [],
            "source": [
                "# %matplotlib widget\n",
                "fig = plot_light_curve_basics(model=model, data_folder=data_folder, grb_name=\"GRB160509374\", detector=\"n1\", width=width, height=height, siunitx=True)\n",
                "fig.savefig(plots_folder + \"lightcurve_ex.pdf\")"
            ]
        },
        {
            "cell_type": "code",
            "execution_count": null,
            "metadata": {},
            "outputs": [],
            "source": [
                "fig = plot_spectrum_basics(model=model, data_folder=data_folder, grb_name = \"GRB160509374\", detector=\"n1\", width=width, height=height, siunitx=True)\n",
                "fig.savefig(plots_folder + \"spectrum_ex.pdf\")"
            ]
        },
        {
            "cell_type": "markdown",
            "metadata": {},
            "source": [
                "## Methods"
            ]
        },
        {
            "cell_type": "markdown",
            "metadata": {},
            "source": [
                "### Weak Light Curve"
            ]
        },
        {
            "cell_type": "code",
            "execution_count": null,
            "metadata": {},
            "outputs": [],
            "source": [
                "# %matplotlib widget\n",
                "fig = plot_weak_light_curve(model=model, data_folder=data_folder, survey_name=survey_name, width=width, siunitx=True)\n",
                "fig.savefig(plots_folder + \"lc_insignificant.pdf\")"
            ]
        },
        {
            "cell_type": "markdown",
            "metadata": {},
            "source": [
                "## Results"
            ]
        },
        {
            "cell_type": "markdown",
            "metadata": {},
            "source": [
                "### Light Curves"
            ]
        },
        {
            "cell_type": "code",
            "execution_count": null,
            "metadata": {},
            "outputs": [],
            "source": [
                "# %matplotlib widget\n",
                "\n",
                "kwargs = {}\n",
                "if \"simulated\" in model:\n",
                "    kwargs[\"survey_name\"] = survey_name\n",
                "    kwargs[\"data_name\"] = data_name\n",
                "    kwargs[\"grb_names\"] = (\"SynthGRB_5\",\"SynthGRB_10\")\n",
                "    kwargs[\"det_names\"] = (\"n1\",\"n4\")\n",
                "else:\n",
                "    kwargs[\"grb_names\"] = (\"GRB160509374\",\"GRB120119170\")\n",
                "    kwargs[\"det_names\"] = (\"n1\",\"n9\")\n",
                "fig = plot_light_curve(model, data_folder, width, siunitx=True, **kwargs)\n",
                "fig.savefig(plots_folder + \"lc_\" + [\"real\" if \"real\" in model else \"simulated\"][0] + \".pdf\")"
            ]
        },
        {
            "cell_type": "markdown",
            "metadata": {},
            "source": [
                "### PPC"
            ]
        },
        {
            "cell_type": "code",
            "execution_count": null,
            "metadata": {},
            "outputs": [],
            "source": [
                "fig = plot_ppc(model, data_folder, ds, data, res, width, siunitx=True)\n",
                "plt.savefig(plots_folder + \"ppc_\" + model + \".pdf\")"
            ]
        },
        {
            "cell_type": "markdown",
            "metadata": {},
            "source": [
                "### Corner Plot"
            ]
        },
        {
            "cell_type": "code",
            "execution_count": null,
            "metadata": {},
            "outputs": [],
            "source": [
                "# %matplotlib widget\n",
                "fig = plot_corner(model, res, width)\n",
                "fig.savefig(plots_folder + \"corner_\" + model + \".pdf\")"
            ]
        },
        {
            "cell_type": "markdown",
            "metadata": {},
            "source": [
                "### Violin Plot"
            ]
        },
        {
            "cell_type": "code",
            "execution_count": null,
            "metadata": {},
            "outputs": [],
            "source": [
                "# %matplotlib widget\n",
                "if \"simulated\" in model:\n",
                "    kwargs = {\"survey_name\": survey_name}\n",
                "else:\n",
                "    kwargs = {}\n",
                "fig_gamma, fig_Nrest = plot_violin(model, data_folder, ds, res, width, height, **kwargs)\n",
                "fig_gamma.savefig(plots_folder + \"violin_gamma_\" + model + \".pdf\")\n",
                "fig_Nrest.savefig(plots_folder + \"violin_log_Nrest_\" + model + \".pdf\")"
            ]
        },
        {
            "cell_type": "markdown",
            "metadata": {},
            "source": [
                "### Trace Plot"
            ]
        },
        {
            "cell_type": "code",
            "execution_count": null,
            "metadata": {},
            "outputs": [],
            "source": [
                "%matplotlib widget\n",
                "fig = plot_trace(model, res, width, divergences=\"bottom\")\n",
                "# fig.savefig(plots_folder + \"trace_\" + model + \".pdf\")"
            ]
        },
        {
            "cell_type": "markdown",
            "metadata": {},
            "source": [
                "### GC"
            ]
        },
        {
            "cell_type": "code",
            "execution_count": null,
            "metadata": {},
            "outputs": [],
            "source": [
                "# %matplotlib widget\n",
                "fig = plot_gc(model, data, res, width, height)\n",
                "fig.savefig(plots_folder + \"gc_\" + model + \".pdf\")"
            ]
        },
        {
            "cell_type": "markdown",
            "metadata": {},
            "source": [
                "### Correlation of Hyperparameters"
            ]
        },
        {
            "cell_type": "code",
            "execution_count": null,
            "metadata": {},
            "outputs": [],
            "source": [
                "# %matplotlib widget\n",
                "fig = plot_gc_kde(model, res, width)\n",
                "fig.savefig(plots_folder + \"meta_\" + model + \".pdf\")"
            ]
        },
        {
            "cell_type": "markdown",
            "metadata": {},
            "source": [
                "### Tables"
            ]
        },
        {
            "cell_type": "markdown",
            "metadata": {},
            "source": [
                "#### GRBs"
            ]
        },
        {
            "cell_type": "code",
            "execution_count": null,
            "metadata": {},
            "outputs": [],
            "source": [
                "if \"simulated\" in model:\n",
                "    grbs = {}\n",
                "    for i in range(len(survey)):\n",
                "        if f\"SynthGRB_{i}\" not in list(ds._grbs.keys()):\n",
                "            continue\n",
                "        grbs[f\"GRB {i}\"] = []\n",
                "        grbs[f\"GRB {i}\"].append(survey['SynthGRB_' + str(i)].grb.z)\n",
                "        for j in [\"alpha\", \"ep_start\"]:\n",
                "            grbs[f\"GRB {i}\"].append(survey['SynthGRB_' + str(i)].grb._source_params[j])\n",
                "        grbs[f\"GRB {i}\"].append(1.00e52)\n",
                "        grbs[f\"GRB {i}\"].append(1.50)\n",
                "    grb_df = pd.DataFrame.from_dict(grbs, orient=\"index\", columns=[\"z\", \"alpha\", \"ep\", \"Nrest\", \"gamma\"]).round(2)\n",
                "    grb_df[\"Nrest\"] = grb_df[\"Nrest\"].map(lambda x: '%.0e' % x)\n",
                "    grb_df.index.name = \"grb\"\n",
                "    grb_df.to_csv(tables_folder + \"simulated.csv\")"
            ]
        },
        {
            "cell_type": "markdown",
            "metadata": {},
            "source": [
                "#### Inference Results"
            ]
        },
        {
            "cell_type": "code",
            "execution_count": null,
            "metadata": {},
            "outputs": [],
            "source": [
                "grbs = []\n",
                "if \"simulated\" in model:\n",
                "    for i in range(len(survey)):\n",
                "        if f\"SynthGRB_{i}\" not in list(ds._grbs.keys()):\n",
                "            continue\n",
                "        grbs.append(f\"GRB {i}\")\n",
                "else:\n",
                "    with open(data_folder + \"grb_names.yml\") as f:\n",
                "        real_names = yaml.load(f, Loader=yaml.SafeLoader)\n",
                "    real_names = {k: v[3:] for k,v in real_names.items()}\n",
                "    grbs = [real_names[i] for i in ds._grbs.keys()]\n",
                "\n",
                "log_Nrest_mean = 10**np.mean(res.posterior.log_Nrest.stack(sample=(\"chain\", \"draw\")).values, axis=1)\n",
                "log_Nrest_hdi = 10**av.hdi(res.posterior.log_Nrest, hdi_prob=0.954).log_Nrest.values\n",
                "log_Nrest = np.zeros((data[\"N_grbs\"], 3))\n",
                "for i, (mean, (hdi_lo, hdi_hi)) in enumerate(zip(log_Nrest_mean, log_Nrest_hdi)):\n",
                "    log_Nrest[i][0] = mean\n",
                "    log_Nrest[i][1] = hdi_lo\n",
                "    log_Nrest[i][2] = hdi_hi\n",
                "\n",
                "gamma_mean = np.mean(res.posterior.gamma.stack(sample=(\"chain\", \"draw\")).values, axis=1)\n",
                "gamma_hdi = av.hdi(res.posterior.gamma, hdi_prob=0.954).gamma.values\n",
                "gamma = np.zeros((data[\"N_grbs\"], 3))\n",
                "for i, (mean, (hdi_lo, hdi_hi)) in enumerate(zip(gamma_mean, gamma_hdi)):\n",
                "    gamma[i][0] = mean\n",
                "    gamma[i][1] = hdi_lo\n",
                "    gamma[i][2] = hdi_hi\n",
                "\n",
                "if \"int\" in model:\n",
                "    int_mean = np.mean(res.posterior.int_scatter.stack(sample=(\"chain\", \"draw\")).values, axis=1)\n",
                "    int_hdi = av.hdi(res.posterior.int_scatter, hdi_prob=0.954).int_scatter.values\n",
                "    int = np.zeros((data[\"N_grbs\"], 3))\n",
                "    for i, (mean, (hdi_lo, hdi_hi)) in enumerate(zip(int_mean, int_hdi)):\n",
                "        int[i][0] = mean\n",
                "        int[i][1] = hdi_lo\n",
                "        int[i][2] = hdi_hi\n",
                "    grb_df = pd.DataFrame(columns=[\"logNrest\",\"logNrest-\",\"logNrest+\",\"gamma\",\"gamma-\",\"gamma+\",\"int\",\"int-\",\"int+\"])\n",
                "    for i, (n, g, s) in enumerate(zip(log_Nrest, gamma, int)):\n",
                "        grb_df.loc[grbs[i]] = [*n, *g, *s]\n",
                "else:\n",
                "    grb_df = pd.DataFrame(columns=[\"logNrest\",\"logNrest-\",\"logNrest+\",\"gamma\",\"gamma-\",\"gamma+\",])\n",
                "    for i, (n, g) in enumerate(zip(log_Nrest, gamma)):\n",
                "        grb_df.loc[grbs[i]] = [*n, *g]\n",
                "\n",
                "if \"int\" in model:\n",
                "    grb_df[\"logNrest\"] = grb_df[\"logNrest\"].map(lambda x: x / 10**50)\n",
                "    grb_df[\"logNrest-\"] = grb_df[\"logNrest-\"].map(lambda x: x / 10**50)\n",
                "    grb_df[\"logNrest+\"] = grb_df[\"logNrest+\"].map(lambda x: x / 10**50)\n",
                "    grb_df = grb_df.round(2)\n",
                "else:\n",
                "    for col in grb_df.columns:\n",
                "        if \"Nrest\" not in col:\n",
                "            grb_df[col] = grb_df[col].round(2)\n",
                "    grb_df[\"logNrest\"] = grb_df[\"logNrest\"].map(lambda x: '%.2e' % x)\n",
                "    grb_df[\"logNrest-\"] = grb_df[\"logNrest-\"].map(lambda x: '%.2e' % x)\n",
                "    grb_df[\"logNrest+\"] = grb_df[\"logNrest+\"].map(lambda x: '%.2e' % x)\n",
                "if \"real\" in model:\n",
                "    for k, v in ds._grbs.items():\n",
                "        grb_df.loc[real_names[k], \"z\"] = v.z\n",
                "grb_df.index.name = \"grb\"\n",
                "grb_df.to_csv(tables_folder + \"res_\" + model + \".csv\")"
            ]
        },
        {
            "cell_type": "code",
            "execution_count": null,
            "metadata": {},
            "outputs": [],
            "source": []
        }
    ],
    "metadata": {
        "kernelspec": {
            "display_name": "Python 3.8.13 ('bachelor')",
            "language": "python",
            "name": "python3"
        },
        "language_info": {
            "codemirror_mode": {
                "name": "ipython",
                "version": 3
            },
            "file_extension": ".py",
            "mimetype": "text/x-python",
            "name": "python",
            "nbconvert_exporter": "python",
            "pygments_lexer": "ipython3",
            "version": "3.8.13"
        },
        "orig_nbformat": 4,
        "vscode": {
            "interpreter": {
                "hash": "c32814d9e11908585ccc181cca6c7dae7bdf3e835febbae23bde3821f1e724f7"
            }
        }
    },
    "nbformat": 4,
    "nbformat_minor": 2
}
