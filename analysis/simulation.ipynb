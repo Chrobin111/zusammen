{
 "cells": [
  {
   "cell_type": "code",
   "execution_count": null,
   "metadata": {},
   "outputs": [],
   "source": [
    "import os\n",
    "import sys\n",
    "\n",
    "import numpy as np\n",
    "import matplotlib.pyplot as plt\n",
    "\n",
    "from cosmogrb.universe.survey import Survey\n",
    "import popsynth\n",
    "from popsynth.aux_samplers.trunc_normal_aux_sampler import TruncatedNormalAuxSampler\n",
    "from popsynth.aux_samplers.lognormal_aux_sampler import LogNormalAuxSampler\n",
    "from popsynth.aux_samplers.delta_aux_sampler import DeltaAuxSampler\n",
    "\n",
    "from threeML import update_logging_level\n",
    "update_logging_level(\"FATAL\")\n",
    "\n",
    "parent_dir = os.path.abspath(\"..\")\n",
    "if parent_dir not in sys.path:\n",
    "    sys.path.append(parent_dir)\n",
    "from zusammen.synthetic_populations.aux_samplers import DurationSampler, LumSampler, EpeakObsSampler\n",
    "from zusammen import AnalysisBuilder, DataSet"
   ]
  },
  {
   "cell_type": "code",
   "execution_count": null,
   "metadata": {},
   "outputs": [],
   "source": [
    "simulation_folder = \"simulation/\"\n",
    "if not os.path.exists(simulation_folder):\n",
    "    os.mkdir(simulation_folder)\n",
    "grbs_folder = \"GRBs_2\"\n",
    "if not os.path.exists(simulation_folder + grbs_folder):\n",
    "    os.mkdir(simulation_folder + grbs_folder)\n",
    "\n",
    "population_name = \"population_2\"\n",
    "survey_name = \"survey_2\"\n",
    "data_name = \"data_2_sig_5\""
   ]
  },
  {
   "cell_type": "markdown",
   "metadata": {},
   "source": [
    "### Simulate a population in _popsynth_"
   ]
  },
  {
   "cell_type": "code",
   "execution_count": null,
   "metadata": {},
   "outputs": [],
   "source": [
    "pop_gen = popsynth.populations.SFRPopulation(r0=1, rise=1, decay=4, peak=1.5, r_max=7, a=0.1)\n",
    "# pop_gen = popsynth.populations.SFRPopulation(r0=1.5, rise=1, decay=4, peak=0.7, r_max=7, a=0.1)\n",
    "\n",
    "t90 = LogNormalAuxSampler(name=\"t90\", observed=False)\n",
    "t90.mu=np.log10(10)\n",
    "t90.tau=0.25\n",
    "\n",
    "ep = LogNormalAuxSampler(name=\"ep\", observed=False)\n",
    "ep.mu= np.log(300)\n",
    "ep.tau=0.4\n",
    "\n",
    "alpha = TruncatedNormalAuxSampler(name=\"alpha\", observed=False)\n",
    "alpha.lower=-1.5\n",
    "alpha.upper=0.0\n",
    "alpha.mu=-1\n",
    "alpha.tau=0.25\n",
    "\n",
    "ep_tau = TruncatedNormalAuxSampler(name=\"ep_tau\", observed=False)\n",
    "ep_tau.lower=-2\n",
    "ep_tau.upper=-1\n",
    "ep_tau.mu=-1.5\n",
    "ep_tau.tau=0.25\n",
    "\n",
    "# nrest = LogNormalAuxSampler(name=\"nrest\", observed=False)\n",
    "# nrest.mu = np.log(1e52)\n",
    "# nrest.tau = 0.1\n",
    "nrest = DeltaAuxSampler(name=\"nrest\", observed=False)\n",
    "nrest.xp = 1e52\n",
    "\n",
    "# gamma = TruncatedNormalAuxSampler(name=\"gamma\", observed=False)\n",
    "# gamma.mu = 1.5\n",
    "# gamma.tau = 0.5\n",
    "# gamma.lower = 1.0\n",
    "# gamma.upper = 2.0\n",
    "gamma = DeltaAuxSampler(name=\"gamma\", observed=False)\n",
    "gamma.xp = 1.5\n",
    "\n",
    "duration = DurationSampler()\n",
    "obs_lum = LumSampler()\n",
    "ep_obs = EpeakObsSampler()\n",
    "\n",
    "duration.set_secondary_sampler(t90)\n",
    "obs_lum.set_secondary_sampler(ep)\n",
    "obs_lum.set_secondary_sampler(nrest)\n",
    "obs_lum.set_secondary_sampler(gamma)\n",
    "ep_obs.set_secondary_sampler(ep)\n",
    "\n",
    "pop_gen.add_observed_quantity(duration)\n",
    "pop_gen.add_observed_quantity(obs_lum)\n",
    "pop_gen.add_observed_quantity(ep_obs)\n",
    "pop_gen.add_observed_quantity(alpha)\n",
    "pop_gen.add_observed_quantity(ep_tau)\n"
   ]
  },
  {
   "cell_type": "code",
   "execution_count": null,
   "metadata": {},
   "outputs": [],
   "source": [
    "population = pop_gen.draw_survey()\n",
    "population.writeto(simulation_folder + population_name + \".h5\")\n",
    "population"
   ]
  },
  {
   "cell_type": "markdown",
   "metadata": {},
   "source": [
    "### Simulate universe"
   ]
  },
  {
   "cell_type": "code",
   "execution_count": null,
   "metadata": {},
   "outputs": [],
   "source": [
    "if parent_dir + \"examples\" not in sys.path:\n",
    "    sys.path.append(parent_dir + \"examples\")\n",
    "from examples.corr_cpl.corr_cpl_universe import GBM_CORR_CPL_Universe\n",
    "\n",
    "universe = GBM_CORR_CPL_Universe(simulation_folder + population_name + \".h5\", save_path=simulation_folder + grbs_folder)\n",
    "\n",
    "universe.go(client=None)\n",
    "\n",
    "universe.save(simulation_folder + survey_name + \".h5\")"
   ]
  },
  {
   "cell_type": "markdown",
   "metadata": {},
   "source": [
    "### Create FITS files"
   ]
  },
  {
   "cell_type": "code",
   "execution_count": null,
   "metadata": {},
   "outputs": [],
   "source": [
    "survey = Survey.from_file(simulation_folder + survey_name + \".h5\")\n",
    "ab = AnalysisBuilder(survey, use_bb=True, intervals_min=5, sig_min=5, all_above_limit=False, save_directory=simulation_folder + grbs_folder)\n",
    "\n",
    "ab.write_yaml(simulation_folder + data_name + \".yml\")\n",
    "ds = DataSet.from_yaml(simulation_folder + data_name + \".yml\")\n",
    "ds.to_hdf5_file(simulation_folder + data_name + \".h5\")"
   ]
  },
  {
   "cell_type": "markdown",
   "metadata": {},
   "source": [
    "### View survey"
   ]
  },
  {
   "cell_type": "code",
   "execution_count": null,
   "metadata": {},
   "outputs": [],
   "source": [
    "from cosmogrb.universe.survey import Survey\n",
    "\n",
    "survey = Survey.from_file(simulation_folder + survey_name + \".h5\")\n",
    "survey.info()"
   ]
  },
  {
   "cell_type": "code",
   "execution_count": null,
   "metadata": {},
   "outputs": [],
   "source": [
    "for i in range(len(survey)):\n",
    "    print(f\"GRB {i}\")\n",
    "    for j in [\"alpha\", \"gamma\", \"Nrest\"]:\n",
    "        print(j, \"=\", survey['SynthGRB_' + str(i)].grb._source_params[j])\n",
    "    print(\"z =\", survey['SynthGRB_' + str(i)].grb.z)\n",
    "    print(\"duration =\", survey['SynthGRB_' + str(i)].grb.duration)\n",
    "    print()"
   ]
  },
  {
   "cell_type": "markdown",
   "metadata": {},
   "source": [
    "Light curves"
   ]
  },
  {
   "cell_type": "code",
   "execution_count": null,
   "metadata": {},
   "outputs": [],
   "source": [
    "%matplotlib widget\n",
    "for grb_name in survey:\n",
    "    fig, axes = plt.subplots(4,4,sharex=True,sharey=False,figsize=(10,10))\n",
    "    row = 0\n",
    "    col = 0\n",
    "    for k,v in survey[grb_name].grb.items():\n",
    "        ax = axes[row][col]\n",
    "\n",
    "        lightcurve = v['lightcurve']\n",
    "\n",
    "        lightcurve.display_lightcurve(dt=.5, ax=ax,lw=1,color='#25C68C')\n",
    "        lightcurve.display_source(dt=.5,ax=ax,lw=1,color=\"#A363DE\")\n",
    "        lightcurve.display_background(dt=.5,ax=ax,lw=1, color=\"#2C342E\")\n",
    "        ax.set_xlim(-10, 30)\n",
    "        ax.set_title(k,size=8)\n",
    "\n",
    "\n",
    "\n",
    "        if col < 3:\n",
    "            col+=1\n",
    "        else:\n",
    "            row+=1\n",
    "            col=0\n",
    "\n",
    "    #axes[3,2].set_visible(False)\n",
    "    #axes[3,3].set_visible(False)"
   ]
  },
  {
   "cell_type": "code",
   "execution_count": null,
   "metadata": {},
   "outputs": [],
   "source": []
  }
 ],
 "metadata": {
  "kernelspec": {
   "display_name": "Python 3.8.13 ('bachelor')",
   "language": "python",
   "name": "python3"
  },
  "language_info": {
   "codemirror_mode": {
    "name": "ipython",
    "version": 3
   },
   "file_extension": ".py",
   "mimetype": "text/x-python",
   "name": "python",
   "nbconvert_exporter": "python",
   "pygments_lexer": "ipython3",
   "version": "3.8.13"
  },
  "orig_nbformat": 4,
  "vscode": {
   "interpreter": {
    "hash": "c32814d9e11908585ccc181cca6c7dae7bdf3e835febbae23bde3821f1e724f7"
   }
  }
 },
 "nbformat": 4,
 "nbformat_minor": 2
}
