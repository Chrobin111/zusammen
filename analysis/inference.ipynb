{
 "cells": [
  {
   "cell_type": "code",
   "execution_count": null,
   "metadata": {},
   "outputs": [],
   "source": [
    "import os\n",
    "import sys\n",
    "\n",
    "import arviz as av\n",
    "import numpy as np\n",
    "\n",
    "from cosmogrb.universe.survey import Survey\n",
    "from threeML import update_logging_level\n",
    "update_logging_level(\"FATAL\")\n",
    "\n",
    "parent_dir = os.path.abspath(\"..\")\n",
    "if parent_dir not in sys.path:\n",
    "    sys.path.append(parent_dir)\n",
    "from zusammen import AnalysisBuilder, DataSet\n",
    "from zusammen.stan_models.stan_model import get_model"
   ]
  },
  {
   "cell_type": "code",
   "execution_count": null,
   "metadata": {},
   "outputs": [],
   "source": [
    "simulation_folder = \"simulation/\"\n",
    "survey_name = \"survey\"\n",
    "\n",
    "inference_folder = \"inference/\"\n",
    "data_name = \"data_sig_5\"\n",
    "\n",
    "model_name = \"cpl_simple_chunked_gc_global\"\n",
    "inference_name = \"global_sig_5_1000\""
   ]
  },
  {
   "cell_type": "markdown",
   "metadata": {},
   "source": [
    "Load survey"
   ]
  },
  {
   "cell_type": "code",
   "execution_count": null,
   "metadata": {},
   "outputs": [],
   "source": [
    "survey = Survey.from_file(simulation_folder + survey_name + \".h5\")\n",
    "ab = AnalysisBuilder(survey, use_bb=True, intervals_min=5, sig_min=2, all_above_limit=False, save_directory=inference_folder)\n",
    "\n",
    "ab.write_yaml(inference_folder + data_name + \".yml\")\n",
    "ds = DataSet.from_yaml(inference_folder + data_name + \".yml\")\n",
    "ds.to_hdf5_file(inference_folder + data_name + \".h5\")"
   ]
  },
  {
   "cell_type": "code",
   "execution_count": null,
   "metadata": {},
   "outputs": [],
   "source": [
    "ds = DataSet.from_hdf5_file(inference_folder + data_name + \".h5\")\n",
    "data = ds.to_stan_dict()"
   ]
  },
  {
   "cell_type": "markdown",
   "metadata": {},
   "source": [
    "Stan inference"
   ]
  },
  {
   "cell_type": "code",
   "execution_count": null,
   "metadata": {},
   "outputs": [],
   "source": [
    "m = get_model(model_name)"
   ]
  },
  {
   "cell_type": "code",
   "execution_count": null,
   "metadata": {},
   "outputs": [],
   "source": [
    "m.clean_model()"
   ]
  },
  {
   "cell_type": "code",
   "execution_count": null,
   "metadata": {},
   "outputs": [],
   "source": [
    "m.build_model(opt_exp=True)"
   ]
  },
  {
   "cell_type": "code",
   "execution_count": null,
   "metadata": {},
   "outputs": [],
   "source": [
    "n_threads = 2\n",
    "n_chains = 2\n",
    "n_warmup = 2000\n",
    "n_sampling = 1000\n",
    "\n",
    "fit = m.model.sample(\n",
    "    data=data,\n",
    "    chains=n_chains,\n",
    "    parallel_chains=n_chains,\n",
    "    threads_per_chain=n_threads,\n",
    "    inits= {\n",
    "        'alpha': -1 * np.ones(data['N_intervals']),\n",
    "        'log_ec': 2 * np.ones(data['N_intervals']),\n",
    "\n",
    "        'gamma_sig_meta': 1,\n",
    "        'log_Nrest_sig_meta': 1,\n",
    "        'gamma_mu_meta': 1.5,\n",
    "        'log_Nrest_mu_meta': 52,\n",
    "        'gamma': 1.5,# * np.ones(data['N_grbs']),\n",
    "        'log_Nrest': 52,# * np.ones(data['N_grbs']),\n",
    "    },  # type: ignore\n",
    "    iter_warmup=n_warmup,\n",
    "    iter_sampling=n_sampling,\n",
    "    # max_treedepth=12,\n",
    "    # adapt_delta=0.99,\n",
    "    # step_size=0.1,\n",
    "    show_progress=True,\n",
    "    refresh=1\n",
    ")"
   ]
  },
  {
   "cell_type": "code",
   "execution_count": null,
   "metadata": {},
   "outputs": [],
   "source": [
    "fit.diagnose()"
   ]
  },
  {
   "cell_type": "markdown",
   "metadata": {},
   "source": [
    "Save to NetCDF"
   ]
  },
  {
   "cell_type": "code",
   "execution_count": null,
   "metadata": {},
   "outputs": [],
   "source": [
    "res = av.from_cmdstanpy(fit)\n",
    "res.to_netcdf(inference_folder + inference_name + \".nc\")"
   ]
  },
  {
   "cell_type": "code",
   "execution_count": null,
   "metadata": {},
   "outputs": [],
   "source": []
  }
 ],
 "metadata": {
  "kernelspec": {
   "display_name": "Python 3.8.13 ('bachelor')",
   "language": "python",
   "name": "python3"
  },
  "language_info": {
   "codemirror_mode": {
    "name": "ipython",
    "version": 3
   },
   "file_extension": ".py",
   "mimetype": "text/x-python",
   "name": "python",
   "nbconvert_exporter": "python",
   "pygments_lexer": "ipython3",
   "version": "3.8.13"
  },
  "orig_nbformat": 4,
  "vscode": {
   "interpreter": {
    "hash": "c32814d9e11908585ccc181cca6c7dae7bdf3e835febbae23bde3821f1e724f7"
   }
  }
 },
 "nbformat": 4,
 "nbformat_minor": 2
}
