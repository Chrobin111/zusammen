{
 "cells": [
  {
   "cell_type": "code",
   "execution_count": null,
   "metadata": {},
   "outputs": [],
   "source": [
    "import numpy as np\n",
    "from threeML import FermiGBMBurstCatalog, download_GBM_trigger_data, TimeSeriesBuilder, update_logging_level\n",
    "\n",
    "update_logging_level(\"FATAL\")"
   ]
  },
  {
   "cell_type": "code",
   "execution_count": null,
   "metadata": {},
   "outputs": [],
   "source": [
    "grb_name = \"GRB160509374\"\n",
    "data_path = \"real_data/\" + grb_name"
   ]
  },
  {
   "cell_type": "code",
   "execution_count": null,
   "metadata": {},
   "outputs": [],
   "source": [
    "gbm_catalog = FermiGBMBurstCatalog()\n",
    "gbm_catalog.query_sources(grb_name)"
   ]
  },
  {
   "cell_type": "code",
   "execution_count": null,
   "metadata": {},
   "outputs": [],
   "source": [
    "det_info = gbm_catalog.get_detector_information()[grb_name]\n",
    "det_info"
   ]
  },
  {
   "cell_type": "code",
   "execution_count": null,
   "metadata": {},
   "outputs": [],
   "source": [
    "dload = download_GBM_trigger_data(\"bn160509374\", det_info[\"detectors\"], \"/tmp/GRB\")"
   ]
  },
  {
   "cell_type": "code",
   "execution_count": null,
   "metadata": {},
   "outputs": [],
   "source": [
    "dload.items()"
   ]
  },
  {
   "cell_type": "code",
   "execution_count": null,
   "metadata": {},
   "outputs": [],
   "source": [
    "fluence_plugins = []\n",
    "time_series = {}\n",
    "\n",
    "for i,det in enumerate(det_info[\"detectors\"]):\n",
    "    ts = TimeSeriesBuilder.from_gbm_cspec_or_ctime(\n",
    "        det, cspec_or_ctime_file=dload[det][\"cspec\"], rsp_file=dload[det][\"rsp\"]\n",
    "    )\n",
    "\n",
    "    ts.set_background_interval(\n",
    "        *det_info[\"background\"][\"full\"].split(\",\")\n",
    "    )\n",
    "    ts.save_background(f\"{data_path}/{det}_bkg.h5\", overwrite=True)\n",
    "\n",
    "    ts_tte = TimeSeriesBuilder.from_gbm_tte(\n",
    "        det,\n",
    "        tte_file=dload[det][\"tte\"],\n",
    "        rsp_file=dload[det][\"rsp\"],\n",
    "        restore_background=f\"{data_path}/{det}_bkg.h5\",\n",
    "    )\n",
    "\n",
    "    time_series[det] = ts_tte\n",
    "\n",
    "    ts_tte.set_active_time_interval(\"9-30\")\n",
    "\n",
    "    fluence_plugin = ts_tte.to_spectrumlike()\n",
    "\n",
    "    if det.startswith(\"b\"):\n",
    "\n",
    "        fluence_plugin.set_active_measurements(\"250-10000\")\n",
    "\n",
    "    else:\n",
    "\n",
    "        fluence_plugin.set_active_measurements(\"10-900\")\n",
    "\n",
    "    fluence_plugin.rebin_on_background(1.0)\n",
    "\n",
    "    fluence_plugins.append(fluence_plugin)"
   ]
  },
  {
   "cell_type": "code",
   "execution_count": null,
   "metadata": {},
   "outputs": [],
   "source": [
    "%matplotlib widget\n",
    "for i in time_series.values():\n",
    "    i.view_lightcurve(-40,100)"
   ]
  },
  {
   "cell_type": "code",
   "execution_count": null,
   "metadata": {},
   "outputs": [],
   "source": [
    "data = dict(\n",
    "    \n",
    ")"
   ]
  }
 ],
 "metadata": {
  "kernelspec": {
   "display_name": "Python 3.8.13 ('bachelor')",
   "language": "python",
   "name": "python3"
  },
  "language_info": {
   "codemirror_mode": {
    "name": "ipython",
    "version": 3
   },
   "file_extension": ".py",
   "mimetype": "text/x-python",
   "name": "python",
   "nbconvert_exporter": "python",
   "pygments_lexer": "ipython3",
   "version": "3.8.13"
  },
  "orig_nbformat": 4,
  "vscode": {
   "interpreter": {
    "hash": "c32814d9e11908585ccc181cca6c7dae7bdf3e835febbae23bde3821f1e724f7"
   }
  }
 },
 "nbformat": 4,
 "nbformat_minor": 2
}
