{
 "cells": [
  {
   "cell_type": "code",
   "execution_count": null,
   "metadata": {},
   "outputs": [],
   "source": [
    "from collections import OrderedDict\n",
    "import os\n",
    "import sys\n",
    "\n",
    "import numpy as np\n",
    "from threeML import FermiGBMBurstCatalog, download_GBM_trigger_data, TimeSeriesBuilder, update_logging_level\n",
    "import yaml\n",
    "\n",
    "parent_dir = os.path.abspath(\"..\")\n",
    "if parent_dir not in sys.path:\n",
    "    sys.path.append(parent_dir)\n",
    "from real_data import AnalysisBuilder\n",
    "from zusammen import DataSet\n",
    "\n",
    "update_logging_level(\"FATAL\")"
   ]
  },
  {
   "cell_type": "code",
   "execution_count": null,
   "metadata": {},
   "outputs": [],
   "source": [
    "grb_names = [\"GRB160509374\", \"GRB141028455\"]\n",
    "data_folder = \"real_data/\"\n",
    "data_paths = {grb: data_folder + grb for grb in grb_names}"
   ]
  },
  {
   "cell_type": "code",
   "execution_count": null,
   "metadata": {},
   "outputs": [],
   "source": [
    "z = dict(GRB160509374=1.17, GRB141028455=2.33)\n",
    "source_time = dict(GRB160509374=[9,24], GRB141028455=[6,22])"
   ]
  },
  {
   "cell_type": "markdown",
   "metadata": {},
   "source": [
    "### Download GRBs from Catalog"
   ]
  },
  {
   "cell_type": "code",
   "execution_count": null,
   "metadata": {},
   "outputs": [],
   "source": [
    "det_info = dict()\n",
    "gbm_catalog = FermiGBMBurstCatalog()\n",
    "for grb in grb_names:\n",
    "    gbm_catalog.query_sources(grb)\n",
    "    det_info[grb] = gbm_catalog.get_detector_information()[grb]\n",
    "det_info"
   ]
  },
  {
   "cell_type": "code",
   "execution_count": null,
   "metadata": {},
   "outputs": [],
   "source": [
    "dload_dict = dict()\n",
    "for grb, info in det_info.items():\n",
    "    dload = download_GBM_trigger_data(info[\"trigger\"], info[\"detectors\"], data_paths[grb], compress_tte=False)\n",
    "\n",
    "    dload_dict[grb] = OrderedDict()\n",
    "    dload_dict[grb][\"z\"] = z[grb]\n",
    "    dload_dict[grb][\"source_time\"] = source_time[grb]\n",
    "    for det, files in dload.items():\n",
    "        dload_dict[grb][str(det)] = OrderedDict()\n",
    "        for kind, path in files.items():\n",
    "            dload_dict[grb][str(det)][str(kind)] = str(path.absolute())"
   ]
  },
  {
   "cell_type": "code",
   "execution_count": null,
   "metadata": {},
   "outputs": [],
   "source": [
    "with open(data_folder + \"dload.yml\", \"r\") as f:\n",
    "    dload = yaml.load(f, Loader=yaml.SafeLoader)"
   ]
  },
  {
   "cell_type": "code",
   "execution_count": null,
   "metadata": {},
   "outputs": [],
   "source": [
    "file_name = data_folder + \"dload.yml\"\n",
    "with open(file_name, \"w\") as f:\n",
    "    yaml.dump(dload_dict, stream=f, default_flow_style=False)"
   ]
  },
  {
   "cell_type": "code",
   "execution_count": null,
   "metadata": {},
   "outputs": [],
   "source": [
    "dload_dict[grb_names[0]]"
   ]
  },
  {
   "cell_type": "code",
   "execution_count": null,
   "metadata": {},
   "outputs": [],
   "source": [
    "%matplotlib widget\n",
    "for grb in grb_names:\n",
    "    detector = det_info[grb][\"detectors\"][1]\n",
    "    ts_cspec = TimeSeriesBuilder.from_gbm_cspec_or_ctime(\n",
    "            detector, cspec_or_ctime_file=dload_dict[grb][detector][\"cspec\"], rsp_file=dload_dict[grb][detector][\"rsp\"]\n",
    "        )\n",
    "\n",
    "    print(grb)\n",
    "    ts_cspec.view_lightcurve(-10,60)"
   ]
  },
  {
   "cell_type": "markdown",
   "metadata": {},
   "source": [
    "### Analysis"
   ]
  },
  {
   "cell_type": "code",
   "execution_count": null,
   "metadata": {},
   "outputs": [],
   "source": [
    "ab = AnalysisBuilder(\"dload.yml\", data_folder, 5)\n",
    "ab.write_yaml(data_folder + \"data.yml\")\n",
    "\n",
    "ds = DataSet.from_yaml(data_folder + \"data.yml\")\n",
    "ds.to_hdf5_file(data_folder + \"data.h5\")"
   ]
  },
  {
   "cell_type": "code",
   "execution_count": null,
   "metadata": {},
   "outputs": [],
   "source": [
    "ds = DataSet.from_yaml(data_folder + \"data.yml\")\n",
    "ds.to_hdf5_file(data_folder + \"data.h5\")"
   ]
  },
  {
   "cell_type": "code",
   "execution_count": null,
   "metadata": {},
   "outputs": [],
   "source": []
  }
 ],
 "metadata": {
  "kernelspec": {
   "display_name": "Python 3.8.13 ('bachelor')",
   "language": "python",
   "name": "python3"
  },
  "language_info": {
   "codemirror_mode": {
    "name": "ipython",
    "version": 3
   },
   "file_extension": ".py",
   "mimetype": "text/x-python",
   "name": "python",
   "nbconvert_exporter": "python",
   "pygments_lexer": "ipython3",
   "version": "3.8.13"
  },
  "orig_nbformat": 4,
  "vscode": {
   "interpreter": {
    "hash": "c32814d9e11908585ccc181cca6c7dae7bdf3e835febbae23bde3821f1e724f7"
   }
  }
 },
 "nbformat": 4,
 "nbformat_minor": 2
}
