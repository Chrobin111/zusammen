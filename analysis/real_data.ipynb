{
 "cells": [
  {
   "cell_type": "code",
   "execution_count": null,
   "metadata": {},
   "outputs": [],
   "source": [
    "import os\n",
    "import sys\n",
    "from collections import OrderedDict\n",
    "from pathlib import Path\n",
    "\n",
    "import numpy as np\n",
    "from threeML import FermiGBMBurstCatalog, download_GBM_trigger_data, TimeSeriesBuilder, update_logging_level\n",
    "import yaml\n",
    "\n",
    "parent_dir = os.path.abspath(\"..\")\n",
    "if parent_dir not in sys.path:\n",
    "    sys.path.append(parent_dir)\n",
    "from real_data import AnalysisBuilder, SynchSample\n",
    "from zusammen import DataSet\n",
    "\n",
    "update_logging_level(\"FATAL\")"
   ]
  },
  {
   "cell_type": "code",
   "execution_count": null,
   "metadata": {},
   "outputs": [],
   "source": [
    "data_folder = \"real_data/\""
   ]
  },
  {
   "cell_type": "markdown",
   "metadata": {},
   "source": [
    "## Own Sample"
   ]
  },
  {
   "cell_type": "code",
   "execution_count": null,
   "metadata": {},
   "outputs": [],
   "source": [
    "grb_names = [\n",
    "    \"GRB160509374\",\n",
    "    \"GRB141028455\",\n",
    "    \"GRB140808038\",\n",
    "    \"GRB140606133\",\n",
    "    \"GRB131011741\",\n",
    "    \"GRB130518580\",\n",
    "    \"GRB120811649\",\n",
    "    \"GRB120729456\",\n",
    "    \"GRB120326056\",\n",
    "    \"GRB120119170\",\n",
    "    \"GRB110213220\",\n",
    "    \"GRB100816026\",\n",
    "    \"GRB100728439\",\n",
    "    \"GRB091020900\",\n",
    "    \"GRB090926914\",\n",
    "    \"GRB081222204\",\n",
    "    \"GRB081221681\",\n",
    "    \"GRB081118876\"\n",
    "]\n",
    "data_paths = {grb: data_folder + grb for grb in grb_names}\n",
    "len(grb_names)"
   ]
  },
  {
   "cell_type": "code",
   "execution_count": null,
   "metadata": {},
   "outputs": [],
   "source": [
    "z = dict(\n",
    "    GRB160509374=1.17,\n",
    "    GRB141028455=2.33,\n",
    "    GRB140808038=3.29,\n",
    "    GRB140606133=0.384,\n",
    "    GRB131011741=1.874,\n",
    "    GRB130518580=2.488,\n",
    "    GRB120811649=2.671,\n",
    "    GRB120729456=0.8,\n",
    "    GRB120326056=1.798,\n",
    "    GRB120119170=1.728,\n",
    "    GRB110213220=1.46,\n",
    "    GRB100816026=0.8049,\n",
    "    GRB100728439=2.106,\n",
    "    GRB091020900=1.71,\n",
    "    GRB090926914=1.24,\n",
    "    GRB081222204=2.77,\n",
    "    GRB081221681=2.26,\n",
    "    GRB081118876=2.58\n",
    ")\n",
    "source_time = dict(\n",
    "    GRB160509374=[9, 24],\n",
    "    GRB141028455=[6, 22],\n",
    "    GRB140808038=[0, 5],\n",
    "    GRB140606133=[0, 8],\n",
    "    GRB131011741=[0, 8],\n",
    "    GRB130518580=[23, 32],\n",
    "    GRB120811649=[-2, 9],\n",
    "    GRB120729456=[0, 8],\n",
    "    GRB120326056=[0, 8],\n",
    "    GRB120119170=[7, 23],\n",
    "    GRB110213220=[13, 23],\n",
    "    GRB100816026=[0, 5],\n",
    "    GRB100728439=[0, 6],\n",
    "    GRB091020900=[0, 10],\n",
    "    GRB090926914=[0, 40],\n",
    "    GRB081222204=[0, 14],\n",
    "    GRB081221681=[17, 34],\n",
    "    GRB081118876=[5, 13]\n",
    ")\n",
    "\n",
    "for i in grb_names:\n",
    "    assert i in z\n",
    "    assert i in source_time\n",
    "\n",
    "for i in z:\n",
    "    assert i in grb_names\n",
    "\n",
    "for i in source_time:\n",
    "    assert i in grb_names"
   ]
  },
  {
   "cell_type": "markdown",
   "metadata": {},
   "source": [
    "### Download GRBs from Catalog"
   ]
  },
  {
   "cell_type": "code",
   "execution_count": null,
   "metadata": {},
   "outputs": [],
   "source": [
    "det_info = dict()\n",
    "gbm_catalog = FermiGBMBurstCatalog()\n",
    "for grb in grb_names:\n",
    "    gbm_catalog.query_sources(grb)\n",
    "    det_info[grb] = gbm_catalog.get_detector_information()[grb]\n",
    "grb_names[-1], det_info[grb_names[-1]]"
   ]
  },
  {
   "cell_type": "code",
   "execution_count": null,
   "metadata": {},
   "outputs": [],
   "source": [
    "dload_dict = dict()\n",
    "for grb, info in det_info.items():\n",
    "    dload = download_GBM_trigger_data(info[\"trigger\"], info[\"detectors\"], data_paths[grb], compress_tte=False)\n",
    "\n",
    "    dload_dict[grb] = OrderedDict()\n",
    "    dload_dict[grb][\"z\"] = z[grb]\n",
    "    dload_dict[grb][\"source_time\"] = source_time[grb]\n",
    "    for det, files in dload.items():\n",
    "        dload_dict[grb][str(det)] = OrderedDict()\n",
    "        for kind, path in files.items():\n",
    "            dload_dict[grb][str(det)][str(kind)] = str(path.absolute())"
   ]
  },
  {
   "cell_type": "code",
   "execution_count": null,
   "metadata": {},
   "outputs": [],
   "source": [
    "with open(data_folder + \"dload.yml\", \"r\") as f:\n",
    "    dload = yaml.load(f, Loader=yaml.SafeLoader)"
   ]
  },
  {
   "cell_type": "code",
   "execution_count": null,
   "metadata": {},
   "outputs": [],
   "source": [
    "file_name = data_folder + \"dload.yml\"\n",
    "with open(file_name, \"w\") as f:\n",
    "    yaml.dump(dload_dict, stream=f, default_flow_style=False)"
   ]
  },
  {
   "cell_type": "code",
   "execution_count": null,
   "metadata": {},
   "outputs": [],
   "source": [
    "dload_dict[grb_names[0]]"
   ]
  },
  {
   "cell_type": "code",
   "execution_count": null,
   "metadata": {},
   "outputs": [],
   "source": [
    "%matplotlib widget\n",
    "grb = grb_names[0]\n",
    "detector = det_info[grb][\"detectors\"][1]\n",
    "ts_cspec = TimeSeriesBuilder.from_gbm_cspec_or_ctime(\n",
    "        detector, cspec_or_ctime_file=dload_dict[grb][detector][\"cspec\"], rsp_file=dload_dict[grb][detector][\"rsp\"]\n",
    "    )\n",
    "\n",
    "print(grb)\n",
    "ts_cspec.view_lightcurve(-10,60)"
   ]
  },
  {
   "cell_type": "markdown",
   "metadata": {},
   "source": [
    "### Analysis"
   ]
  },
  {
   "cell_type": "code",
   "execution_count": null,
   "metadata": {},
   "outputs": [],
   "source": [
    "ab = AnalysisBuilder(\"dload.yml\", data_folder, 5, 4)\n",
    "ab.write_yaml(data_folder + \"data.yml\")\n",
    "\n",
    "ds = DataSet.from_yaml(data_folder + \"data.yml\")\n",
    "ds.to_hdf5_file(data_folder + \"data.h5\")"
   ]
  },
  {
   "cell_type": "markdown",
   "metadata": {},
   "source": [
    "## Synch Sample"
   ]
  },
  {
   "cell_type": "code",
   "execution_count": null,
   "metadata": {},
   "outputs": [],
   "source": [
    "base_path = Path(data_folder)\n",
    "grb_names = [x.name for x in base_path.glob(\"GRB*\")]"
   ]
  },
  {
   "cell_type": "code",
   "execution_count": null,
   "metadata": {},
   "outputs": [],
   "source": [
    "ss = SynchSample(base_path=base_path, grb_names=grb_names, sig_min=5, interval_min=4)\n",
    "ss.write_yaml(data_folder + \"data.yml\")"
   ]
  },
  {
   "cell_type": "code",
   "execution_count": 11,
   "metadata": {},
   "outputs": [],
   "source": [
    "ds = DataSet.from_yaml(data_folder + \"data.yml\")\n",
    "ds.to_hdf5_file(data_folder + \"data.h5\")"
   ]
  },
  {
   "cell_type": "code",
   "execution_count": null,
   "metadata": {},
   "outputs": [],
   "source": []
  }
 ],
 "metadata": {
  "kernelspec": {
   "display_name": "Python 3.8.13 ('bachelor')",
   "language": "python",
   "name": "python3"
  },
  "language_info": {
   "codemirror_mode": {
    "name": "ipython",
    "version": 3
   },
   "file_extension": ".py",
   "mimetype": "text/x-python",
   "name": "python",
   "nbconvert_exporter": "python",
   "pygments_lexer": "ipython3",
   "version": "3.8.13"
  },
  "orig_nbformat": 4,
  "vscode": {
   "interpreter": {
    "hash": "c32814d9e11908585ccc181cca6c7dae7bdf3e835febbae23bde3821f1e724f7"
   }
  }
 },
 "nbformat": 4,
 "nbformat_minor": 2
}
