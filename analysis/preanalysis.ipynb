{
 "cells": [
  {
   "cell_type": "code",
   "execution_count": null,
   "metadata": {},
   "outputs": [],
   "source": [
    "import os\n",
    "import sys\n",
    "\n",
    "import arviz as av\n",
    "import astropy.units as u\n",
    "import matplotlib.pyplot as plt\n",
    "import numpy as np\n",
    "\n",
    "from astromodels import Cutoff_powerlaw, Model, PointSource\n",
    "from threeML import (\n",
    "    DataList,\n",
    "    JointLikelihood,\n",
    "    update_logging_level\n",
    ")\n",
    "update_logging_level(\"FATAL\")\n",
    "\n",
    "parent_dir = os.path.abspath(\"..\")\n",
    "if parent_dir not in sys.path:\n",
    "    sys.path.append(parent_dir)\n",
    "from zusammen import DataSet\n",
    "from zusammen.spectral_plot import display_posterior_model_counts\n",
    "\n",
    "example_dir = os.path.abspath(\"../examples\")\n",
    "if example_dir not in sys.path:\n",
    "    sys.path.append(example_dir)\n",
    "from cpl_prime import Cutoff_powerlaw_prime"
   ]
  },
  {
   "cell_type": "markdown",
   "metadata": {},
   "source": [
    "### Load data"
   ]
  },
  {
   "cell_type": "code",
   "execution_count": null,
   "metadata": {},
   "outputs": [],
   "source": [
    "inference_folder = \"inference/\"\n",
    "data_name = \"data_2_sig_5\"\n",
    "\n",
    "inference_name = \"relaxed_2_sig_5_1000\""
   ]
  },
  {
   "cell_type": "code",
   "execution_count": null,
   "metadata": {},
   "outputs": [],
   "source": [
    "ds = DataSet.from_hdf5_file(inference_folder + data_name + \".h5\")\n",
    "data = ds.to_stan_dict()\n",
    "res = av.from_netcdf(inference_folder + inference_name + \".nc\")"
   ]
  },
  {
   "cell_type": "markdown",
   "metadata": {},
   "source": [
    "### Quick arviz stats"
   ]
  },
  {
   "cell_type": "code",
   "execution_count": null,
   "metadata": {},
   "outputs": [],
   "source": [
    "res.sample_stats.tree_depth.max()"
   ]
  },
  {
   "cell_type": "code",
   "execution_count": null,
   "metadata": {},
   "outputs": [],
   "source": [
    "%matplotlib widget\n",
    "av.plot_trace(res)"
   ]
  },
  {
   "cell_type": "code",
   "execution_count": null,
   "metadata": {},
   "outputs": [],
   "source": [
    "div = res.sample_stats.diverging.stack(sample=(\"chain\", \"draw\")).values\n",
    "div.sum()"
   ]
  },
  {
   "cell_type": "code",
   "execution_count": null,
   "metadata": {},
   "outputs": [],
   "source": [
    "av.rhat(res)"
   ]
  },
  {
   "cell_type": "markdown",
   "metadata": {},
   "source": [
    "### Properly load the data"
   ]
  },
  {
   "cell_type": "code",
   "execution_count": null,
   "metadata": {},
   "outputs": [],
   "source": [
    "N_intervals = data[\"N_intervals\"]\n",
    "N_grbs = data[\"N_grbs\"]\n",
    "length = res.posterior.gamma.shape[0] * res.posterior.gamma.shape[1]\n",
    "\n",
    "alpha = np.zeros((N_intervals, length))\n",
    "log_ec = np.zeros((N_intervals, length))\n",
    "K_prime = np.zeros((N_intervals, length))\n",
    "K= np.zeros((N_intervals, length))\n",
    "log_energy_flux = np.zeros((N_intervals, length))\n",
    "log_epeak = np.zeros((N_intervals, length))\n",
    "if inference_name.startswith(\"global\"):\n",
    "    gamma = np.zeros((length))\n",
    "    log_Nrest = np.zeros((length))\n",
    "else:\n",
    "    gamma = np.zeros((N_grbs, length))\n",
    "    log_Nrest = np.zeros((N_grbs, length))\n",
    "div = np.zeros((N_intervals, length))\n",
    "samples = np.zeros((N_intervals, 3, length))\n",
    "dl = []\n",
    "\n",
    "for id in range(N_intervals):\n",
    "    alpha[id] = res.posterior.alpha.stack(sample=(\"chain\", \"draw\")).values[id]\n",
    "\n",
    "    log_ec[id] = res.posterior.log_ec.stack(sample=(\"chain\", \"draw\")).values[id]\n",
    "    K_prime[id] = res.posterior.K.stack(sample=(\"chain\", \"draw\")).values[id]\n",
    "    K[id] = (10**log_ec[id])**(-alpha[id])\n",
    "\n",
    "    log_epeak[id] = res.posterior.log_epeak.stack(sample=(\"chain\", \"draw\")).values[id]\n",
    "    log_energy_flux[id] = res.posterior.log_energy_flux.stack(sample=(\"chain\", \"draw\")).values[id]\n",
    "\n",
    "    div[id] = res.sample_stats.diverging.stack(sample=(\"chain\", \"draw\")).values\n",
    "\n",
    "    samples[id] = np.vstack((K_prime[id], alpha[id], 10.**log_ec[id]))\n",
    "\n",
    "if inference_name.startswith(\"global\"):\n",
    "    gamma = res.posterior.gamma.stack(sample=(\"chain\", \"draw\")).values\n",
    "    log_Nrest = res.posterior.log_Nrest.stack(sample=(\"chain\", \"draw\")).values\n",
    "else:\n",
    "    for id in range(N_grbs):\n",
    "        gamma[id] = res.posterior.gamma.stack(sample=(\"chain\", \"draw\")).values[id]\n",
    "        log_Nrest[id] = res.posterior.log_Nrest.stack(sample=(\"chain\", \"draw\")).values[id]"
   ]
  },
  {
   "cell_type": "code",
   "execution_count": null,
   "metadata": {},
   "outputs": [],
   "source": [
    "if inference_name.startswith(\"global\"):\n",
    "    print(gamma.mean())\n",
    "    print(av.hdi(gamma, 0.683))\n",
    "    print(av.hdi(gamma, 0.954))\n",
    "else:\n",
    "    print(np.mean(gamma,1))\n",
    "    print(av.hdi(gamma.T, 0.683))\n",
    "    print(av.hdi(gamma.T, 0.954))"
   ]
  },
  {
   "cell_type": "markdown",
   "metadata": {},
   "source": [
    "Show posterior model counts"
   ]
  },
  {
   "cell_type": "code",
   "execution_count": null,
   "metadata": {},
   "outputs": [],
   "source": [
    "%matplotlib widget\n",
    "\n",
    "bc = Cutoff_powerlaw_prime()\n",
    "\n",
    "bc.index.bounds = (None, None)\n",
    "bc.K.bounds = (None, None)\n",
    "bc.xc.bounds = (None, None)\n",
    "\n",
    "model = Model(PointSource(\"ps\",0,0, spectral_shape=bc))\n",
    "\n",
    "# for id in range(2):#range(data[\"N_intervals\"]):\n",
    "id = 1\n",
    "display_posterior_model_counts(\n",
    "    ds.get_data_list_of_interval(id)[1], model, samples[id].T[::20], min_rate=1e-99\n",
    ")"
   ]
  },
  {
   "cell_type": "markdown",
   "metadata": {},
   "source": [
    "3ML fit"
   ]
  },
  {
   "cell_type": "code",
   "execution_count": null,
   "metadata": {},
   "outputs": [],
   "source": [
    "F_3ml, epeak_3ml = np.zeros(data[\"N_intervals\"]), np.zeros(data[\"N_intervals\"])\n",
    "\n",
    "cpl = Cutoff_powerlaw(piv=100,K=1e-1,xc=200)\n",
    "model = Model(PointSource(\"ps\",0,0, spectral_shape=cpl))\n",
    "\n",
    "for i in range(data[\"N_intervals\"]):\n",
    "    dl = ds.get_data_list_of_interval(i)\n",
    "    ba = JointLikelihood(model,DataList(*dl))\n",
    "    ba.fit()\n",
    "    ec_3ml = ba.results.get_data_frame()[\"value\"][\"ps.spectrum.main.Cutoff_powerlaw.xc\"]\n",
    "    alpha_3ml = ba.results.get_data_frame()[\"value\"][\"ps.spectrum.main.Cutoff_powerlaw.index\"]\n",
    "    epeak_3ml[i] = (2 + alpha_3ml) * ec_3ml\n",
    "    F_3ml[i] = ba.results.get_flux(10*u.keV, 10e4*u.keV)[\"flux\"][0].value"
   ]
  },
  {
   "cell_type": "markdown",
   "metadata": {},
   "source": [
    "Show GC"
   ]
  },
  {
   "cell_type": "code",
   "execution_count": null,
   "metadata": {},
   "outputs": [],
   "source": [
    "%matplotlib widget\n",
    "def gc_log(log_epeak, log_Nrest, gamma, z, dl):\n",
    "    return log_Nrest - (1.099 + 2 * np.log10(dl)) + gamma * (np.log10(1 + z) + log_epeak - 2)\n",
    "\n",
    "plt.scatter(np.mean(log_epeak, 1), np.mean(log_energy_flux,1))\n",
    "log_epeak_sort = np.linspace(0.5,3)\n",
    "z = [data[\"z\"][0]] + [j for i,j in zip(data[\"z\"], data[\"z\"][1:]) if i != j]\n",
    "d_l = [data[\"dl\"][0]] + [j for i,j in zip(data[\"dl\"], data[\"dl\"][1:]) if i != j]\n",
    "for i in range(data[\"N_grbs\"]):\n",
    "    plt.plot(log_epeak_sort, gc_log(log_epeak_sort, 52, 1.5, z[i], d_l[i]))"
   ]
  }
 ],
 "metadata": {
  "kernelspec": {
   "display_name": "Python 3.8.13 ('bachelor')",
   "language": "python",
   "name": "python3"
  },
  "language_info": {
   "codemirror_mode": {
    "name": "ipython",
    "version": 3
   },
   "file_extension": ".py",
   "mimetype": "text/x-python",
   "name": "python",
   "nbconvert_exporter": "python",
   "pygments_lexer": "ipython3",
   "version": "3.8.13"
  },
  "orig_nbformat": 4,
  "vscode": {
   "interpreter": {
    "hash": "c32814d9e11908585ccc181cca6c7dae7bdf3e835febbae23bde3821f1e724f7"
   }
  }
 },
 "nbformat": 4,
 "nbformat_minor": 2
}
